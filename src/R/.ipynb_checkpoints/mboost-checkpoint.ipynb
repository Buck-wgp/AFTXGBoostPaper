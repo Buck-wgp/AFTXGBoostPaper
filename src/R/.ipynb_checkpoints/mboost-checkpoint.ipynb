{
 "cells": [
  {
   "cell_type": "code",
   "execution_count": 2,
   "metadata": {},
   "outputs": [],
   "source": [
    "library(mboost)\n",
    "library(survival)\n",
    "library(penaltyLearning)\n",
    "library(Hmisc)\n",
    "library(caret)\n",
    "library(tbm)\n",
    "library(tram)"
   ]
  },
  {
   "cell_type": "code",
   "execution_count": 3,
   "metadata": {},
   "outputs": [],
   "source": [
    "data_import =function(dataname){\n",
    "  filename = paste('https://raw.githubusercontent.com/avinashbarnwal/GSOC-2019/master/AFT/test/data/neuroblastoma-data-master/data/',dataname,'/',sep=\"\")\n",
    "  inputFileName = paste(filename,'inputs.csv',sep=\"\")\n",
    "  labelFileName = paste(filename,'outputs.csv',sep=\"\")\n",
    "  foldsFileName = paste(filename,'cv/equal_labels/folds.csv',sep=\"\")\n",
    "  inputs        = read.table(inputFileName,sep=\",\",header=T,stringsAsFactors = F,row.names=1)\n",
    "  labels        = read.table(labelFileName,sep=\",\",header=T,stringsAsFactors = F,row.names=1)\n",
    "  folds         = read.table(foldsFileName,sep=\",\",header=T,stringsAsFactors = F,row.names=1)\n",
    "  res           = list()\n",
    "  res$inputs    = inputs\n",
    "  res$labels    = labels\n",
    "  res$folds     = folds\n",
    "  return(res)\n",
    "}"
   ]
  },
  {
   "cell_type": "code",
   "execution_count": 4,
   "metadata": {},
   "outputs": [],
   "source": [
    "data_massage = function(inputs,labels){\n",
    "    rownamesInput = rownames(inputs)\n",
    "    inputs        = do.call(data.frame,lapply(inputs, function(x) replace(x, is.infinite(x),NA)))\n",
    "    naColumns     = colnames(inputs)[colSums(is.na(inputs))>0]\n",
    "    noVarCol      = getNonVarCols(inputs)\n",
    "    removeCols    = c(naColumns,noVarCol)\n",
    "    inputs        = inputs[ , !(colnames(inputs) %in% removeCols)]\n",
    "    rownames(inputs) = rownamesInput\n",
    "    labels$min.log.lambda = unlist(lapply(labels$min.log.lambda,exp))\n",
    "    labels$max.log.lambda = unlist(lapply(labels$max.log.lambda,exp))\n",
    "    res        = list()\n",
    "    res$inputs = inputs\n",
    "    res$labels = labels\n",
    "    return(res)\n",
    "}"
   ]
  },
  {
   "cell_type": "code",
   "execution_count": 5,
   "metadata": {},
   "outputs": [],
   "source": [
    "getXY<-function(foldNo,folds,inputs,labels){\n",
    "    test.id       = rownames(subset(folds,fold==foldNo))\n",
    "    train.id      = rownames(subset(folds,fold!=foldNo))\n",
    "    X             = subset(inputs,rownames(inputs) %in% train.id)\n",
    "    X             = as.matrix(X)\n",
    "    X.val         = subset(inputs,rownames(inputs) %in% test.id)\n",
    "    X.val         = as.matrix(X.val)\n",
    "    y.label       = subset(labels,rownames(labels) %in% train.id)\n",
    "    y.label.test  = subset(labels,rownames(labels) %in% test.id)\n",
    "    y.lower       = as.matrix(y.label$min.log.lambda)\n",
    "    y.upper       = as.matrix(y.label$max.log.lambda)\n",
    "    y.lower.val   = as.matrix(y.label.test$min.log.lambda)\n",
    "    y.upper.val   = as.matrix(y.label.test$max.log.lambda)\n",
    "    res           = list()\n",
    "    res$X         = X\n",
    "    res$X.val     = X.val\n",
    "    res$y.lower      = y.lower\n",
    "    res$y.lower.val  = y.lower.val\n",
    "    res$y.upper      = y.upper\n",
    "    res$y.upper.val  = y.upper.val\n",
    "    return(res)\n",
    "}"
   ]
  },
  {
   "cell_type": "code",
   "execution_count": 6,
   "metadata": {},
   "outputs": [],
   "source": [
    "getNonVarCols<-function(data){\n",
    "    var_columns    = apply(inputs,2,var)\n",
    "    resCol         = names(var_columns[var_columns==0.0])\n",
    "    return(resCol)\n",
    "}"
   ]
  },
  {
   "cell_type": "code",
   "execution_count": 7,
   "metadata": {},
   "outputs": [],
   "source": [
    "# Set Parameters\n",
    "dataNameRange       = c('ATAC_JV_adipose','CTCF_TDH_ENCODE','H3K27ac-H3K4me3_TDHAM_BP','H3K27ac_TDH_some','H3K36me3_AM_immune')\n",
    "sigma_range         = c(1,2,5,10,100)\n",
    "distribution_range  = c('normal','logistic','extreme')\n",
    "learning_rate       = 0.1\n",
    "num_round           = 200"
   ]
  },
  {
   "cell_type": "code",
   "execution_count": 8,
   "metadata": {},
   "outputs": [],
   "source": [
    "res                 = data_import(dataNameRange[1])\n",
    "inputs              = res$inputs\n",
    "labels              = res$labels\n",
    "folds               = res$folds\n",
    "resDataMassage      = data_massage(inputs,labels)\n",
    "inputs              = resDataMassage$inputs\n",
    "labels              = resDataMassage$labels\n",
    "fold_iter           = unique(folds$fold)\n",
    "accuracy_fold       = numeric(length(fold_iter))\n",
    "coef_model          = list()"
   ]
  },
  {
   "cell_type": "code",
   "execution_count": 9,
   "metadata": {},
   "outputs": [],
   "source": [
    "getaccuracy=function(pred,y_lower,y_higher){\n",
    "    res = (pred>=y_lower & pred<=y_higher)\n",
    "    return(res)\n",
    "}"
   ]
  },
  {
   "cell_type": "code",
   "execution_count": 12,
   "metadata": {},
   "outputs": [
    {
     "name": "stderr",
     "output_type": "stream",
     "text": [
      "Warning message in optimize(risk, interval = c(0, max(log(y[, 1]), na.rm = TRUE)), :\n",
      "“NA/Inf replaced by maximum positive value”\n",
      "Warning message in optimize(risk, interval = c(0, max(log(y[, 1]), na.rm = TRUE)), :\n",
      "“NA/Inf replaced by maximum positive value”\n",
      "Warning message in optimize(risk, interval = c(0, max(log(y[, 1]), na.rm = TRUE)), :\n",
      "“NA/Inf replaced by maximum positive value”\n",
      "Warning message in optimize(risk, interval = c(0, max(log(y[, 1]), na.rm = TRUE)), :\n",
      "“NA/Inf replaced by maximum positive value”\n",
      "Warning message in optimize(risk, interval = c(0, max(log(y[, 1]), na.rm = TRUE)), :\n",
      "“NA/Inf replaced by maximum positive value”\n",
      "Warning message in optimize(risk, interval = c(0, max(log(y[, 1]), na.rm = TRUE)), :\n",
      "“NA/Inf replaced by maximum positive value”\n",
      "Warning message in optimize(risk, interval = c(0, max(log(y[, 1]), na.rm = TRUE)), :\n",
      "“NA/Inf replaced by maximum positive value”\n",
      "Warning message in optimize(risk, interval = c(0, max(log(y[, 1]), na.rm = TRUE)), :\n",
      "“NA/Inf replaced by maximum positive value”\n",
      "Warning message in optimize(risk, interval = c(0, max(log(y[, 1]), na.rm = TRUE)), :\n",
      "“NA/Inf replaced by maximum positive value”\n",
      "Warning message in optimize(risk, interval = c(0, max(log(y[, 1]), na.rm = TRUE)), :\n",
      "“NA/Inf replaced by maximum positive value”\n",
      "Warning message in optimize(risk, interval = c(0, max(log(y[, 1]), na.rm = TRUE)), :\n",
      "“NA/Inf replaced by maximum positive value”\n",
      "Warning message in optimize(riskS, interval = nuirange, y = y, fit = f, w = w):\n",
      "“NA/Inf replaced by maximum positive value”\n",
      "Warning message in optimize(riskS, interval = nuirange, y = y, fit = f, w = w):\n",
      "“NA/Inf replaced by maximum positive value”\n",
      "Warning message in optimize(riskS, interval = nuirange, y = y, fit = f, w = w):\n",
      "“NA/Inf replaced by maximum positive value”\n",
      "Warning message in optimize(riskS, interval = nuirange, y = y, fit = f, w = w):\n",
      "“NA/Inf replaced by maximum positive value”\n",
      "Warning message in optimize(riskS, interval = nuirange, y = y, fit = f, w = w):\n",
      "“NA/Inf replaced by maximum positive value”\n",
      "Warning message in optimize(riskS, interval = nuirange, y = y, fit = f, w = w):\n",
      "“NA/Inf replaced by maximum positive value”\n",
      "Warning message in optimize(riskS, interval = nuirange, y = y, fit = f, w = w):\n",
      "“NA/Inf replaced by maximum positive value”\n",
      "Warning message in optimize(riskS, interval = nuirange, y = y, fit = f, w = w):\n",
      "“NA/Inf replaced by maximum positive value”\n",
      "Warning message in optimize(riskS, interval = nuirange, y = y, fit = f, w = w):\n",
      "“NA/Inf replaced by maximum positive value”\n",
      "Warning message in optimize(riskS, interval = nuirange, y = y, fit = f, w = w):\n",
      "“NA/Inf replaced by maximum positive value”\n",
      "Warning message in optimize(riskS, interval = nuirange, y = y, fit = f, w = w):\n",
      "“NA/Inf replaced by maximum positive value”\n",
      "Warning message in optimize(riskS, interval = nuirange, y = y, fit = f, w = w):\n",
      "“NA/Inf replaced by maximum positive value”\n",
      "Warning message in optimize(riskS, interval = nuirange, y = y, fit = f, w = w):\n",
      "“NA/Inf replaced by maximum positive value”\n",
      "Warning message in optimize(riskS, interval = nuirange, y = y, fit = f, w = w):\n",
      "“NA/Inf replaced by maximum positive value”\n"
     ]
    },
    {
     "name": "stdout",
     "output_type": "stream",
     "text": [
      "[   1] "
     ]
    },
    {
     "name": "stderr",
     "output_type": "stream",
     "text": [
      "Warning message in optimize(riskS, interval = nuirange, y = y, fit = f, w = w):\n",
      "“NA/Inf replaced by maximum positive value”\n",
      "Warning message in optimize(riskS, interval = nuirange, y = y, fit = f, w = w):\n",
      "“NA/Inf replaced by maximum positive value”\n",
      "Warning message in optimize(riskS, interval = nuirange, y = y, fit = f, w = w):\n",
      "“NA/Inf replaced by maximum positive value”\n",
      "Warning message in optimize(riskS, interval = nuirange, y = y, fit = f, w = w):\n",
      "“NA/Inf replaced by maximum positive value”\n",
      "Warning message in optimize(riskS, interval = nuirange, y = y, fit = f, w = w):\n",
      "“NA/Inf replaced by maximum positive value”\n",
      "Warning message in optimize(riskS, interval = nuirange, y = y, fit = f, w = w):\n",
      "“NA/Inf replaced by maximum positive value”\n",
      "Warning message in optimize(riskS, interval = nuirange, y = y, fit = f, w = w):\n",
      "“NA/Inf replaced by maximum positive value”\n",
      "Warning message in optimize(riskS, interval = nuirange, y = y, fit = f, w = w):\n",
      "“NA/Inf replaced by maximum positive value”\n",
      "Warning message in optimize(riskS, interval = nuirange, y = y, fit = f, w = w):\n",
      "“NA/Inf replaced by maximum positive value”\n",
      "Warning message in optimize(riskS, interval = nuirange, y = y, fit = f, w = w):\n",
      "“NA/Inf replaced by maximum positive value”\n"
     ]
    },
    {
     "name": "stdout",
     "output_type": "stream",
     "text": [
      "."
     ]
    },
    {
     "name": "stderr",
     "output_type": "stream",
     "text": [
      "Warning message in optimize(riskS, interval = nuirange, y = y, fit = f, w = w):\n",
      "“NA/Inf replaced by maximum positive value”\n",
      "Warning message in optimize(riskS, interval = nuirange, y = y, fit = f, w = w):\n",
      "“NA/Inf replaced by maximum positive value”\n",
      "Warning message in optimize(riskS, interval = nuirange, y = y, fit = f, w = w):\n",
      "“NA/Inf replaced by maximum positive value”\n",
      "Warning message in optimize(riskS, interval = nuirange, y = y, fit = f, w = w):\n",
      "“NA/Inf replaced by maximum positive value”\n",
      "Warning message in optimize(riskS, interval = nuirange, y = y, fit = f, w = w):\n",
      "“NA/Inf replaced by maximum positive value”\n",
      "Warning message in optimize(riskS, interval = nuirange, y = y, fit = f, w = w):\n",
      "“NA/Inf replaced by maximum positive value”\n",
      "Warning message in optimize(riskS, interval = nuirange, y = y, fit = f, w = w):\n",
      "“NA/Inf replaced by maximum positive value”\n",
      "Warning message in optimize(riskS, interval = nuirange, y = y, fit = f, w = w):\n",
      "“NA/Inf replaced by maximum positive value”\n"
     ]
    },
    {
     "name": "stdout",
     "output_type": "stream",
     "text": [
      "."
     ]
    },
    {
     "name": "stderr",
     "output_type": "stream",
     "text": [
      "Warning message in optimize(riskS, interval = nuirange, y = y, fit = f, w = w):\n",
      "“NA/Inf replaced by maximum positive value”\n",
      "Warning message in optimize(riskS, interval = nuirange, y = y, fit = f, w = w):\n",
      "“NA/Inf replaced by maximum positive value”\n",
      "Warning message in optimize(riskS, interval = nuirange, y = y, fit = f, w = w):\n",
      "“NA/Inf replaced by maximum positive value”\n",
      "Warning message in optimize(riskS, interval = nuirange, y = y, fit = f, w = w):\n",
      "“NA/Inf replaced by maximum positive value”\n",
      "Warning message in optimize(riskS, interval = nuirange, y = y, fit = f, w = w):\n",
      "“NA/Inf replaced by maximum positive value”\n",
      "Warning message in optimize(riskS, interval = nuirange, y = y, fit = f, w = w):\n",
      "“NA/Inf replaced by maximum positive value”\n",
      "Warning message in optimize(riskS, interval = nuirange, y = y, fit = f, w = w):\n",
      "“NA/Inf replaced by maximum positive value”\n"
     ]
    },
    {
     "name": "stdout",
     "output_type": "stream",
     "text": [
      "."
     ]
    },
    {
     "name": "stderr",
     "output_type": "stream",
     "text": [
      "Warning message in optimize(riskS, interval = nuirange, y = y, fit = f, w = w):\n",
      "“NA/Inf replaced by maximum positive value”\n",
      "Warning message in optimize(riskS, interval = nuirange, y = y, fit = f, w = w):\n",
      "“NA/Inf replaced by maximum positive value”\n",
      "Warning message in optimize(riskS, interval = nuirange, y = y, fit = f, w = w):\n",
      "“NA/Inf replaced by maximum positive value”\n",
      "Warning message in optimize(riskS, interval = nuirange, y = y, fit = f, w = w):\n",
      "“NA/Inf replaced by maximum positive value”\n",
      "Warning message in optimize(riskS, interval = nuirange, y = y, fit = f, w = w):\n",
      "“NA/Inf replaced by maximum positive value”\n",
      "Warning message in optimize(riskS, interval = nuirange, y = y, fit = f, w = w):\n",
      "“NA/Inf replaced by maximum positive value”\n",
      "Warning message in optimize(riskS, interval = nuirange, y = y, fit = f, w = w):\n",
      "“NA/Inf replaced by maximum positive value”\n",
      "Warning message in optimize(riskS, interval = nuirange, y = y, fit = f, w = w):\n",
      "“NA/Inf replaced by maximum positive value”\n",
      "Warning message in optimize(riskS, interval = nuirange, y = y, fit = f, w = w):\n",
      "“NA/Inf replaced by maximum positive value”\n"
     ]
    },
    {
     "name": "stdout",
     "output_type": "stream",
     "text": [
      "."
     ]
    },
    {
     "name": "stderr",
     "output_type": "stream",
     "text": [
      "Warning message in optimize(riskS, interval = nuirange, y = y, fit = f, w = w):\n",
      "“NA/Inf replaced by maximum positive value”\n",
      "Warning message in optimize(riskS, interval = nuirange, y = y, fit = f, w = w):\n",
      "“NA/Inf replaced by maximum positive value”\n",
      "Warning message in optimize(riskS, interval = nuirange, y = y, fit = f, w = w):\n",
      "“NA/Inf replaced by maximum positive value”\n",
      "Warning message in optimize(riskS, interval = nuirange, y = y, fit = f, w = w):\n",
      "“NA/Inf replaced by maximum positive value”\n"
     ]
    },
    {
     "name": "stdout",
     "output_type": "stream",
     "text": [
      "."
     ]
    },
    {
     "name": "stderr",
     "output_type": "stream",
     "text": [
      "Warning message in optimize(riskS, interval = nuirange, y = y, fit = f, w = w):\n",
      "“NA/Inf replaced by maximum positive value”\n",
      "Warning message in optimize(riskS, interval = nuirange, y = y, fit = f, w = w):\n",
      "“NA/Inf replaced by maximum positive value”\n",
      "Warning message in optimize(riskS, interval = nuirange, y = y, fit = f, w = w):\n",
      "“NA/Inf replaced by maximum positive value”\n",
      "Warning message in optimize(riskS, interval = nuirange, y = y, fit = f, w = w):\n",
      "“NA/Inf replaced by maximum positive value”\n"
     ]
    },
    {
     "name": "stdout",
     "output_type": "stream",
     "text": [
      "."
     ]
    },
    {
     "name": "stderr",
     "output_type": "stream",
     "text": [
      "Warning message in optimize(riskS, interval = nuirange, y = y, fit = f, w = w):\n",
      "“NA/Inf replaced by maximum positive value”\n",
      "Warning message in optimize(riskS, interval = nuirange, y = y, fit = f, w = w):\n",
      "“NA/Inf replaced by maximum positive value”\n",
      "Warning message in optimize(riskS, interval = nuirange, y = y, fit = f, w = w):\n",
      "“NA/Inf replaced by maximum positive value”\n",
      "Warning message in optimize(riskS, interval = nuirange, y = y, fit = f, w = w):\n",
      "“NA/Inf replaced by maximum positive value”\n",
      "Warning message in optimize(riskS, interval = nuirange, y = y, fit = f, w = w):\n",
      "“NA/Inf replaced by maximum positive value”\n",
      "Warning message in optimize(riskS, interval = nuirange, y = y, fit = f, w = w):\n",
      "“NA/Inf replaced by maximum positive value”\n"
     ]
    },
    {
     "name": "stdout",
     "output_type": "stream",
     "text": [
      "."
     ]
    },
    {
     "name": "stderr",
     "output_type": "stream",
     "text": [
      "Warning message in optimize(riskS, interval = nuirange, y = y, fit = f, w = w):\n",
      "“NA/Inf replaced by maximum positive value”\n",
      "Warning message in optimize(riskS, interval = nuirange, y = y, fit = f, w = w):\n",
      "“NA/Inf replaced by maximum positive value”\n",
      "Warning message in optimize(riskS, interval = nuirange, y = y, fit = f, w = w):\n",
      "“NA/Inf replaced by maximum positive value”\n",
      "Warning message in optimize(riskS, interval = nuirange, y = y, fit = f, w = w):\n",
      "“NA/Inf replaced by maximum positive value”\n",
      "Warning message in optimize(riskS, interval = nuirange, y = y, fit = f, w = w):\n",
      "“NA/Inf replaced by maximum positive value”\n",
      "Warning message in optimize(riskS, interval = nuirange, y = y, fit = f, w = w):\n",
      "“NA/Inf replaced by maximum positive value”\n"
     ]
    },
    {
     "name": "stdout",
     "output_type": "stream",
     "text": [
      "."
     ]
    },
    {
     "name": "stderr",
     "output_type": "stream",
     "text": [
      "Warning message in optimize(riskS, interval = nuirange, y = y, fit = f, w = w):\n",
      "“NA/Inf replaced by maximum positive value”\n",
      "Warning message in optimize(riskS, interval = nuirange, y = y, fit = f, w = w):\n",
      "“NA/Inf replaced by maximum positive value”\n",
      "Warning message in optimize(riskS, interval = nuirange, y = y, fit = f, w = w):\n",
      "“NA/Inf replaced by maximum positive value”\n",
      "Warning message in optimize(riskS, interval = nuirange, y = y, fit = f, w = w):\n",
      "“NA/Inf replaced by maximum positive value”\n",
      "Warning message in optimize(riskS, interval = nuirange, y = y, fit = f, w = w):\n",
      "“NA/Inf replaced by maximum positive value”\n",
      "Warning message in optimize(riskS, interval = nuirange, y = y, fit = f, w = w):\n",
      "“NA/Inf replaced by maximum positive value”\n"
     ]
    },
    {
     "name": "stdout",
     "output_type": "stream",
     "text": [
      "."
     ]
    },
    {
     "name": "stderr",
     "output_type": "stream",
     "text": [
      "Warning message in optimize(riskS, interval = nuirange, y = y, fit = f, w = w):\n",
      "“NA/Inf replaced by maximum positive value”\n",
      "Warning message in optimize(riskS, interval = nuirange, y = y, fit = f, w = w):\n",
      "“NA/Inf replaced by maximum positive value”\n",
      "Warning message in optimize(riskS, interval = nuirange, y = y, fit = f, w = w):\n",
      "“NA/Inf replaced by maximum positive value”\n",
      "Warning message in optimize(riskS, interval = nuirange, y = y, fit = f, w = w):\n",
      "“NA/Inf replaced by maximum positive value”\n"
     ]
    },
    {
     "name": "stdout",
     "output_type": "stream",
     "text": [
      "."
     ]
    },
    {
     "name": "stderr",
     "output_type": "stream",
     "text": [
      "Warning message in optimize(riskS, interval = nuirange, y = y, fit = f, w = w):\n",
      "“NA/Inf replaced by maximum positive value”\n",
      "Warning message in optimize(riskS, interval = nuirange, y = y, fit = f, w = w):\n",
      "“NA/Inf replaced by maximum positive value”\n",
      "Warning message in optimize(riskS, interval = nuirange, y = y, fit = f, w = w):\n",
      "“NA/Inf replaced by maximum positive value”\n"
     ]
    },
    {
     "name": "stdout",
     "output_type": "stream",
     "text": [
      "."
     ]
    },
    {
     "name": "stderr",
     "output_type": "stream",
     "text": [
      "Warning message in optimize(riskS, interval = nuirange, y = y, fit = f, w = w):\n",
      "“NA/Inf replaced by maximum positive value”\n",
      "Warning message in optimize(riskS, interval = nuirange, y = y, fit = f, w = w):\n",
      "“NA/Inf replaced by maximum positive value”\n",
      "Warning message in optimize(riskS, interval = nuirange, y = y, fit = f, w = w):\n",
      "“NA/Inf replaced by maximum positive value”\n",
      "Warning message in optimize(riskS, interval = nuirange, y = y, fit = f, w = w):\n",
      "“NA/Inf replaced by maximum positive value”\n"
     ]
    },
    {
     "name": "stdout",
     "output_type": "stream",
     "text": [
      "."
     ]
    },
    {
     "name": "stderr",
     "output_type": "stream",
     "text": [
      "Warning message in optimize(riskS, interval = nuirange, y = y, fit = f, w = w):\n",
      "“NA/Inf replaced by maximum positive value”\n",
      "Warning message in optimize(riskS, interval = nuirange, y = y, fit = f, w = w):\n",
      "“NA/Inf replaced by maximum positive value”\n",
      "Warning message in optimize(riskS, interval = nuirange, y = y, fit = f, w = w):\n",
      "“NA/Inf replaced by maximum positive value”\n",
      "Warning message in optimize(riskS, interval = nuirange, y = y, fit = f, w = w):\n",
      "“NA/Inf replaced by maximum positive value”\n",
      "Warning message in optimize(riskS, interval = nuirange, y = y, fit = f, w = w):\n",
      "“NA/Inf replaced by maximum positive value”\n"
     ]
    },
    {
     "name": "stdout",
     "output_type": "stream",
     "text": [
      "."
     ]
    },
    {
     "name": "stderr",
     "output_type": "stream",
     "text": [
      "Warning message in optimize(riskS, interval = nuirange, y = y, fit = f, w = w):\n",
      "“NA/Inf replaced by maximum positive value”\n",
      "Warning message in optimize(riskS, interval = nuirange, y = y, fit = f, w = w):\n",
      "“NA/Inf replaced by maximum positive value”\n",
      "Warning message in optimize(riskS, interval = nuirange, y = y, fit = f, w = w):\n",
      "“NA/Inf replaced by maximum positive value”\n",
      "Warning message in optimize(riskS, interval = nuirange, y = y, fit = f, w = w):\n",
      "“NA/Inf replaced by maximum positive value”\n",
      "Warning message in optimize(riskS, interval = nuirange, y = y, fit = f, w = w):\n",
      "“NA/Inf replaced by maximum positive value”\n"
     ]
    },
    {
     "name": "stdout",
     "output_type": "stream",
     "text": [
      "."
     ]
    },
    {
     "name": "stderr",
     "output_type": "stream",
     "text": [
      "Warning message in optimize(riskS, interval = nuirange, y = y, fit = f, w = w):\n",
      "“NA/Inf replaced by maximum positive value”\n",
      "Warning message in optimize(riskS, interval = nuirange, y = y, fit = f, w = w):\n",
      "“NA/Inf replaced by maximum positive value”\n",
      "Warning message in optimize(riskS, interval = nuirange, y = y, fit = f, w = w):\n",
      "“NA/Inf replaced by maximum positive value”\n",
      "Warning message in optimize(riskS, interval = nuirange, y = y, fit = f, w = w):\n",
      "“NA/Inf replaced by maximum positive value”\n",
      "Warning message in optimize(riskS, interval = nuirange, y = y, fit = f, w = w):\n",
      "“NA/Inf replaced by maximum positive value”\n",
      "Warning message in optimize(riskS, interval = nuirange, y = y, fit = f, w = w):\n",
      "“NA/Inf replaced by maximum positive value”\n",
      "Warning message in optimize(riskS, interval = nuirange, y = y, fit = f, w = w):\n",
      "“NA/Inf replaced by maximum positive value”\n",
      "Warning message in optimize(riskS, interval = nuirange, y = y, fit = f, w = w):\n",
      "“NA/Inf replaced by maximum positive value”\n",
      "Warning message in optimize(riskS, interval = nuirange, y = y, fit = f, w = w):\n",
      "“NA/Inf replaced by maximum positive value”\n"
     ]
    },
    {
     "name": "stdout",
     "output_type": "stream",
     "text": [
      "."
     ]
    },
    {
     "name": "stderr",
     "output_type": "stream",
     "text": [
      "Warning message in optimize(riskS, interval = nuirange, y = y, fit = f, w = w):\n",
      "“NA/Inf replaced by maximum positive value”\n",
      "Warning message in optimize(riskS, interval = nuirange, y = y, fit = f, w = w):\n",
      "“NA/Inf replaced by maximum positive value”\n",
      "Warning message in optimize(riskS, interval = nuirange, y = y, fit = f, w = w):\n",
      "“NA/Inf replaced by maximum positive value”\n"
     ]
    },
    {
     "name": "stdout",
     "output_type": "stream",
     "text": [
      "."
     ]
    },
    {
     "name": "stderr",
     "output_type": "stream",
     "text": [
      "Warning message in optimize(riskS, interval = nuirange, y = y, fit = f, w = w):\n",
      "“NA/Inf replaced by maximum positive value”\n",
      "Warning message in optimize(riskS, interval = nuirange, y = y, fit = f, w = w):\n",
      "“NA/Inf replaced by maximum positive value”\n",
      "Warning message in optimize(riskS, interval = nuirange, y = y, fit = f, w = w):\n",
      "“NA/Inf replaced by maximum positive value”\n",
      "Warning message in optimize(riskS, interval = nuirange, y = y, fit = f, w = w):\n",
      "“NA/Inf replaced by maximum positive value”\n",
      "Warning message in optimize(riskS, interval = nuirange, y = y, fit = f, w = w):\n",
      "“NA/Inf replaced by maximum positive value”\n",
      "Warning message in optimize(riskS, interval = nuirange, y = y, fit = f, w = w):\n",
      "“NA/Inf replaced by maximum positive value”\n",
      "Warning message in optimize(riskS, interval = nuirange, y = y, fit = f, w = w):\n",
      "“NA/Inf replaced by maximum positive value”\n"
     ]
    },
    {
     "name": "stdout",
     "output_type": "stream",
     "text": [
      "."
     ]
    },
    {
     "name": "stderr",
     "output_type": "stream",
     "text": [
      "Warning message in optimize(riskS, interval = nuirange, y = y, fit = f, w = w):\n",
      "“NA/Inf replaced by maximum positive value”\n",
      "Warning message in optimize(riskS, interval = nuirange, y = y, fit = f, w = w):\n",
      "“NA/Inf replaced by maximum positive value”\n",
      "Warning message in optimize(riskS, interval = nuirange, y = y, fit = f, w = w):\n",
      "“NA/Inf replaced by maximum positive value”\n",
      "Warning message in optimize(riskS, interval = nuirange, y = y, fit = f, w = w):\n",
      "“NA/Inf replaced by maximum positive value”\n"
     ]
    },
    {
     "name": "stdout",
     "output_type": "stream",
     "text": [
      "."
     ]
    },
    {
     "name": "stderr",
     "output_type": "stream",
     "text": [
      "Warning message in optimize(riskS, interval = nuirange, y = y, fit = f, w = w):\n",
      "“NA/Inf replaced by maximum positive value”\n",
      "Warning message in optimize(riskS, interval = nuirange, y = y, fit = f, w = w):\n",
      "“NA/Inf replaced by maximum positive value”\n",
      "Warning message in optimize(riskS, interval = nuirange, y = y, fit = f, w = w):\n",
      "“NA/Inf replaced by maximum positive value”\n",
      "Warning message in optimize(riskS, interval = nuirange, y = y, fit = f, w = w):\n",
      "“NA/Inf replaced by maximum positive value”\n",
      "Warning message in optimize(riskS, interval = nuirange, y = y, fit = f, w = w):\n",
      "“NA/Inf replaced by maximum positive value”\n",
      "Warning message in optimize(riskS, interval = nuirange, y = y, fit = f, w = w):\n",
      "“NA/Inf replaced by maximum positive value”\n",
      "Warning message in optimize(riskS, interval = nuirange, y = y, fit = f, w = w):\n",
      "“NA/Inf replaced by maximum positive value”\n",
      "Warning message in optimize(riskS, interval = nuirange, y = y, fit = f, w = w):\n",
      "“NA/Inf replaced by maximum positive value”\n"
     ]
    },
    {
     "name": "stdout",
     "output_type": "stream",
     "text": [
      "."
     ]
    },
    {
     "name": "stderr",
     "output_type": "stream",
     "text": [
      "Warning message in optimize(riskS, interval = nuirange, y = y, fit = f, w = w):\n",
      "“NA/Inf replaced by maximum positive value”\n",
      "Warning message in optimize(riskS, interval = nuirange, y = y, fit = f, w = w):\n",
      "“NA/Inf replaced by maximum positive value”\n",
      "Warning message in optimize(riskS, interval = nuirange, y = y, fit = f, w = w):\n",
      "“NA/Inf replaced by maximum positive value”\n",
      "Warning message in optimize(riskS, interval = nuirange, y = y, fit = f, w = w):\n",
      "“NA/Inf replaced by maximum positive value”\n",
      "Warning message in optimize(riskS, interval = nuirange, y = y, fit = f, w = w):\n",
      "“NA/Inf replaced by maximum positive value”\n"
     ]
    },
    {
     "name": "stdout",
     "output_type": "stream",
     "text": [
      "."
     ]
    },
    {
     "name": "stderr",
     "output_type": "stream",
     "text": [
      "Warning message in optimize(riskS, interval = nuirange, y = y, fit = f, w = w):\n",
      "“NA/Inf replaced by maximum positive value”\n",
      "Warning message in optimize(riskS, interval = nuirange, y = y, fit = f, w = w):\n",
      "“NA/Inf replaced by maximum positive value”\n",
      "Warning message in optimize(riskS, interval = nuirange, y = y, fit = f, w = w):\n",
      "“NA/Inf replaced by maximum positive value”\n",
      "Warning message in optimize(riskS, interval = nuirange, y = y, fit = f, w = w):\n",
      "“NA/Inf replaced by maximum positive value”\n"
     ]
    },
    {
     "name": "stdout",
     "output_type": "stream",
     "text": [
      "."
     ]
    },
    {
     "name": "stderr",
     "output_type": "stream",
     "text": [
      "Warning message in optimize(riskS, interval = nuirange, y = y, fit = f, w = w):\n",
      "“NA/Inf replaced by maximum positive value”\n",
      "Warning message in optimize(riskS, interval = nuirange, y = y, fit = f, w = w):\n",
      "“NA/Inf replaced by maximum positive value”\n",
      "Warning message in optimize(riskS, interval = nuirange, y = y, fit = f, w = w):\n",
      "“NA/Inf replaced by maximum positive value”\n",
      "Warning message in optimize(riskS, interval = nuirange, y = y, fit = f, w = w):\n",
      "“NA/Inf replaced by maximum positive value”\n",
      "Warning message in optimize(riskS, interval = nuirange, y = y, fit = f, w = w):\n",
      "“NA/Inf replaced by maximum positive value”\n"
     ]
    },
    {
     "name": "stdout",
     "output_type": "stream",
     "text": [
      "."
     ]
    },
    {
     "name": "stderr",
     "output_type": "stream",
     "text": [
      "Warning message in optimize(riskS, interval = nuirange, y = y, fit = f, w = w):\n",
      "“NA/Inf replaced by maximum positive value”\n",
      "Warning message in optimize(riskS, interval = nuirange, y = y, fit = f, w = w):\n",
      "“NA/Inf replaced by maximum positive value”\n",
      "Warning message in optimize(riskS, interval = nuirange, y = y, fit = f, w = w):\n",
      "“NA/Inf replaced by maximum positive value”\n",
      "Warning message in optimize(riskS, interval = nuirange, y = y, fit = f, w = w):\n",
      "“NA/Inf replaced by maximum positive value”\n",
      "Warning message in optimize(riskS, interval = nuirange, y = y, fit = f, w = w):\n",
      "“NA/Inf replaced by maximum positive value”\n"
     ]
    },
    {
     "name": "stdout",
     "output_type": "stream",
     "text": [
      "."
     ]
    },
    {
     "name": "stderr",
     "output_type": "stream",
     "text": [
      "Warning message in optimize(riskS, interval = nuirange, y = y, fit = f, w = w):\n",
      "“NA/Inf replaced by maximum positive value”\n",
      "Warning message in optimize(riskS, interval = nuirange, y = y, fit = f, w = w):\n",
      "“NA/Inf replaced by maximum positive value”\n"
     ]
    },
    {
     "name": "stdout",
     "output_type": "stream",
     "text": [
      "."
     ]
    },
    {
     "name": "stderr",
     "output_type": "stream",
     "text": [
      "Warning message in optimize(riskS, interval = nuirange, y = y, fit = f, w = w):\n",
      "“NA/Inf replaced by maximum positive value”\n",
      "Warning message in optimize(riskS, interval = nuirange, y = y, fit = f, w = w):\n",
      "“NA/Inf replaced by maximum positive value”\n",
      "Warning message in optimize(riskS, interval = nuirange, y = y, fit = f, w = w):\n",
      "“NA/Inf replaced by maximum positive value”\n"
     ]
    },
    {
     "name": "stdout",
     "output_type": "stream",
     "text": [
      "."
     ]
    },
    {
     "name": "stderr",
     "output_type": "stream",
     "text": [
      "Warning message in optimize(riskS, interval = nuirange, y = y, fit = f, w = w):\n",
      "“NA/Inf replaced by maximum positive value”\n",
      "Warning message in optimize(riskS, interval = nuirange, y = y, fit = f, w = w):\n",
      "“NA/Inf replaced by maximum positive value”\n",
      "Warning message in optimize(riskS, interval = nuirange, y = y, fit = f, w = w):\n",
      "“NA/Inf replaced by maximum positive value”\n",
      "Warning message in optimize(riskS, interval = nuirange, y = y, fit = f, w = w):\n",
      "“NA/Inf replaced by maximum positive value”\n",
      "Warning message in optimize(riskS, interval = nuirange, y = y, fit = f, w = w):\n",
      "“NA/Inf replaced by maximum positive value”\n",
      "Warning message in optimize(riskS, interval = nuirange, y = y, fit = f, w = w):\n",
      "“NA/Inf replaced by maximum positive value”\n"
     ]
    },
    {
     "name": "stdout",
     "output_type": "stream",
     "text": [
      "."
     ]
    },
    {
     "name": "stderr",
     "output_type": "stream",
     "text": [
      "Warning message in optimize(riskS, interval = nuirange, y = y, fit = f, w = w):\n",
      "“NA/Inf replaced by maximum positive value”\n",
      "Warning message in optimize(riskS, interval = nuirange, y = y, fit = f, w = w):\n",
      "“NA/Inf replaced by maximum positive value”\n",
      "Warning message in optimize(riskS, interval = nuirange, y = y, fit = f, w = w):\n",
      "“NA/Inf replaced by maximum positive value”\n",
      "Warning message in optimize(riskS, interval = nuirange, y = y, fit = f, w = w):\n",
      "“NA/Inf replaced by maximum positive value”\n",
      "Warning message in optimize(riskS, interval = nuirange, y = y, fit = f, w = w):\n",
      "“NA/Inf replaced by maximum positive value”\n"
     ]
    },
    {
     "name": "stdout",
     "output_type": "stream",
     "text": [
      "."
     ]
    },
    {
     "name": "stderr",
     "output_type": "stream",
     "text": [
      "Warning message in optimize(riskS, interval = nuirange, y = y, fit = f, w = w):\n",
      "“NA/Inf replaced by maximum positive value”\n",
      "Warning message in optimize(riskS, interval = nuirange, y = y, fit = f, w = w):\n",
      "“NA/Inf replaced by maximum positive value”\n",
      "Warning message in optimize(riskS, interval = nuirange, y = y, fit = f, w = w):\n",
      "“NA/Inf replaced by maximum positive value”\n",
      "Warning message in optimize(riskS, interval = nuirange, y = y, fit = f, w = w):\n",
      "“NA/Inf replaced by maximum positive value”\n"
     ]
    },
    {
     "name": "stdout",
     "output_type": "stream",
     "text": [
      "."
     ]
    },
    {
     "name": "stderr",
     "output_type": "stream",
     "text": [
      "Warning message in optimize(riskS, interval = nuirange, y = y, fit = f, w = w):\n",
      "“NA/Inf replaced by maximum positive value”\n",
      "Warning message in optimize(riskS, interval = nuirange, y = y, fit = f, w = w):\n",
      "“NA/Inf replaced by maximum positive value”\n",
      "Warning message in optimize(riskS, interval = nuirange, y = y, fit = f, w = w):\n",
      "“NA/Inf replaced by maximum positive value”\n",
      "Warning message in optimize(riskS, interval = nuirange, y = y, fit = f, w = w):\n",
      "“NA/Inf replaced by maximum positive value”\n",
      "Warning message in optimize(riskS, interval = nuirange, y = y, fit = f, w = w):\n",
      "“NA/Inf replaced by maximum positive value”\n"
     ]
    },
    {
     "name": "stdout",
     "output_type": "stream",
     "text": [
      "."
     ]
    },
    {
     "name": "stderr",
     "output_type": "stream",
     "text": [
      "Warning message in optimize(riskS, interval = nuirange, y = y, fit = f, w = w):\n",
      "“NA/Inf replaced by maximum positive value”\n",
      "Warning message in optimize(riskS, interval = nuirange, y = y, fit = f, w = w):\n",
      "“NA/Inf replaced by maximum positive value”\n",
      "Warning message in optimize(riskS, interval = nuirange, y = y, fit = f, w = w):\n",
      "“NA/Inf replaced by maximum positive value”\n",
      "Warning message in optimize(riskS, interval = nuirange, y = y, fit = f, w = w):\n",
      "“NA/Inf replaced by maximum positive value”\n"
     ]
    },
    {
     "name": "stdout",
     "output_type": "stream",
     "text": [
      "."
     ]
    },
    {
     "name": "stderr",
     "output_type": "stream",
     "text": [
      "Warning message in optimize(riskS, interval = nuirange, y = y, fit = f, w = w):\n",
      "“NA/Inf replaced by maximum positive value”\n",
      "Warning message in optimize(riskS, interval = nuirange, y = y, fit = f, w = w):\n",
      "“NA/Inf replaced by maximum positive value”\n",
      "Warning message in optimize(riskS, interval = nuirange, y = y, fit = f, w = w):\n",
      "“NA/Inf replaced by maximum positive value”\n",
      "Warning message in optimize(riskS, interval = nuirange, y = y, fit = f, w = w):\n",
      "“NA/Inf replaced by maximum positive value”\n",
      "Warning message in optimize(riskS, interval = nuirange, y = y, fit = f, w = w):\n",
      "“NA/Inf replaced by maximum positive value”\n"
     ]
    },
    {
     "name": "stdout",
     "output_type": "stream",
     "text": [
      "."
     ]
    },
    {
     "name": "stderr",
     "output_type": "stream",
     "text": [
      "Warning message in optimize(riskS, interval = nuirange, y = y, fit = f, w = w):\n",
      "“NA/Inf replaced by maximum positive value”\n",
      "Warning message in optimize(riskS, interval = nuirange, y = y, fit = f, w = w):\n",
      "“NA/Inf replaced by maximum positive value”\n",
      "Warning message in optimize(riskS, interval = nuirange, y = y, fit = f, w = w):\n",
      "“NA/Inf replaced by maximum positive value”\n",
      "Warning message in optimize(riskS, interval = nuirange, y = y, fit = f, w = w):\n",
      "“NA/Inf replaced by maximum positive value”\n",
      "Warning message in optimize(riskS, interval = nuirange, y = y, fit = f, w = w):\n",
      "“NA/Inf replaced by maximum positive value”\n"
     ]
    },
    {
     "name": "stdout",
     "output_type": "stream",
     "text": [
      "."
     ]
    },
    {
     "name": "stderr",
     "output_type": "stream",
     "text": [
      "Warning message in optimize(riskS, interval = nuirange, y = y, fit = f, w = w):\n",
      "“NA/Inf replaced by maximum positive value”\n",
      "Warning message in optimize(riskS, interval = nuirange, y = y, fit = f, w = w):\n",
      "“NA/Inf replaced by maximum positive value”\n",
      "Warning message in optimize(riskS, interval = nuirange, y = y, fit = f, w = w):\n",
      "“NA/Inf replaced by maximum positive value”\n",
      "Warning message in optimize(riskS, interval = nuirange, y = y, fit = f, w = w):\n",
      "“NA/Inf replaced by maximum positive value”\n",
      "Warning message in optimize(riskS, interval = nuirange, y = y, fit = f, w = w):\n",
      "“NA/Inf replaced by maximum positive value”\n"
     ]
    },
    {
     "name": "stdout",
     "output_type": "stream",
     "text": [
      "."
     ]
    },
    {
     "name": "stderr",
     "output_type": "stream",
     "text": [
      "Warning message in optimize(riskS, interval = nuirange, y = y, fit = f, w = w):\n",
      "“NA/Inf replaced by maximum positive value”\n",
      "Warning message in optimize(riskS, interval = nuirange, y = y, fit = f, w = w):\n",
      "“NA/Inf replaced by maximum positive value”\n",
      "Warning message in optimize(riskS, interval = nuirange, y = y, fit = f, w = w):\n",
      "“NA/Inf replaced by maximum positive value”\n",
      "Warning message in optimize(riskS, interval = nuirange, y = y, fit = f, w = w):\n",
      "“NA/Inf replaced by maximum positive value”\n"
     ]
    },
    {
     "name": "stdout",
     "output_type": "stream",
     "text": [
      "."
     ]
    },
    {
     "name": "stderr",
     "output_type": "stream",
     "text": [
      "Warning message in optimize(riskS, interval = nuirange, y = y, fit = f, w = w):\n",
      "“NA/Inf replaced by maximum positive value”\n",
      "Warning message in optimize(riskS, interval = nuirange, y = y, fit = f, w = w):\n",
      "“NA/Inf replaced by maximum positive value”\n",
      "Warning message in optimize(riskS, interval = nuirange, y = y, fit = f, w = w):\n",
      "“NA/Inf replaced by maximum positive value”\n",
      "Warning message in optimize(riskS, interval = nuirange, y = y, fit = f, w = w):\n",
      "“NA/Inf replaced by maximum positive value”\n",
      "Warning message in optimize(riskS, interval = nuirange, y = y, fit = f, w = w):\n",
      "“NA/Inf replaced by maximum positive value”\n"
     ]
    },
    {
     "name": "stdout",
     "output_type": "stream",
     "text": [
      "."
     ]
    },
    {
     "name": "stderr",
     "output_type": "stream",
     "text": [
      "Warning message in optimize(riskS, interval = nuirange, y = y, fit = f, w = w):\n",
      "“NA/Inf replaced by maximum positive value”\n",
      "Warning message in optimize(riskS, interval = nuirange, y = y, fit = f, w = w):\n",
      "“NA/Inf replaced by maximum positive value”\n",
      "Warning message in optimize(riskS, interval = nuirange, y = y, fit = f, w = w):\n",
      "“NA/Inf replaced by maximum positive value”\n",
      "Warning message in optimize(riskS, interval = nuirange, y = y, fit = f, w = w):\n",
      "“NA/Inf replaced by maximum positive value”\n"
     ]
    },
    {
     "name": "stdout",
     "output_type": "stream",
     "text": [
      "."
     ]
    },
    {
     "name": "stderr",
     "output_type": "stream",
     "text": [
      "Warning message in optimize(riskS, interval = nuirange, y = y, fit = f, w = w):\n",
      "“NA/Inf replaced by maximum positive value”\n",
      "Warning message in optimize(riskS, interval = nuirange, y = y, fit = f, w = w):\n",
      "“NA/Inf replaced by maximum positive value”\n",
      "Warning message in optimize(riskS, interval = nuirange, y = y, fit = f, w = w):\n",
      "“NA/Inf replaced by maximum positive value”\n",
      "Warning message in optimize(riskS, interval = nuirange, y = y, fit = f, w = w):\n",
      "“NA/Inf replaced by maximum positive value”\n",
      "Warning message in optimize(riskS, interval = nuirange, y = y, fit = f, w = w):\n",
      "“NA/Inf replaced by maximum positive value”\n"
     ]
    },
    {
     "name": "stdout",
     "output_type": "stream",
     "text": [
      "."
     ]
    },
    {
     "name": "stderr",
     "output_type": "stream",
     "text": [
      "Warning message in optimize(riskS, interval = nuirange, y = y, fit = f, w = w):\n",
      "“NA/Inf replaced by maximum positive value”\n",
      "Warning message in optimize(riskS, interval = nuirange, y = y, fit = f, w = w):\n",
      "“NA/Inf replaced by maximum positive value”\n",
      "Warning message in optimize(riskS, interval = nuirange, y = y, fit = f, w = w):\n",
      "“NA/Inf replaced by maximum positive value”\n",
      "Warning message in optimize(riskS, interval = nuirange, y = y, fit = f, w = w):\n",
      "“NA/Inf replaced by maximum positive value”\n",
      "Warning message in optimize(riskS, interval = nuirange, y = y, fit = f, w = w):\n",
      "“NA/Inf replaced by maximum positive value”\n",
      "Warning message in optimize(riskS, interval = nuirange, y = y, fit = f, w = w):\n",
      "“NA/Inf replaced by maximum positive value”\n",
      "Warning message in optimize(riskS, interval = nuirange, y = y, fit = f, w = w):\n",
      "“NA/Inf replaced by maximum positive value”\n"
     ]
    },
    {
     "name": "stdout",
     "output_type": "stream",
     "text": [
      "."
     ]
    },
    {
     "name": "stderr",
     "output_type": "stream",
     "text": [
      "Warning message in optimize(riskS, interval = nuirange, y = y, fit = f, w = w):\n",
      "“NA/Inf replaced by maximum positive value”\n",
      "Warning message in optimize(riskS, interval = nuirange, y = y, fit = f, w = w):\n",
      "“NA/Inf replaced by maximum positive value”\n",
      "Warning message in optimize(riskS, interval = nuirange, y = y, fit = f, w = w):\n",
      "“NA/Inf replaced by maximum positive value”\n",
      "Warning message in optimize(riskS, interval = nuirange, y = y, fit = f, w = w):\n",
      "“NA/Inf replaced by maximum positive value”\n"
     ]
    },
    {
     "name": "stdout",
     "output_type": "stream",
     "text": [
      " -- risk: 8757635 \n"
     ]
    },
    {
     "name": "stderr",
     "output_type": "stream",
     "text": [
      "Warning message in optimize(riskS, interval = nuirange, y = y, fit = f, w = w):\n",
      "“NA/Inf replaced by maximum positive value”\n",
      "Warning message in optimize(riskS, interval = nuirange, y = y, fit = f, w = w):\n",
      "“NA/Inf replaced by maximum positive value”\n",
      "Warning message in optimize(riskS, interval = nuirange, y = y, fit = f, w = w):\n",
      "“NA/Inf replaced by maximum positive value”\n"
     ]
    },
    {
     "name": "stdout",
     "output_type": "stream",
     "text": [
      "[  41] "
     ]
    },
    {
     "name": "stderr",
     "output_type": "stream",
     "text": [
      "Warning message in optimize(riskS, interval = nuirange, y = y, fit = f, w = w):\n",
      "“NA/Inf replaced by maximum positive value”\n",
      "Warning message in optimize(riskS, interval = nuirange, y = y, fit = f, w = w):\n",
      "“NA/Inf replaced by maximum positive value”\n",
      "Warning message in optimize(riskS, interval = nuirange, y = y, fit = f, w = w):\n",
      "“NA/Inf replaced by maximum positive value”\n",
      "Warning message in optimize(riskS, interval = nuirange, y = y, fit = f, w = w):\n",
      "“NA/Inf replaced by maximum positive value”\n"
     ]
    },
    {
     "name": "stdout",
     "output_type": "stream",
     "text": [
      "."
     ]
    },
    {
     "name": "stderr",
     "output_type": "stream",
     "text": [
      "Warning message in optimize(riskS, interval = nuirange, y = y, fit = f, w = w):\n",
      "“NA/Inf replaced by maximum positive value”\n",
      "Warning message in optimize(riskS, interval = nuirange, y = y, fit = f, w = w):\n",
      "“NA/Inf replaced by maximum positive value”\n",
      "Warning message in optimize(riskS, interval = nuirange, y = y, fit = f, w = w):\n",
      "“NA/Inf replaced by maximum positive value”\n",
      "Warning message in optimize(riskS, interval = nuirange, y = y, fit = f, w = w):\n",
      "“NA/Inf replaced by maximum positive value”\n",
      "Warning message in optimize(riskS, interval = nuirange, y = y, fit = f, w = w):\n",
      "“NA/Inf replaced by maximum positive value”\n",
      "Warning message in optimize(riskS, interval = nuirange, y = y, fit = f, w = w):\n",
      "“NA/Inf replaced by maximum positive value”\n"
     ]
    },
    {
     "name": "stdout",
     "output_type": "stream",
     "text": [
      "."
     ]
    },
    {
     "name": "stderr",
     "output_type": "stream",
     "text": [
      "Warning message in optimize(riskS, interval = nuirange, y = y, fit = f, w = w):\n",
      "“NA/Inf replaced by maximum positive value”\n",
      "Warning message in optimize(riskS, interval = nuirange, y = y, fit = f, w = w):\n",
      "“NA/Inf replaced by maximum positive value”\n",
      "Warning message in optimize(riskS, interval = nuirange, y = y, fit = f, w = w):\n",
      "“NA/Inf replaced by maximum positive value”\n",
      "Warning message in optimize(riskS, interval = nuirange, y = y, fit = f, w = w):\n",
      "“NA/Inf replaced by maximum positive value”\n"
     ]
    },
    {
     "name": "stdout",
     "output_type": "stream",
     "text": [
      "."
     ]
    },
    {
     "name": "stderr",
     "output_type": "stream",
     "text": [
      "Warning message in optimize(riskS, interval = nuirange, y = y, fit = f, w = w):\n",
      "“NA/Inf replaced by maximum positive value”\n",
      "Warning message in optimize(riskS, interval = nuirange, y = y, fit = f, w = w):\n",
      "“NA/Inf replaced by maximum positive value”\n",
      "Warning message in optimize(riskS, interval = nuirange, y = y, fit = f, w = w):\n",
      "“NA/Inf replaced by maximum positive value”\n",
      "Warning message in optimize(riskS, interval = nuirange, y = y, fit = f, w = w):\n",
      "“NA/Inf replaced by maximum positive value”\n",
      "Warning message in optimize(riskS, interval = nuirange, y = y, fit = f, w = w):\n",
      "“NA/Inf replaced by maximum positive value”\n",
      "Warning message in optimize(riskS, interval = nuirange, y = y, fit = f, w = w):\n",
      "“NA/Inf replaced by maximum positive value”\n"
     ]
    },
    {
     "name": "stdout",
     "output_type": "stream",
     "text": [
      "."
     ]
    },
    {
     "name": "stderr",
     "output_type": "stream",
     "text": [
      "Warning message in optimize(riskS, interval = nuirange, y = y, fit = f, w = w):\n",
      "“NA/Inf replaced by maximum positive value”\n",
      "Warning message in optimize(riskS, interval = nuirange, y = y, fit = f, w = w):\n",
      "“NA/Inf replaced by maximum positive value”\n",
      "Warning message in optimize(riskS, interval = nuirange, y = y, fit = f, w = w):\n",
      "“NA/Inf replaced by maximum positive value”\n",
      "Warning message in optimize(riskS, interval = nuirange, y = y, fit = f, w = w):\n",
      "“NA/Inf replaced by maximum positive value”\n",
      "Warning message in optimize(riskS, interval = nuirange, y = y, fit = f, w = w):\n",
      "“NA/Inf replaced by maximum positive value”\n"
     ]
    },
    {
     "name": "stdout",
     "output_type": "stream",
     "text": [
      "."
     ]
    },
    {
     "name": "stderr",
     "output_type": "stream",
     "text": [
      "Warning message in optimize(riskS, interval = nuirange, y = y, fit = f, w = w):\n",
      "“NA/Inf replaced by maximum positive value”\n",
      "Warning message in optimize(riskS, interval = nuirange, y = y, fit = f, w = w):\n",
      "“NA/Inf replaced by maximum positive value”\n",
      "Warning message in optimize(riskS, interval = nuirange, y = y, fit = f, w = w):\n",
      "“NA/Inf replaced by maximum positive value”\n",
      "Warning message in optimize(riskS, interval = nuirange, y = y, fit = f, w = w):\n",
      "“NA/Inf replaced by maximum positive value”\n",
      "Warning message in optimize(riskS, interval = nuirange, y = y, fit = f, w = w):\n",
      "“NA/Inf replaced by maximum positive value”\n"
     ]
    },
    {
     "name": "stdout",
     "output_type": "stream",
     "text": [
      "."
     ]
    },
    {
     "name": "stderr",
     "output_type": "stream",
     "text": [
      "Warning message in optimize(riskS, interval = nuirange, y = y, fit = f, w = w):\n",
      "“NA/Inf replaced by maximum positive value”\n",
      "Warning message in optimize(riskS, interval = nuirange, y = y, fit = f, w = w):\n",
      "“NA/Inf replaced by maximum positive value”\n",
      "Warning message in optimize(riskS, interval = nuirange, y = y, fit = f, w = w):\n",
      "“NA/Inf replaced by maximum positive value”\n"
     ]
    },
    {
     "name": "stdout",
     "output_type": "stream",
     "text": [
      "."
     ]
    },
    {
     "name": "stderr",
     "output_type": "stream",
     "text": [
      "Warning message in optimize(riskS, interval = nuirange, y = y, fit = f, w = w):\n",
      "“NA/Inf replaced by maximum positive value”\n",
      "Warning message in optimize(riskS, interval = nuirange, y = y, fit = f, w = w):\n",
      "“NA/Inf replaced by maximum positive value”\n",
      "Warning message in optimize(riskS, interval = nuirange, y = y, fit = f, w = w):\n",
      "“NA/Inf replaced by maximum positive value”\n",
      "Warning message in optimize(riskS, interval = nuirange, y = y, fit = f, w = w):\n",
      "“NA/Inf replaced by maximum positive value”\n"
     ]
    },
    {
     "name": "stdout",
     "output_type": "stream",
     "text": [
      "."
     ]
    },
    {
     "name": "stderr",
     "output_type": "stream",
     "text": [
      "Warning message in optimize(riskS, interval = nuirange, y = y, fit = f, w = w):\n",
      "“NA/Inf replaced by maximum positive value”\n",
      "Warning message in optimize(riskS, interval = nuirange, y = y, fit = f, w = w):\n",
      "“NA/Inf replaced by maximum positive value”\n",
      "Warning message in optimize(riskS, interval = nuirange, y = y, fit = f, w = w):\n",
      "“NA/Inf replaced by maximum positive value”\n",
      "Warning message in optimize(riskS, interval = nuirange, y = y, fit = f, w = w):\n",
      "“NA/Inf replaced by maximum positive value”\n",
      "Warning message in optimize(riskS, interval = nuirange, y = y, fit = f, w = w):\n",
      "“NA/Inf replaced by maximum positive value”\n",
      "Warning message in optimize(riskS, interval = nuirange, y = y, fit = f, w = w):\n",
      "“NA/Inf replaced by maximum positive value”\n"
     ]
    },
    {
     "name": "stdout",
     "output_type": "stream",
     "text": [
      "."
     ]
    },
    {
     "name": "stderr",
     "output_type": "stream",
     "text": [
      "Warning message in optimize(riskS, interval = nuirange, y = y, fit = f, w = w):\n",
      "“NA/Inf replaced by maximum positive value”\n",
      "Warning message in optimize(riskS, interval = nuirange, y = y, fit = f, w = w):\n",
      "“NA/Inf replaced by maximum positive value”\n",
      "Warning message in optimize(riskS, interval = nuirange, y = y, fit = f, w = w):\n",
      "“NA/Inf replaced by maximum positive value”\n",
      "Warning message in optimize(riskS, interval = nuirange, y = y, fit = f, w = w):\n",
      "“NA/Inf replaced by maximum positive value”\n",
      "Warning message in optimize(riskS, interval = nuirange, y = y, fit = f, w = w):\n",
      "“NA/Inf replaced by maximum positive value”\n",
      "Warning message in optimize(riskS, interval = nuirange, y = y, fit = f, w = w):\n",
      "“NA/Inf replaced by maximum positive value”\n"
     ]
    },
    {
     "name": "stdout",
     "output_type": "stream",
     "text": [
      "."
     ]
    },
    {
     "name": "stderr",
     "output_type": "stream",
     "text": [
      "Warning message in optimize(riskS, interval = nuirange, y = y, fit = f, w = w):\n",
      "“NA/Inf replaced by maximum positive value”\n",
      "Warning message in optimize(riskS, interval = nuirange, y = y, fit = f, w = w):\n",
      "“NA/Inf replaced by maximum positive value”\n",
      "Warning message in optimize(riskS, interval = nuirange, y = y, fit = f, w = w):\n",
      "“NA/Inf replaced by maximum positive value”\n",
      "Warning message in optimize(riskS, interval = nuirange, y = y, fit = f, w = w):\n",
      "“NA/Inf replaced by maximum positive value”\n",
      "Warning message in optimize(riskS, interval = nuirange, y = y, fit = f, w = w):\n",
      "“NA/Inf replaced by maximum positive value”\n",
      "Warning message in optimize(riskS, interval = nuirange, y = y, fit = f, w = w):\n",
      "“NA/Inf replaced by maximum positive value”\n",
      "Warning message in optimize(riskS, interval = nuirange, y = y, fit = f, w = w):\n",
      "“NA/Inf replaced by maximum positive value”\n",
      "Warning message in optimize(riskS, interval = nuirange, y = y, fit = f, w = w):\n",
      "“NA/Inf replaced by maximum positive value”\n"
     ]
    },
    {
     "name": "stdout",
     "output_type": "stream",
     "text": [
      "."
     ]
    },
    {
     "name": "stderr",
     "output_type": "stream",
     "text": [
      "Warning message in optimize(riskS, interval = nuirange, y = y, fit = f, w = w):\n",
      "“NA/Inf replaced by maximum positive value”\n",
      "Warning message in optimize(riskS, interval = nuirange, y = y, fit = f, w = w):\n",
      "“NA/Inf replaced by maximum positive value”\n",
      "Warning message in optimize(riskS, interval = nuirange, y = y, fit = f, w = w):\n",
      "“NA/Inf replaced by maximum positive value”\n",
      "Warning message in optimize(riskS, interval = nuirange, y = y, fit = f, w = w):\n",
      "“NA/Inf replaced by maximum positive value”\n"
     ]
    },
    {
     "name": "stdout",
     "output_type": "stream",
     "text": [
      "."
     ]
    },
    {
     "name": "stderr",
     "output_type": "stream",
     "text": [
      "Warning message in optimize(riskS, interval = nuirange, y = y, fit = f, w = w):\n",
      "“NA/Inf replaced by maximum positive value”\n",
      "Warning message in optimize(riskS, interval = nuirange, y = y, fit = f, w = w):\n",
      "“NA/Inf replaced by maximum positive value”\n",
      "Warning message in optimize(riskS, interval = nuirange, y = y, fit = f, w = w):\n",
      "“NA/Inf replaced by maximum positive value”\n",
      "Warning message in optimize(riskS, interval = nuirange, y = y, fit = f, w = w):\n",
      "“NA/Inf replaced by maximum positive value”\n"
     ]
    },
    {
     "name": "stdout",
     "output_type": "stream",
     "text": [
      "."
     ]
    },
    {
     "name": "stderr",
     "output_type": "stream",
     "text": [
      "Warning message in optimize(riskS, interval = nuirange, y = y, fit = f, w = w):\n",
      "“NA/Inf replaced by maximum positive value”\n",
      "Warning message in optimize(riskS, interval = nuirange, y = y, fit = f, w = w):\n",
      "“NA/Inf replaced by maximum positive value”\n",
      "Warning message in optimize(riskS, interval = nuirange, y = y, fit = f, w = w):\n",
      "“NA/Inf replaced by maximum positive value”\n",
      "Warning message in optimize(riskS, interval = nuirange, y = y, fit = f, w = w):\n",
      "“NA/Inf replaced by maximum positive value”\n",
      "Warning message in optimize(riskS, interval = nuirange, y = y, fit = f, w = w):\n",
      "“NA/Inf replaced by maximum positive value”\n"
     ]
    },
    {
     "name": "stdout",
     "output_type": "stream",
     "text": [
      "."
     ]
    },
    {
     "name": "stderr",
     "output_type": "stream",
     "text": [
      "Warning message in optimize(riskS, interval = nuirange, y = y, fit = f, w = w):\n",
      "“NA/Inf replaced by maximum positive value”\n",
      "Warning message in optimize(riskS, interval = nuirange, y = y, fit = f, w = w):\n",
      "“NA/Inf replaced by maximum positive value”\n",
      "Warning message in optimize(riskS, interval = nuirange, y = y, fit = f, w = w):\n",
      "“NA/Inf replaced by maximum positive value”\n",
      "Warning message in optimize(riskS, interval = nuirange, y = y, fit = f, w = w):\n",
      "“NA/Inf replaced by maximum positive value”\n",
      "Warning message in optimize(riskS, interval = nuirange, y = y, fit = f, w = w):\n",
      "“NA/Inf replaced by maximum positive value”\n",
      "Warning message in optimize(riskS, interval = nuirange, y = y, fit = f, w = w):\n",
      "“NA/Inf replaced by maximum positive value”\n",
      "Warning message in optimize(riskS, interval = nuirange, y = y, fit = f, w = w):\n",
      "“NA/Inf replaced by maximum positive value”\n"
     ]
    },
    {
     "name": "stdout",
     "output_type": "stream",
     "text": [
      "."
     ]
    },
    {
     "name": "stderr",
     "output_type": "stream",
     "text": [
      "Warning message in optimize(riskS, interval = nuirange, y = y, fit = f, w = w):\n",
      "“NA/Inf replaced by maximum positive value”\n",
      "Warning message in optimize(riskS, interval = nuirange, y = y, fit = f, w = w):\n",
      "“NA/Inf replaced by maximum positive value”\n",
      "Warning message in optimize(riskS, interval = nuirange, y = y, fit = f, w = w):\n",
      "“NA/Inf replaced by maximum positive value”\n",
      "Warning message in optimize(riskS, interval = nuirange, y = y, fit = f, w = w):\n",
      "“NA/Inf replaced by maximum positive value”\n",
      "Warning message in optimize(riskS, interval = nuirange, y = y, fit = f, w = w):\n",
      "“NA/Inf replaced by maximum positive value”\n"
     ]
    },
    {
     "name": "stdout",
     "output_type": "stream",
     "text": [
      "."
     ]
    },
    {
     "name": "stderr",
     "output_type": "stream",
     "text": [
      "Warning message in optimize(riskS, interval = nuirange, y = y, fit = f, w = w):\n",
      "“NA/Inf replaced by maximum positive value”\n",
      "Warning message in optimize(riskS, interval = nuirange, y = y, fit = f, w = w):\n",
      "“NA/Inf replaced by maximum positive value”\n",
      "Warning message in optimize(riskS, interval = nuirange, y = y, fit = f, w = w):\n",
      "“NA/Inf replaced by maximum positive value”\n",
      "Warning message in optimize(riskS, interval = nuirange, y = y, fit = f, w = w):\n",
      "“NA/Inf replaced by maximum positive value”\n",
      "Warning message in optimize(riskS, interval = nuirange, y = y, fit = f, w = w):\n",
      "“NA/Inf replaced by maximum positive value”\n",
      "Warning message in optimize(riskS, interval = nuirange, y = y, fit = f, w = w):\n",
      "“NA/Inf replaced by maximum positive value”\n",
      "Warning message in optimize(riskS, interval = nuirange, y = y, fit = f, w = w):\n",
      "“NA/Inf replaced by maximum positive value”\n",
      "Warning message in optimize(riskS, interval = nuirange, y = y, fit = f, w = w):\n",
      "“NA/Inf replaced by maximum positive value”\n"
     ]
    },
    {
     "name": "stdout",
     "output_type": "stream",
     "text": [
      "."
     ]
    },
    {
     "name": "stderr",
     "output_type": "stream",
     "text": [
      "Warning message in optimize(riskS, interval = nuirange, y = y, fit = f, w = w):\n",
      "“NA/Inf replaced by maximum positive value”\n",
      "Warning message in optimize(riskS, interval = nuirange, y = y, fit = f, w = w):\n",
      "“NA/Inf replaced by maximum positive value”\n",
      "Warning message in optimize(riskS, interval = nuirange, y = y, fit = f, w = w):\n",
      "“NA/Inf replaced by maximum positive value”\n",
      "Warning message in optimize(riskS, interval = nuirange, y = y, fit = f, w = w):\n",
      "“NA/Inf replaced by maximum positive value”\n",
      "Warning message in optimize(riskS, interval = nuirange, y = y, fit = f, w = w):\n",
      "“NA/Inf replaced by maximum positive value”\n"
     ]
    },
    {
     "name": "stdout",
     "output_type": "stream",
     "text": [
      "."
     ]
    },
    {
     "name": "stderr",
     "output_type": "stream",
     "text": [
      "Warning message in optimize(riskS, interval = nuirange, y = y, fit = f, w = w):\n",
      "“NA/Inf replaced by maximum positive value”\n",
      "Warning message in optimize(riskS, interval = nuirange, y = y, fit = f, w = w):\n",
      "“NA/Inf replaced by maximum positive value”\n",
      "Warning message in optimize(riskS, interval = nuirange, y = y, fit = f, w = w):\n",
      "“NA/Inf replaced by maximum positive value”\n",
      "Warning message in optimize(riskS, interval = nuirange, y = y, fit = f, w = w):\n",
      "“NA/Inf replaced by maximum positive value”\n",
      "Warning message in optimize(riskS, interval = nuirange, y = y, fit = f, w = w):\n",
      "“NA/Inf replaced by maximum positive value”\n",
      "Warning message in optimize(riskS, interval = nuirange, y = y, fit = f, w = w):\n",
      "“NA/Inf replaced by maximum positive value”\n"
     ]
    },
    {
     "name": "stdout",
     "output_type": "stream",
     "text": [
      "."
     ]
    },
    {
     "name": "stderr",
     "output_type": "stream",
     "text": [
      "Warning message in optimize(riskS, interval = nuirange, y = y, fit = f, w = w):\n",
      "“NA/Inf replaced by maximum positive value”\n",
      "Warning message in optimize(riskS, interval = nuirange, y = y, fit = f, w = w):\n",
      "“NA/Inf replaced by maximum positive value”\n",
      "Warning message in optimize(riskS, interval = nuirange, y = y, fit = f, w = w):\n",
      "“NA/Inf replaced by maximum positive value”\n",
      "Warning message in optimize(riskS, interval = nuirange, y = y, fit = f, w = w):\n",
      "“NA/Inf replaced by maximum positive value”\n",
      "Warning message in optimize(riskS, interval = nuirange, y = y, fit = f, w = w):\n",
      "“NA/Inf replaced by maximum positive value”\n",
      "Warning message in optimize(riskS, interval = nuirange, y = y, fit = f, w = w):\n",
      "“NA/Inf replaced by maximum positive value”\n",
      "Warning message in optimize(riskS, interval = nuirange, y = y, fit = f, w = w):\n",
      "“NA/Inf replaced by maximum positive value”\n"
     ]
    },
    {
     "name": "stdout",
     "output_type": "stream",
     "text": [
      "."
     ]
    },
    {
     "name": "stderr",
     "output_type": "stream",
     "text": [
      "Warning message in optimize(riskS, interval = nuirange, y = y, fit = f, w = w):\n",
      "“NA/Inf replaced by maximum positive value”\n",
      "Warning message in optimize(riskS, interval = nuirange, y = y, fit = f, w = w):\n",
      "“NA/Inf replaced by maximum positive value”\n",
      "Warning message in optimize(riskS, interval = nuirange, y = y, fit = f, w = w):\n",
      "“NA/Inf replaced by maximum positive value”\n",
      "Warning message in optimize(riskS, interval = nuirange, y = y, fit = f, w = w):\n",
      "“NA/Inf replaced by maximum positive value”\n",
      "Warning message in optimize(riskS, interval = nuirange, y = y, fit = f, w = w):\n",
      "“NA/Inf replaced by maximum positive value”\n"
     ]
    },
    {
     "name": "stdout",
     "output_type": "stream",
     "text": [
      "."
     ]
    },
    {
     "name": "stderr",
     "output_type": "stream",
     "text": [
      "Warning message in optimize(riskS, interval = nuirange, y = y, fit = f, w = w):\n",
      "“NA/Inf replaced by maximum positive value”\n",
      "Warning message in optimize(riskS, interval = nuirange, y = y, fit = f, w = w):\n",
      "“NA/Inf replaced by maximum positive value”\n",
      "Warning message in optimize(riskS, interval = nuirange, y = y, fit = f, w = w):\n",
      "“NA/Inf replaced by maximum positive value”\n"
     ]
    },
    {
     "name": "stdout",
     "output_type": "stream",
     "text": [
      "."
     ]
    },
    {
     "name": "stderr",
     "output_type": "stream",
     "text": [
      "Warning message in optimize(riskS, interval = nuirange, y = y, fit = f, w = w):\n",
      "“NA/Inf replaced by maximum positive value”\n",
      "Warning message in optimize(riskS, interval = nuirange, y = y, fit = f, w = w):\n",
      "“NA/Inf replaced by maximum positive value”\n",
      "Warning message in optimize(riskS, interval = nuirange, y = y, fit = f, w = w):\n",
      "“NA/Inf replaced by maximum positive value”\n",
      "Warning message in optimize(riskS, interval = nuirange, y = y, fit = f, w = w):\n",
      "“NA/Inf replaced by maximum positive value”\n",
      "Warning message in optimize(riskS, interval = nuirange, y = y, fit = f, w = w):\n",
      "“NA/Inf replaced by maximum positive value”\n",
      "Warning message in optimize(riskS, interval = nuirange, y = y, fit = f, w = w):\n",
      "“NA/Inf replaced by maximum positive value”\n"
     ]
    },
    {
     "name": "stdout",
     "output_type": "stream",
     "text": [
      "."
     ]
    },
    {
     "name": "stderr",
     "output_type": "stream",
     "text": [
      "Warning message in optimize(riskS, interval = nuirange, y = y, fit = f, w = w):\n",
      "“NA/Inf replaced by maximum positive value”\n",
      "Warning message in optimize(riskS, interval = nuirange, y = y, fit = f, w = w):\n",
      "“NA/Inf replaced by maximum positive value”\n",
      "Warning message in optimize(riskS, interval = nuirange, y = y, fit = f, w = w):\n",
      "“NA/Inf replaced by maximum positive value”\n"
     ]
    },
    {
     "name": "stdout",
     "output_type": "stream",
     "text": [
      "."
     ]
    },
    {
     "name": "stderr",
     "output_type": "stream",
     "text": [
      "Warning message in optimize(riskS, interval = nuirange, y = y, fit = f, w = w):\n",
      "“NA/Inf replaced by maximum positive value”\n",
      "Warning message in optimize(riskS, interval = nuirange, y = y, fit = f, w = w):\n",
      "“NA/Inf replaced by maximum positive value”\n"
     ]
    },
    {
     "name": "stdout",
     "output_type": "stream",
     "text": [
      "."
     ]
    },
    {
     "name": "stderr",
     "output_type": "stream",
     "text": [
      "Warning message in optimize(riskS, interval = nuirange, y = y, fit = f, w = w):\n",
      "“NA/Inf replaced by maximum positive value”\n",
      "Warning message in optimize(riskS, interval = nuirange, y = y, fit = f, w = w):\n",
      "“NA/Inf replaced by maximum positive value”\n"
     ]
    },
    {
     "name": "stdout",
     "output_type": "stream",
     "text": [
      "."
     ]
    },
    {
     "name": "stderr",
     "output_type": "stream",
     "text": [
      "Warning message in optimize(riskS, interval = nuirange, y = y, fit = f, w = w):\n",
      "“NA/Inf replaced by maximum positive value”\n",
      "Warning message in optimize(riskS, interval = nuirange, y = y, fit = f, w = w):\n",
      "“NA/Inf replaced by maximum positive value”\n",
      "Warning message in optimize(riskS, interval = nuirange, y = y, fit = f, w = w):\n",
      "“NA/Inf replaced by maximum positive value”\n"
     ]
    },
    {
     "name": "stdout",
     "output_type": "stream",
     "text": [
      "."
     ]
    },
    {
     "name": "stderr",
     "output_type": "stream",
     "text": [
      "Warning message in optimize(riskS, interval = nuirange, y = y, fit = f, w = w):\n",
      "“NA/Inf replaced by maximum positive value”\n",
      "Warning message in optimize(riskS, interval = nuirange, y = y, fit = f, w = w):\n",
      "“NA/Inf replaced by maximum positive value”\n"
     ]
    },
    {
     "name": "stdout",
     "output_type": "stream",
     "text": [
      "."
     ]
    },
    {
     "name": "stderr",
     "output_type": "stream",
     "text": [
      "Warning message in optimize(riskS, interval = nuirange, y = y, fit = f, w = w):\n",
      "“NA/Inf replaced by maximum positive value”\n",
      "Warning message in optimize(riskS, interval = nuirange, y = y, fit = f, w = w):\n",
      "“NA/Inf replaced by maximum positive value”\n",
      "Warning message in optimize(riskS, interval = nuirange, y = y, fit = f, w = w):\n",
      "“NA/Inf replaced by maximum positive value”\n"
     ]
    },
    {
     "name": "stdout",
     "output_type": "stream",
     "text": [
      "."
     ]
    },
    {
     "name": "stderr",
     "output_type": "stream",
     "text": [
      "Warning message in optimize(riskS, interval = nuirange, y = y, fit = f, w = w):\n",
      "“NA/Inf replaced by maximum positive value”\n",
      "Warning message in optimize(riskS, interval = nuirange, y = y, fit = f, w = w):\n",
      "“NA/Inf replaced by maximum positive value”\n",
      "Warning message in optimize(riskS, interval = nuirange, y = y, fit = f, w = w):\n",
      "“NA/Inf replaced by maximum positive value”\n"
     ]
    },
    {
     "name": "stdout",
     "output_type": "stream",
     "text": [
      "."
     ]
    },
    {
     "name": "stderr",
     "output_type": "stream",
     "text": [
      "Warning message in optimize(riskS, interval = nuirange, y = y, fit = f, w = w):\n",
      "“NA/Inf replaced by maximum positive value”\n",
      "Warning message in optimize(riskS, interval = nuirange, y = y, fit = f, w = w):\n",
      "“NA/Inf replaced by maximum positive value”\n",
      "Warning message in optimize(riskS, interval = nuirange, y = y, fit = f, w = w):\n",
      "“NA/Inf replaced by maximum positive value”\n",
      "Warning message in optimize(riskS, interval = nuirange, y = y, fit = f, w = w):\n",
      "“NA/Inf replaced by maximum positive value”\n"
     ]
    },
    {
     "name": "stdout",
     "output_type": "stream",
     "text": [
      "."
     ]
    },
    {
     "name": "stderr",
     "output_type": "stream",
     "text": [
      "Warning message in optimize(riskS, interval = nuirange, y = y, fit = f, w = w):\n",
      "“NA/Inf replaced by maximum positive value”\n",
      "Warning message in optimize(riskS, interval = nuirange, y = y, fit = f, w = w):\n",
      "“NA/Inf replaced by maximum positive value”\n",
      "Warning message in optimize(riskS, interval = nuirange, y = y, fit = f, w = w):\n",
      "“NA/Inf replaced by maximum positive value”\n"
     ]
    },
    {
     "name": "stdout",
     "output_type": "stream",
     "text": [
      "."
     ]
    },
    {
     "name": "stderr",
     "output_type": "stream",
     "text": [
      "Warning message in optimize(riskS, interval = nuirange, y = y, fit = f, w = w):\n",
      "“NA/Inf replaced by maximum positive value”\n",
      "Warning message in optimize(riskS, interval = nuirange, y = y, fit = f, w = w):\n",
      "“NA/Inf replaced by maximum positive value”\n",
      "Warning message in optimize(riskS, interval = nuirange, y = y, fit = f, w = w):\n",
      "“NA/Inf replaced by maximum positive value”\n",
      "Warning message in optimize(riskS, interval = nuirange, y = y, fit = f, w = w):\n",
      "“NA/Inf replaced by maximum positive value”\n"
     ]
    },
    {
     "name": "stdout",
     "output_type": "stream",
     "text": [
      "."
     ]
    },
    {
     "name": "stderr",
     "output_type": "stream",
     "text": [
      "Warning message in optimize(riskS, interval = nuirange, y = y, fit = f, w = w):\n",
      "“NA/Inf replaced by maximum positive value”\n",
      "Warning message in optimize(riskS, interval = nuirange, y = y, fit = f, w = w):\n",
      "“NA/Inf replaced by maximum positive value”\n",
      "Warning message in optimize(riskS, interval = nuirange, y = y, fit = f, w = w):\n",
      "“NA/Inf replaced by maximum positive value”\n",
      "Warning message in optimize(riskS, interval = nuirange, y = y, fit = f, w = w):\n",
      "“NA/Inf replaced by maximum positive value”\n",
      "Warning message in optimize(riskS, interval = nuirange, y = y, fit = f, w = w):\n",
      "“NA/Inf replaced by maximum positive value”\n"
     ]
    },
    {
     "name": "stdout",
     "output_type": "stream",
     "text": [
      "."
     ]
    },
    {
     "name": "stderr",
     "output_type": "stream",
     "text": [
      "Warning message in optimize(riskS, interval = nuirange, y = y, fit = f, w = w):\n",
      "“NA/Inf replaced by maximum positive value”\n",
      "Warning message in optimize(riskS, interval = nuirange, y = y, fit = f, w = w):\n",
      "“NA/Inf replaced by maximum positive value”\n"
     ]
    },
    {
     "name": "stdout",
     "output_type": "stream",
     "text": [
      "."
     ]
    },
    {
     "name": "stderr",
     "output_type": "stream",
     "text": [
      "Warning message in optimize(riskS, interval = nuirange, y = y, fit = f, w = w):\n",
      "“NA/Inf replaced by maximum positive value”\n",
      "Warning message in optimize(riskS, interval = nuirange, y = y, fit = f, w = w):\n",
      "“NA/Inf replaced by maximum positive value”\n",
      "Warning message in optimize(riskS, interval = nuirange, y = y, fit = f, w = w):\n",
      "“NA/Inf replaced by maximum positive value”\n"
     ]
    },
    {
     "name": "stdout",
     "output_type": "stream",
     "text": [
      "."
     ]
    },
    {
     "name": "stderr",
     "output_type": "stream",
     "text": [
      "Warning message in optimize(riskS, interval = nuirange, y = y, fit = f, w = w):\n",
      "“NA/Inf replaced by maximum positive value”\n",
      "Warning message in optimize(riskS, interval = nuirange, y = y, fit = f, w = w):\n",
      "“NA/Inf replaced by maximum positive value”\n",
      "Warning message in optimize(riskS, interval = nuirange, y = y, fit = f, w = w):\n",
      "“NA/Inf replaced by maximum positive value”\n"
     ]
    },
    {
     "name": "stdout",
     "output_type": "stream",
     "text": [
      "."
     ]
    },
    {
     "name": "stderr",
     "output_type": "stream",
     "text": [
      "Warning message in optimize(riskS, interval = nuirange, y = y, fit = f, w = w):\n",
      "“NA/Inf replaced by maximum positive value”\n",
      "Warning message in optimize(riskS, interval = nuirange, y = y, fit = f, w = w):\n",
      "“NA/Inf replaced by maximum positive value”\n",
      "Warning message in optimize(riskS, interval = nuirange, y = y, fit = f, w = w):\n",
      "“NA/Inf replaced by maximum positive value”\n"
     ]
    },
    {
     "name": "stdout",
     "output_type": "stream",
     "text": [
      "."
     ]
    },
    {
     "name": "stderr",
     "output_type": "stream",
     "text": [
      "Warning message in optimize(riskS, interval = nuirange, y = y, fit = f, w = w):\n",
      "“NA/Inf replaced by maximum positive value”\n",
      "Warning message in optimize(riskS, interval = nuirange, y = y, fit = f, w = w):\n",
      "“NA/Inf replaced by maximum positive value”\n",
      "Warning message in optimize(riskS, interval = nuirange, y = y, fit = f, w = w):\n",
      "“NA/Inf replaced by maximum positive value”\n"
     ]
    },
    {
     "name": "stdout",
     "output_type": "stream",
     "text": [
      " -- risk: 27689168 \n"
     ]
    },
    {
     "name": "stderr",
     "output_type": "stream",
     "text": [
      "Warning message in optimize(riskS, interval = nuirange, y = y, fit = f, w = w):\n",
      "“NA/Inf replaced by maximum positive value”\n",
      "Warning message in optimize(riskS, interval = nuirange, y = y, fit = f, w = w):\n",
      "“NA/Inf replaced by maximum positive value”\n",
      "Warning message in optimize(riskS, interval = nuirange, y = y, fit = f, w = w):\n",
      "“NA/Inf replaced by maximum positive value”\n"
     ]
    },
    {
     "name": "stdout",
     "output_type": "stream",
     "text": [
      "[  81] "
     ]
    },
    {
     "name": "stderr",
     "output_type": "stream",
     "text": [
      "Warning message in optimize(riskS, interval = nuirange, y = y, fit = f, w = w):\n",
      "“NA/Inf replaced by maximum positive value”\n",
      "Warning message in optimize(riskS, interval = nuirange, y = y, fit = f, w = w):\n",
      "“NA/Inf replaced by maximum positive value”\n",
      "Warning message in optimize(riskS, interval = nuirange, y = y, fit = f, w = w):\n",
      "“NA/Inf replaced by maximum positive value”\n"
     ]
    },
    {
     "name": "stdout",
     "output_type": "stream",
     "text": [
      "."
     ]
    },
    {
     "name": "stderr",
     "output_type": "stream",
     "text": [
      "Warning message in optimize(riskS, interval = nuirange, y = y, fit = f, w = w):\n",
      "“NA/Inf replaced by maximum positive value”\n",
      "Warning message in optimize(riskS, interval = nuirange, y = y, fit = f, w = w):\n",
      "“NA/Inf replaced by maximum positive value”\n",
      "Warning message in optimize(riskS, interval = nuirange, y = y, fit = f, w = w):\n",
      "“NA/Inf replaced by maximum positive value”\n",
      "Warning message in optimize(riskS, interval = nuirange, y = y, fit = f, w = w):\n",
      "“NA/Inf replaced by maximum positive value”\n"
     ]
    },
    {
     "name": "stdout",
     "output_type": "stream",
     "text": [
      "."
     ]
    },
    {
     "name": "stderr",
     "output_type": "stream",
     "text": [
      "Warning message in optimize(riskS, interval = nuirange, y = y, fit = f, w = w):\n",
      "“NA/Inf replaced by maximum positive value”\n",
      "Warning message in optimize(riskS, interval = nuirange, y = y, fit = f, w = w):\n",
      "“NA/Inf replaced by maximum positive value”\n"
     ]
    },
    {
     "name": "stdout",
     "output_type": "stream",
     "text": [
      "."
     ]
    },
    {
     "name": "stderr",
     "output_type": "stream",
     "text": [
      "Warning message in optimize(riskS, interval = nuirange, y = y, fit = f, w = w):\n",
      "“NA/Inf replaced by maximum positive value”\n",
      "Warning message in optimize(riskS, interval = nuirange, y = y, fit = f, w = w):\n",
      "“NA/Inf replaced by maximum positive value”\n",
      "Warning message in optimize(riskS, interval = nuirange, y = y, fit = f, w = w):\n",
      "“NA/Inf replaced by maximum positive value”\n",
      "Warning message in optimize(riskS, interval = nuirange, y = y, fit = f, w = w):\n",
      "“NA/Inf replaced by maximum positive value”\n"
     ]
    },
    {
     "name": "stdout",
     "output_type": "stream",
     "text": [
      "."
     ]
    },
    {
     "name": "stderr",
     "output_type": "stream",
     "text": [
      "Warning message in optimize(riskS, interval = nuirange, y = y, fit = f, w = w):\n",
      "“NA/Inf replaced by maximum positive value”\n",
      "Warning message in optimize(riskS, interval = nuirange, y = y, fit = f, w = w):\n",
      "“NA/Inf replaced by maximum positive value”\n",
      "Warning message in optimize(riskS, interval = nuirange, y = y, fit = f, w = w):\n",
      "“NA/Inf replaced by maximum positive value”\n"
     ]
    },
    {
     "name": "stdout",
     "output_type": "stream",
     "text": [
      "."
     ]
    },
    {
     "name": "stderr",
     "output_type": "stream",
     "text": [
      "Warning message in optimize(riskS, interval = nuirange, y = y, fit = f, w = w):\n",
      "“NA/Inf replaced by maximum positive value”\n",
      "Warning message in optimize(riskS, interval = nuirange, y = y, fit = f, w = w):\n",
      "“NA/Inf replaced by maximum positive value”\n",
      "Warning message in optimize(riskS, interval = nuirange, y = y, fit = f, w = w):\n",
      "“NA/Inf replaced by maximum positive value”\n",
      "Warning message in optimize(riskS, interval = nuirange, y = y, fit = f, w = w):\n",
      "“NA/Inf replaced by maximum positive value”\n"
     ]
    },
    {
     "name": "stdout",
     "output_type": "stream",
     "text": [
      "."
     ]
    },
    {
     "name": "stderr",
     "output_type": "stream",
     "text": [
      "Warning message in optimize(riskS, interval = nuirange, y = y, fit = f, w = w):\n",
      "“NA/Inf replaced by maximum positive value”\n",
      "Warning message in optimize(riskS, interval = nuirange, y = y, fit = f, w = w):\n",
      "“NA/Inf replaced by maximum positive value”\n",
      "Warning message in optimize(riskS, interval = nuirange, y = y, fit = f, w = w):\n",
      "“NA/Inf replaced by maximum positive value”\n"
     ]
    },
    {
     "name": "stdout",
     "output_type": "stream",
     "text": [
      "."
     ]
    },
    {
     "name": "stderr",
     "output_type": "stream",
     "text": [
      "Warning message in optimize(riskS, interval = nuirange, y = y, fit = f, w = w):\n",
      "“NA/Inf replaced by maximum positive value”\n",
      "Warning message in optimize(riskS, interval = nuirange, y = y, fit = f, w = w):\n",
      "“NA/Inf replaced by maximum positive value”\n",
      "Warning message in optimize(riskS, interval = nuirange, y = y, fit = f, w = w):\n",
      "“NA/Inf replaced by maximum positive value”\n",
      "Warning message in optimize(riskS, interval = nuirange, y = y, fit = f, w = w):\n",
      "“NA/Inf replaced by maximum positive value”\n"
     ]
    },
    {
     "name": "stdout",
     "output_type": "stream",
     "text": [
      "."
     ]
    },
    {
     "name": "stderr",
     "output_type": "stream",
     "text": [
      "Warning message in optimize(riskS, interval = nuirange, y = y, fit = f, w = w):\n",
      "“NA/Inf replaced by maximum positive value”\n",
      "Warning message in optimize(riskS, interval = nuirange, y = y, fit = f, w = w):\n",
      "“NA/Inf replaced by maximum positive value”\n",
      "Warning message in optimize(riskS, interval = nuirange, y = y, fit = f, w = w):\n",
      "“NA/Inf replaced by maximum positive value”\n"
     ]
    },
    {
     "name": "stdout",
     "output_type": "stream",
     "text": [
      "."
     ]
    },
    {
     "name": "stderr",
     "output_type": "stream",
     "text": [
      "Warning message in optimize(riskS, interval = nuirange, y = y, fit = f, w = w):\n",
      "“NA/Inf replaced by maximum positive value”\n",
      "Warning message in optimize(riskS, interval = nuirange, y = y, fit = f, w = w):\n",
      "“NA/Inf replaced by maximum positive value”\n",
      "Warning message in optimize(riskS, interval = nuirange, y = y, fit = f, w = w):\n",
      "“NA/Inf replaced by maximum positive value”\n"
     ]
    },
    {
     "name": "stdout",
     "output_type": "stream",
     "text": [
      "."
     ]
    },
    {
     "name": "stderr",
     "output_type": "stream",
     "text": [
      "Warning message in optimize(riskS, interval = nuirange, y = y, fit = f, w = w):\n",
      "“NA/Inf replaced by maximum positive value”\n",
      "Warning message in optimize(riskS, interval = nuirange, y = y, fit = f, w = w):\n",
      "“NA/Inf replaced by maximum positive value”\n",
      "Warning message in optimize(riskS, interval = nuirange, y = y, fit = f, w = w):\n",
      "“NA/Inf replaced by maximum positive value”\n"
     ]
    },
    {
     "name": "stdout",
     "output_type": "stream",
     "text": [
      "."
     ]
    },
    {
     "name": "stderr",
     "output_type": "stream",
     "text": [
      "Warning message in optimize(riskS, interval = nuirange, y = y, fit = f, w = w):\n",
      "“NA/Inf replaced by maximum positive value”\n",
      "Warning message in optimize(riskS, interval = nuirange, y = y, fit = f, w = w):\n",
      "“NA/Inf replaced by maximum positive value”\n",
      "Warning message in optimize(riskS, interval = nuirange, y = y, fit = f, w = w):\n",
      "“NA/Inf replaced by maximum positive value”\n",
      "Warning message in optimize(riskS, interval = nuirange, y = y, fit = f, w = w):\n",
      "“NA/Inf replaced by maximum positive value”\n"
     ]
    },
    {
     "name": "stdout",
     "output_type": "stream",
     "text": [
      "."
     ]
    },
    {
     "name": "stderr",
     "output_type": "stream",
     "text": [
      "Warning message in optimize(riskS, interval = nuirange, y = y, fit = f, w = w):\n",
      "“NA/Inf replaced by maximum positive value”\n",
      "Warning message in optimize(riskS, interval = nuirange, y = y, fit = f, w = w):\n",
      "“NA/Inf replaced by maximum positive value”\n",
      "Warning message in optimize(riskS, interval = nuirange, y = y, fit = f, w = w):\n",
      "“NA/Inf replaced by maximum positive value”\n"
     ]
    },
    {
     "name": "stdout",
     "output_type": "stream",
     "text": [
      "."
     ]
    },
    {
     "name": "stderr",
     "output_type": "stream",
     "text": [
      "Warning message in optimize(riskS, interval = nuirange, y = y, fit = f, w = w):\n",
      "“NA/Inf replaced by maximum positive value”\n",
      "Warning message in optimize(riskS, interval = nuirange, y = y, fit = f, w = w):\n",
      "“NA/Inf replaced by maximum positive value”\n",
      "Warning message in optimize(riskS, interval = nuirange, y = y, fit = f, w = w):\n",
      "“NA/Inf replaced by maximum positive value”\n",
      "Warning message in optimize(riskS, interval = nuirange, y = y, fit = f, w = w):\n",
      "“NA/Inf replaced by maximum positive value”\n",
      "Warning message in optimize(riskS, interval = nuirange, y = y, fit = f, w = w):\n",
      "“NA/Inf replaced by maximum positive value”\n"
     ]
    },
    {
     "name": "stdout",
     "output_type": "stream",
     "text": [
      "."
     ]
    },
    {
     "name": "stderr",
     "output_type": "stream",
     "text": [
      "Warning message in optimize(riskS, interval = nuirange, y = y, fit = f, w = w):\n",
      "“NA/Inf replaced by maximum positive value”\n",
      "Warning message in optimize(riskS, interval = nuirange, y = y, fit = f, w = w):\n",
      "“NA/Inf replaced by maximum positive value”\n",
      "Warning message in optimize(riskS, interval = nuirange, y = y, fit = f, w = w):\n",
      "“NA/Inf replaced by maximum positive value”\n",
      "Warning message in optimize(riskS, interval = nuirange, y = y, fit = f, w = w):\n",
      "“NA/Inf replaced by maximum positive value”\n"
     ]
    },
    {
     "name": "stdout",
     "output_type": "stream",
     "text": [
      "."
     ]
    },
    {
     "name": "stderr",
     "output_type": "stream",
     "text": [
      "Warning message in optimize(riskS, interval = nuirange, y = y, fit = f, w = w):\n",
      "“NA/Inf replaced by maximum positive value”\n",
      "Warning message in optimize(riskS, interval = nuirange, y = y, fit = f, w = w):\n",
      "“NA/Inf replaced by maximum positive value”\n",
      "Warning message in optimize(riskS, interval = nuirange, y = y, fit = f, w = w):\n",
      "“NA/Inf replaced by maximum positive value”\n",
      "Warning message in optimize(riskS, interval = nuirange, y = y, fit = f, w = w):\n",
      "“NA/Inf replaced by maximum positive value”\n",
      "Warning message in optimize(riskS, interval = nuirange, y = y, fit = f, w = w):\n",
      "“NA/Inf replaced by maximum positive value”\n"
     ]
    },
    {
     "name": "stdout",
     "output_type": "stream",
     "text": [
      "."
     ]
    },
    {
     "name": "stderr",
     "output_type": "stream",
     "text": [
      "Warning message in optimize(riskS, interval = nuirange, y = y, fit = f, w = w):\n",
      "“NA/Inf replaced by maximum positive value”\n",
      "Warning message in optimize(riskS, interval = nuirange, y = y, fit = f, w = w):\n",
      "“NA/Inf replaced by maximum positive value”\n",
      "Warning message in optimize(riskS, interval = nuirange, y = y, fit = f, w = w):\n",
      "“NA/Inf replaced by maximum positive value”\n"
     ]
    },
    {
     "name": "stdout",
     "output_type": "stream",
     "text": [
      "."
     ]
    },
    {
     "name": "stderr",
     "output_type": "stream",
     "text": [
      "Warning message in optimize(riskS, interval = nuirange, y = y, fit = f, w = w):\n",
      "“NA/Inf replaced by maximum positive value”\n",
      "Warning message in optimize(riskS, interval = nuirange, y = y, fit = f, w = w):\n",
      "“NA/Inf replaced by maximum positive value”\n",
      "Warning message in optimize(riskS, interval = nuirange, y = y, fit = f, w = w):\n",
      "“NA/Inf replaced by maximum positive value”\n",
      "Warning message in optimize(riskS, interval = nuirange, y = y, fit = f, w = w):\n",
      "“NA/Inf replaced by maximum positive value”\n"
     ]
    },
    {
     "name": "stdout",
     "output_type": "stream",
     "text": [
      "."
     ]
    },
    {
     "name": "stderr",
     "output_type": "stream",
     "text": [
      "Warning message in optimize(riskS, interval = nuirange, y = y, fit = f, w = w):\n",
      "“NA/Inf replaced by maximum positive value”\n",
      "Warning message in optimize(riskS, interval = nuirange, y = y, fit = f, w = w):\n",
      "“NA/Inf replaced by maximum positive value”\n",
      "Warning message in optimize(riskS, interval = nuirange, y = y, fit = f, w = w):\n",
      "“NA/Inf replaced by maximum positive value”\n",
      "Warning message in optimize(riskS, interval = nuirange, y = y, fit = f, w = w):\n",
      "“NA/Inf replaced by maximum positive value”\n"
     ]
    },
    {
     "name": "stdout",
     "output_type": "stream",
     "text": [
      "."
     ]
    },
    {
     "name": "stderr",
     "output_type": "stream",
     "text": [
      "Warning message in optimize(riskS, interval = nuirange, y = y, fit = f, w = w):\n",
      "“NA/Inf replaced by maximum positive value”\n",
      "Warning message in optimize(riskS, interval = nuirange, y = y, fit = f, w = w):\n",
      "“NA/Inf replaced by maximum positive value”\n",
      "Warning message in optimize(riskS, interval = nuirange, y = y, fit = f, w = w):\n",
      "“NA/Inf replaced by maximum positive value”\n"
     ]
    },
    {
     "name": "stdout",
     "output_type": "stream",
     "text": [
      "."
     ]
    },
    {
     "name": "stderr",
     "output_type": "stream",
     "text": [
      "Warning message in optimize(riskS, interval = nuirange, y = y, fit = f, w = w):\n",
      "“NA/Inf replaced by maximum positive value”\n",
      "Warning message in optimize(riskS, interval = nuirange, y = y, fit = f, w = w):\n",
      "“NA/Inf replaced by maximum positive value”\n",
      "Warning message in optimize(riskS, interval = nuirange, y = y, fit = f, w = w):\n",
      "“NA/Inf replaced by maximum positive value”\n",
      "Warning message in optimize(riskS, interval = nuirange, y = y, fit = f, w = w):\n",
      "“NA/Inf replaced by maximum positive value”\n"
     ]
    },
    {
     "name": "stdout",
     "output_type": "stream",
     "text": [
      "."
     ]
    },
    {
     "name": "stderr",
     "output_type": "stream",
     "text": [
      "Warning message in optimize(riskS, interval = nuirange, y = y, fit = f, w = w):\n",
      "“NA/Inf replaced by maximum positive value”\n",
      "Warning message in optimize(riskS, interval = nuirange, y = y, fit = f, w = w):\n",
      "“NA/Inf replaced by maximum positive value”\n",
      "Warning message in optimize(riskS, interval = nuirange, y = y, fit = f, w = w):\n",
      "“NA/Inf replaced by maximum positive value”\n",
      "Warning message in optimize(riskS, interval = nuirange, y = y, fit = f, w = w):\n",
      "“NA/Inf replaced by maximum positive value”\n"
     ]
    },
    {
     "name": "stdout",
     "output_type": "stream",
     "text": [
      "."
     ]
    },
    {
     "name": "stderr",
     "output_type": "stream",
     "text": [
      "Warning message in optimize(riskS, interval = nuirange, y = y, fit = f, w = w):\n",
      "“NA/Inf replaced by maximum positive value”\n",
      "Warning message in optimize(riskS, interval = nuirange, y = y, fit = f, w = w):\n",
      "“NA/Inf replaced by maximum positive value”\n",
      "Warning message in optimize(riskS, interval = nuirange, y = y, fit = f, w = w):\n",
      "“NA/Inf replaced by maximum positive value”\n",
      "Warning message in optimize(riskS, interval = nuirange, y = y, fit = f, w = w):\n",
      "“NA/Inf replaced by maximum positive value”\n"
     ]
    },
    {
     "name": "stdout",
     "output_type": "stream",
     "text": [
      "."
     ]
    },
    {
     "name": "stderr",
     "output_type": "stream",
     "text": [
      "Warning message in optimize(riskS, interval = nuirange, y = y, fit = f, w = w):\n",
      "“NA/Inf replaced by maximum positive value”\n",
      "Warning message in optimize(riskS, interval = nuirange, y = y, fit = f, w = w):\n",
      "“NA/Inf replaced by maximum positive value”\n",
      "Warning message in optimize(riskS, interval = nuirange, y = y, fit = f, w = w):\n",
      "“NA/Inf replaced by maximum positive value”\n",
      "Warning message in optimize(riskS, interval = nuirange, y = y, fit = f, w = w):\n",
      "“NA/Inf replaced by maximum positive value”\n"
     ]
    },
    {
     "name": "stdout",
     "output_type": "stream",
     "text": [
      "."
     ]
    },
    {
     "name": "stderr",
     "output_type": "stream",
     "text": [
      "Warning message in optimize(riskS, interval = nuirange, y = y, fit = f, w = w):\n",
      "“NA/Inf replaced by maximum positive value”\n"
     ]
    },
    {
     "name": "stdout",
     "output_type": "stream",
     "text": [
      "."
     ]
    },
    {
     "name": "stderr",
     "output_type": "stream",
     "text": [
      "Warning message in optimize(riskS, interval = nuirange, y = y, fit = f, w = w):\n",
      "“NA/Inf replaced by maximum positive value”\n"
     ]
    },
    {
     "name": "stdout",
     "output_type": "stream",
     "text": [
      "."
     ]
    },
    {
     "name": "stderr",
     "output_type": "stream",
     "text": [
      "Warning message in optimize(riskS, interval = nuirange, y = y, fit = f, w = w):\n",
      "“NA/Inf replaced by maximum positive value”\n",
      "Warning message in optimize(riskS, interval = nuirange, y = y, fit = f, w = w):\n",
      "“NA/Inf replaced by maximum positive value”\n"
     ]
    },
    {
     "name": "stdout",
     "output_type": "stream",
     "text": [
      "."
     ]
    },
    {
     "name": "stderr",
     "output_type": "stream",
     "text": [
      "Warning message in optimize(riskS, interval = nuirange, y = y, fit = f, w = w):\n",
      "“NA/Inf replaced by maximum positive value”\n",
      "Warning message in optimize(riskS, interval = nuirange, y = y, fit = f, w = w):\n",
      "“NA/Inf replaced by maximum positive value”\n",
      "Warning message in optimize(riskS, interval = nuirange, y = y, fit = f, w = w):\n",
      "“NA/Inf replaced by maximum positive value”\n"
     ]
    },
    {
     "name": "stdout",
     "output_type": "stream",
     "text": [
      "."
     ]
    },
    {
     "name": "stderr",
     "output_type": "stream",
     "text": [
      "Warning message in optimize(riskS, interval = nuirange, y = y, fit = f, w = w):\n",
      "“NA/Inf replaced by maximum positive value”\n",
      "Warning message in optimize(riskS, interval = nuirange, y = y, fit = f, w = w):\n",
      "“NA/Inf replaced by maximum positive value”\n",
      "Warning message in optimize(riskS, interval = nuirange, y = y, fit = f, w = w):\n",
      "“NA/Inf replaced by maximum positive value”\n"
     ]
    },
    {
     "name": "stdout",
     "output_type": "stream",
     "text": [
      "."
     ]
    },
    {
     "name": "stderr",
     "output_type": "stream",
     "text": [
      "Warning message in optimize(riskS, interval = nuirange, y = y, fit = f, w = w):\n",
      "“NA/Inf replaced by maximum positive value”\n",
      "Warning message in optimize(riskS, interval = nuirange, y = y, fit = f, w = w):\n",
      "“NA/Inf replaced by maximum positive value”\n",
      "Warning message in optimize(riskS, interval = nuirange, y = y, fit = f, w = w):\n",
      "“NA/Inf replaced by maximum positive value”\n"
     ]
    },
    {
     "name": "stdout",
     "output_type": "stream",
     "text": [
      "."
     ]
    },
    {
     "name": "stderr",
     "output_type": "stream",
     "text": [
      "Warning message in optimize(riskS, interval = nuirange, y = y, fit = f, w = w):\n",
      "“NA/Inf replaced by maximum positive value”\n",
      "Warning message in optimize(riskS, interval = nuirange, y = y, fit = f, w = w):\n",
      "“NA/Inf replaced by maximum positive value”\n",
      "Warning message in optimize(riskS, interval = nuirange, y = y, fit = f, w = w):\n",
      "“NA/Inf replaced by maximum positive value”\n"
     ]
    },
    {
     "name": "stdout",
     "output_type": "stream",
     "text": [
      "."
     ]
    },
    {
     "name": "stderr",
     "output_type": "stream",
     "text": [
      "Warning message in optimize(riskS, interval = nuirange, y = y, fit = f, w = w):\n",
      "“NA/Inf replaced by maximum positive value”\n",
      "Warning message in optimize(riskS, interval = nuirange, y = y, fit = f, w = w):\n",
      "“NA/Inf replaced by maximum positive value”\n",
      "Warning message in optimize(riskS, interval = nuirange, y = y, fit = f, w = w):\n",
      "“NA/Inf replaced by maximum positive value”\n",
      "Warning message in optimize(riskS, interval = nuirange, y = y, fit = f, w = w):\n",
      "“NA/Inf replaced by maximum positive value”\n"
     ]
    },
    {
     "name": "stdout",
     "output_type": "stream",
     "text": [
      "."
     ]
    },
    {
     "name": "stderr",
     "output_type": "stream",
     "text": [
      "Warning message in optimize(riskS, interval = nuirange, y = y, fit = f, w = w):\n",
      "“NA/Inf replaced by maximum positive value”\n",
      "Warning message in optimize(riskS, interval = nuirange, y = y, fit = f, w = w):\n",
      "“NA/Inf replaced by maximum positive value”\n"
     ]
    },
    {
     "name": "stdout",
     "output_type": "stream",
     "text": [
      "."
     ]
    },
    {
     "name": "stderr",
     "output_type": "stream",
     "text": [
      "Warning message in optimize(riskS, interval = nuirange, y = y, fit = f, w = w):\n",
      "“NA/Inf replaced by maximum positive value”\n",
      "Warning message in optimize(riskS, interval = nuirange, y = y, fit = f, w = w):\n",
      "“NA/Inf replaced by maximum positive value”\n"
     ]
    },
    {
     "name": "stdout",
     "output_type": "stream",
     "text": [
      "."
     ]
    },
    {
     "name": "stderr",
     "output_type": "stream",
     "text": [
      "Warning message in optimize(riskS, interval = nuirange, y = y, fit = f, w = w):\n",
      "“NA/Inf replaced by maximum positive value”\n",
      "Warning message in optimize(riskS, interval = nuirange, y = y, fit = f, w = w):\n",
      "“NA/Inf replaced by maximum positive value”\n",
      "Warning message in optimize(riskS, interval = nuirange, y = y, fit = f, w = w):\n",
      "“NA/Inf replaced by maximum positive value”\n"
     ]
    },
    {
     "name": "stdout",
     "output_type": "stream",
     "text": [
      "."
     ]
    },
    {
     "name": "stderr",
     "output_type": "stream",
     "text": [
      "Warning message in optimize(riskS, interval = nuirange, y = y, fit = f, w = w):\n",
      "“NA/Inf replaced by maximum positive value”\n",
      "Warning message in optimize(riskS, interval = nuirange, y = y, fit = f, w = w):\n",
      "“NA/Inf replaced by maximum positive value”\n",
      "Warning message in optimize(riskS, interval = nuirange, y = y, fit = f, w = w):\n",
      "“NA/Inf replaced by maximum positive value”\n"
     ]
    },
    {
     "name": "stdout",
     "output_type": "stream",
     "text": [
      "."
     ]
    },
    {
     "name": "stderr",
     "output_type": "stream",
     "text": [
      "Warning message in optimize(riskS, interval = nuirange, y = y, fit = f, w = w):\n",
      "“NA/Inf replaced by maximum positive value”\n",
      "Warning message in optimize(riskS, interval = nuirange, y = y, fit = f, w = w):\n",
      "“NA/Inf replaced by maximum positive value”\n",
      "Warning message in optimize(riskS, interval = nuirange, y = y, fit = f, w = w):\n",
      "“NA/Inf replaced by maximum positive value”\n",
      "Warning message in optimize(riskS, interval = nuirange, y = y, fit = f, w = w):\n",
      "“NA/Inf replaced by maximum positive value”\n"
     ]
    },
    {
     "name": "stdout",
     "output_type": "stream",
     "text": [
      "."
     ]
    },
    {
     "name": "stderr",
     "output_type": "stream",
     "text": [
      "Warning message in optimize(riskS, interval = nuirange, y = y, fit = f, w = w):\n",
      "“NA/Inf replaced by maximum positive value”\n",
      "Warning message in optimize(riskS, interval = nuirange, y = y, fit = f, w = w):\n",
      "“NA/Inf replaced by maximum positive value”\n"
     ]
    },
    {
     "name": "stdout",
     "output_type": "stream",
     "text": [
      "."
     ]
    },
    {
     "name": "stderr",
     "output_type": "stream",
     "text": [
      "Warning message in optimize(riskS, interval = nuirange, y = y, fit = f, w = w):\n",
      "“NA/Inf replaced by maximum positive value”\n",
      "Warning message in optimize(riskS, interval = nuirange, y = y, fit = f, w = w):\n",
      "“NA/Inf replaced by maximum positive value”\n",
      "Warning message in optimize(riskS, interval = nuirange, y = y, fit = f, w = w):\n",
      "“NA/Inf replaced by maximum positive value”\n"
     ]
    },
    {
     "name": "stdout",
     "output_type": "stream",
     "text": [
      " -- risk: 42906038 \n"
     ]
    },
    {
     "name": "stderr",
     "output_type": "stream",
     "text": [
      "Warning message in optimize(riskS, interval = nuirange, y = y, fit = f, w = w):\n",
      "“NA/Inf replaced by maximum positive value”\n",
      "Warning message in optimize(riskS, interval = nuirange, y = y, fit = f, w = w):\n",
      "“NA/Inf replaced by maximum positive value”\n",
      "Warning message in optimize(riskS, interval = nuirange, y = y, fit = f, w = w):\n",
      "“NA/Inf replaced by maximum positive value”\n"
     ]
    },
    {
     "name": "stdout",
     "output_type": "stream",
     "text": [
      "[ 121] "
     ]
    },
    {
     "name": "stderr",
     "output_type": "stream",
     "text": [
      "Warning message in optimize(riskS, interval = nuirange, y = y, fit = f, w = w):\n",
      "“NA/Inf replaced by maximum positive value”\n",
      "Warning message in optimize(riskS, interval = nuirange, y = y, fit = f, w = w):\n",
      "“NA/Inf replaced by maximum positive value”\n",
      "Warning message in optimize(riskS, interval = nuirange, y = y, fit = f, w = w):\n",
      "“NA/Inf replaced by maximum positive value”\n",
      "Warning message in optimize(riskS, interval = nuirange, y = y, fit = f, w = w):\n",
      "“NA/Inf replaced by maximum positive value”\n"
     ]
    },
    {
     "name": "stdout",
     "output_type": "stream",
     "text": [
      "."
     ]
    },
    {
     "name": "stderr",
     "output_type": "stream",
     "text": [
      "Warning message in optimize(riskS, interval = nuirange, y = y, fit = f, w = w):\n",
      "“NA/Inf replaced by maximum positive value”\n",
      "Warning message in optimize(riskS, interval = nuirange, y = y, fit = f, w = w):\n",
      "“NA/Inf replaced by maximum positive value”\n",
      "Warning message in optimize(riskS, interval = nuirange, y = y, fit = f, w = w):\n",
      "“NA/Inf replaced by maximum positive value”\n"
     ]
    },
    {
     "name": "stdout",
     "output_type": "stream",
     "text": [
      "."
     ]
    },
    {
     "name": "stderr",
     "output_type": "stream",
     "text": [
      "Warning message in optimize(riskS, interval = nuirange, y = y, fit = f, w = w):\n",
      "“NA/Inf replaced by maximum positive value”\n",
      "Warning message in optimize(riskS, interval = nuirange, y = y, fit = f, w = w):\n",
      "“NA/Inf replaced by maximum positive value”\n",
      "Warning message in optimize(riskS, interval = nuirange, y = y, fit = f, w = w):\n",
      "“NA/Inf replaced by maximum positive value”\n",
      "Warning message in optimize(riskS, interval = nuirange, y = y, fit = f, w = w):\n",
      "“NA/Inf replaced by maximum positive value”\n"
     ]
    },
    {
     "name": "stdout",
     "output_type": "stream",
     "text": [
      "."
     ]
    },
    {
     "name": "stderr",
     "output_type": "stream",
     "text": [
      "Warning message in optimize(riskS, interval = nuirange, y = y, fit = f, w = w):\n",
      "“NA/Inf replaced by maximum positive value”\n",
      "Warning message in optimize(riskS, interval = nuirange, y = y, fit = f, w = w):\n",
      "“NA/Inf replaced by maximum positive value”\n",
      "Warning message in optimize(riskS, interval = nuirange, y = y, fit = f, w = w):\n",
      "“NA/Inf replaced by maximum positive value”\n"
     ]
    },
    {
     "name": "stdout",
     "output_type": "stream",
     "text": [
      "."
     ]
    },
    {
     "name": "stderr",
     "output_type": "stream",
     "text": [
      "Warning message in optimize(riskS, interval = nuirange, y = y, fit = f, w = w):\n",
      "“NA/Inf replaced by maximum positive value”\n",
      "Warning message in optimize(riskS, interval = nuirange, y = y, fit = f, w = w):\n",
      "“NA/Inf replaced by maximum positive value”\n",
      "Warning message in optimize(riskS, interval = nuirange, y = y, fit = f, w = w):\n",
      "“NA/Inf replaced by maximum positive value”\n",
      "Warning message in optimize(riskS, interval = nuirange, y = y, fit = f, w = w):\n",
      "“NA/Inf replaced by maximum positive value”\n"
     ]
    },
    {
     "name": "stdout",
     "output_type": "stream",
     "text": [
      "."
     ]
    },
    {
     "name": "stderr",
     "output_type": "stream",
     "text": [
      "Warning message in optimize(riskS, interval = nuirange, y = y, fit = f, w = w):\n",
      "“NA/Inf replaced by maximum positive value”\n",
      "Warning message in optimize(riskS, interval = nuirange, y = y, fit = f, w = w):\n",
      "“NA/Inf replaced by maximum positive value”\n",
      "Warning message in optimize(riskS, interval = nuirange, y = y, fit = f, w = w):\n",
      "“NA/Inf replaced by maximum positive value”\n"
     ]
    },
    {
     "name": "stdout",
     "output_type": "stream",
     "text": [
      "."
     ]
    },
    {
     "name": "stderr",
     "output_type": "stream",
     "text": [
      "Warning message in optimize(riskS, interval = nuirange, y = y, fit = f, w = w):\n",
      "“NA/Inf replaced by maximum positive value”\n",
      "Warning message in optimize(riskS, interval = nuirange, y = y, fit = f, w = w):\n",
      "“NA/Inf replaced by maximum positive value”\n",
      "Warning message in optimize(riskS, interval = nuirange, y = y, fit = f, w = w):\n",
      "“NA/Inf replaced by maximum positive value”\n",
      "Warning message in optimize(riskS, interval = nuirange, y = y, fit = f, w = w):\n",
      "“NA/Inf replaced by maximum positive value”\n"
     ]
    },
    {
     "name": "stdout",
     "output_type": "stream",
     "text": [
      "."
     ]
    },
    {
     "name": "stderr",
     "output_type": "stream",
     "text": [
      "Warning message in optimize(riskS, interval = nuirange, y = y, fit = f, w = w):\n",
      "“NA/Inf replaced by maximum positive value”\n",
      "Warning message in optimize(riskS, interval = nuirange, y = y, fit = f, w = w):\n",
      "“NA/Inf replaced by maximum positive value”\n"
     ]
    },
    {
     "name": "stdout",
     "output_type": "stream",
     "text": [
      "."
     ]
    },
    {
     "name": "stderr",
     "output_type": "stream",
     "text": [
      "Warning message in optimize(riskS, interval = nuirange, y = y, fit = f, w = w):\n",
      "“NA/Inf replaced by maximum positive value”\n",
      "Warning message in optimize(riskS, interval = nuirange, y = y, fit = f, w = w):\n",
      "“NA/Inf replaced by maximum positive value”\n",
      "Warning message in optimize(riskS, interval = nuirange, y = y, fit = f, w = w):\n",
      "“NA/Inf replaced by maximum positive value”\n"
     ]
    },
    {
     "name": "stdout",
     "output_type": "stream",
     "text": [
      "."
     ]
    },
    {
     "name": "stderr",
     "output_type": "stream",
     "text": [
      "Warning message in optimize(riskS, interval = nuirange, y = y, fit = f, w = w):\n",
      "“NA/Inf replaced by maximum positive value”\n",
      "Warning message in optimize(riskS, interval = nuirange, y = y, fit = f, w = w):\n",
      "“NA/Inf replaced by maximum positive value”\n"
     ]
    },
    {
     "name": "stdout",
     "output_type": "stream",
     "text": [
      "."
     ]
    },
    {
     "name": "stderr",
     "output_type": "stream",
     "text": [
      "Warning message in optimize(riskS, interval = nuirange, y = y, fit = f, w = w):\n",
      "“NA/Inf replaced by maximum positive value”\n",
      "Warning message in optimize(riskS, interval = nuirange, y = y, fit = f, w = w):\n",
      "“NA/Inf replaced by maximum positive value”\n",
      "Warning message in optimize(riskS, interval = nuirange, y = y, fit = f, w = w):\n",
      "“NA/Inf replaced by maximum positive value”\n"
     ]
    },
    {
     "name": "stdout",
     "output_type": "stream",
     "text": [
      "."
     ]
    },
    {
     "name": "stderr",
     "output_type": "stream",
     "text": [
      "Warning message in optimize(riskS, interval = nuirange, y = y, fit = f, w = w):\n",
      "“NA/Inf replaced by maximum positive value”\n",
      "Warning message in optimize(riskS, interval = nuirange, y = y, fit = f, w = w):\n",
      "“NA/Inf replaced by maximum positive value”\n"
     ]
    },
    {
     "name": "stdout",
     "output_type": "stream",
     "text": [
      "."
     ]
    },
    {
     "name": "stderr",
     "output_type": "stream",
     "text": [
      "Warning message in optimize(riskS, interval = nuirange, y = y, fit = f, w = w):\n",
      "“NA/Inf replaced by maximum positive value”\n",
      "Warning message in optimize(riskS, interval = nuirange, y = y, fit = f, w = w):\n",
      "“NA/Inf replaced by maximum positive value”\n",
      "Warning message in optimize(riskS, interval = nuirange, y = y, fit = f, w = w):\n",
      "“NA/Inf replaced by maximum positive value”\n"
     ]
    },
    {
     "name": "stdout",
     "output_type": "stream",
     "text": [
      "."
     ]
    },
    {
     "name": "stderr",
     "output_type": "stream",
     "text": [
      "Warning message in optimize(riskS, interval = nuirange, y = y, fit = f, w = w):\n",
      "“NA/Inf replaced by maximum positive value”\n",
      "Warning message in optimize(riskS, interval = nuirange, y = y, fit = f, w = w):\n",
      "“NA/Inf replaced by maximum positive value”\n",
      "Warning message in optimize(riskS, interval = nuirange, y = y, fit = f, w = w):\n",
      "“NA/Inf replaced by maximum positive value”\n"
     ]
    },
    {
     "name": "stdout",
     "output_type": "stream",
     "text": [
      "."
     ]
    },
    {
     "name": "stderr",
     "output_type": "stream",
     "text": [
      "Warning message in optimize(riskS, interval = nuirange, y = y, fit = f, w = w):\n",
      "“NA/Inf replaced by maximum positive value”\n",
      "Warning message in optimize(riskS, interval = nuirange, y = y, fit = f, w = w):\n",
      "“NA/Inf replaced by maximum positive value”\n",
      "Warning message in optimize(riskS, interval = nuirange, y = y, fit = f, w = w):\n",
      "“NA/Inf replaced by maximum positive value”\n"
     ]
    },
    {
     "name": "stdout",
     "output_type": "stream",
     "text": [
      "."
     ]
    },
    {
     "name": "stderr",
     "output_type": "stream",
     "text": [
      "Warning message in optimize(riskS, interval = nuirange, y = y, fit = f, w = w):\n",
      "“NA/Inf replaced by maximum positive value”\n",
      "Warning message in optimize(riskS, interval = nuirange, y = y, fit = f, w = w):\n",
      "“NA/Inf replaced by maximum positive value”\n",
      "Warning message in optimize(riskS, interval = nuirange, y = y, fit = f, w = w):\n",
      "“NA/Inf replaced by maximum positive value”\n"
     ]
    },
    {
     "name": "stdout",
     "output_type": "stream",
     "text": [
      "."
     ]
    },
    {
     "name": "stderr",
     "output_type": "stream",
     "text": [
      "Warning message in optimize(riskS, interval = nuirange, y = y, fit = f, w = w):\n",
      "“NA/Inf replaced by maximum positive value”\n",
      "Warning message in optimize(riskS, interval = nuirange, y = y, fit = f, w = w):\n",
      "“NA/Inf replaced by maximum positive value”\n",
      "Warning message in optimize(riskS, interval = nuirange, y = y, fit = f, w = w):\n",
      "“NA/Inf replaced by maximum positive value”\n",
      "Warning message in optimize(riskS, interval = nuirange, y = y, fit = f, w = w):\n",
      "“NA/Inf replaced by maximum positive value”\n"
     ]
    },
    {
     "name": "stdout",
     "output_type": "stream",
     "text": [
      "."
     ]
    },
    {
     "name": "stderr",
     "output_type": "stream",
     "text": [
      "Warning message in optimize(riskS, interval = nuirange, y = y, fit = f, w = w):\n",
      "“NA/Inf replaced by maximum positive value”\n",
      "Warning message in optimize(riskS, interval = nuirange, y = y, fit = f, w = w):\n",
      "“NA/Inf replaced by maximum positive value”\n",
      "Warning message in optimize(riskS, interval = nuirange, y = y, fit = f, w = w):\n",
      "“NA/Inf replaced by maximum positive value”\n"
     ]
    },
    {
     "name": "stdout",
     "output_type": "stream",
     "text": [
      "."
     ]
    },
    {
     "name": "stderr",
     "output_type": "stream",
     "text": [
      "Warning message in optimize(riskS, interval = nuirange, y = y, fit = f, w = w):\n",
      "“NA/Inf replaced by maximum positive value”\n",
      "Warning message in optimize(riskS, interval = nuirange, y = y, fit = f, w = w):\n",
      "“NA/Inf replaced by maximum positive value”\n",
      "Warning message in optimize(riskS, interval = nuirange, y = y, fit = f, w = w):\n",
      "“NA/Inf replaced by maximum positive value”\n"
     ]
    },
    {
     "name": "stdout",
     "output_type": "stream",
     "text": [
      "."
     ]
    },
    {
     "name": "stderr",
     "output_type": "stream",
     "text": [
      "Warning message in optimize(riskS, interval = nuirange, y = y, fit = f, w = w):\n",
      "“NA/Inf replaced by maximum positive value”\n",
      "Warning message in optimize(riskS, interval = nuirange, y = y, fit = f, w = w):\n",
      "“NA/Inf replaced by maximum positive value”\n",
      "Warning message in optimize(riskS, interval = nuirange, y = y, fit = f, w = w):\n",
      "“NA/Inf replaced by maximum positive value”\n"
     ]
    },
    {
     "name": "stdout",
     "output_type": "stream",
     "text": [
      "."
     ]
    },
    {
     "name": "stderr",
     "output_type": "stream",
     "text": [
      "Warning message in optimize(riskS, interval = nuirange, y = y, fit = f, w = w):\n",
      "“NA/Inf replaced by maximum positive value”\n",
      "Warning message in optimize(riskS, interval = nuirange, y = y, fit = f, w = w):\n",
      "“NA/Inf replaced by maximum positive value”\n",
      "Warning message in optimize(riskS, interval = nuirange, y = y, fit = f, w = w):\n",
      "“NA/Inf replaced by maximum positive value”\n"
     ]
    },
    {
     "name": "stdout",
     "output_type": "stream",
     "text": [
      "."
     ]
    },
    {
     "name": "stderr",
     "output_type": "stream",
     "text": [
      "Warning message in optimize(riskS, interval = nuirange, y = y, fit = f, w = w):\n",
      "“NA/Inf replaced by maximum positive value”\n",
      "Warning message in optimize(riskS, interval = nuirange, y = y, fit = f, w = w):\n",
      "“NA/Inf replaced by maximum positive value”\n",
      "Warning message in optimize(riskS, interval = nuirange, y = y, fit = f, w = w):\n",
      "“NA/Inf replaced by maximum positive value”\n",
      "Warning message in optimize(riskS, interval = nuirange, y = y, fit = f, w = w):\n",
      "“NA/Inf replaced by maximum positive value”\n"
     ]
    },
    {
     "name": "stdout",
     "output_type": "stream",
     "text": [
      "."
     ]
    },
    {
     "name": "stderr",
     "output_type": "stream",
     "text": [
      "Warning message in optimize(riskS, interval = nuirange, y = y, fit = f, w = w):\n",
      "“NA/Inf replaced by maximum positive value”\n",
      "Warning message in optimize(riskS, interval = nuirange, y = y, fit = f, w = w):\n",
      "“NA/Inf replaced by maximum positive value”\n",
      "Warning message in optimize(riskS, interval = nuirange, y = y, fit = f, w = w):\n",
      "“NA/Inf replaced by maximum positive value”\n",
      "Warning message in optimize(riskS, interval = nuirange, y = y, fit = f, w = w):\n",
      "“NA/Inf replaced by maximum positive value”\n"
     ]
    },
    {
     "name": "stdout",
     "output_type": "stream",
     "text": [
      "."
     ]
    },
    {
     "name": "stderr",
     "output_type": "stream",
     "text": [
      "Warning message in optimize(riskS, interval = nuirange, y = y, fit = f, w = w):\n",
      "“NA/Inf replaced by maximum positive value”\n",
      "Warning message in optimize(riskS, interval = nuirange, y = y, fit = f, w = w):\n",
      "“NA/Inf replaced by maximum positive value”\n",
      "Warning message in optimize(riskS, interval = nuirange, y = y, fit = f, w = w):\n",
      "“NA/Inf replaced by maximum positive value”\n"
     ]
    },
    {
     "name": "stdout",
     "output_type": "stream",
     "text": [
      "."
     ]
    },
    {
     "name": "stderr",
     "output_type": "stream",
     "text": [
      "Warning message in optimize(riskS, interval = nuirange, y = y, fit = f, w = w):\n",
      "“NA/Inf replaced by maximum positive value”\n",
      "Warning message in optimize(riskS, interval = nuirange, y = y, fit = f, w = w):\n",
      "“NA/Inf replaced by maximum positive value”\n",
      "Warning message in optimize(riskS, interval = nuirange, y = y, fit = f, w = w):\n",
      "“NA/Inf replaced by maximum positive value”\n",
      "Warning message in optimize(riskS, interval = nuirange, y = y, fit = f, w = w):\n",
      "“NA/Inf replaced by maximum positive value”\n"
     ]
    },
    {
     "name": "stdout",
     "output_type": "stream",
     "text": [
      "."
     ]
    },
    {
     "name": "stderr",
     "output_type": "stream",
     "text": [
      "Warning message in optimize(riskS, interval = nuirange, y = y, fit = f, w = w):\n",
      "“NA/Inf replaced by maximum positive value”\n",
      "Warning message in optimize(riskS, interval = nuirange, y = y, fit = f, w = w):\n",
      "“NA/Inf replaced by maximum positive value”\n",
      "Warning message in optimize(riskS, interval = nuirange, y = y, fit = f, w = w):\n",
      "“NA/Inf replaced by maximum positive value”\n",
      "Warning message in optimize(riskS, interval = nuirange, y = y, fit = f, w = w):\n",
      "“NA/Inf replaced by maximum positive value”\n",
      "Warning message in optimize(riskS, interval = nuirange, y = y, fit = f, w = w):\n",
      "“NA/Inf replaced by maximum positive value”\n"
     ]
    },
    {
     "name": "stdout",
     "output_type": "stream",
     "text": [
      "."
     ]
    },
    {
     "name": "stderr",
     "output_type": "stream",
     "text": [
      "Warning message in optimize(riskS, interval = nuirange, y = y, fit = f, w = w):\n",
      "“NA/Inf replaced by maximum positive value”\n",
      "Warning message in optimize(riskS, interval = nuirange, y = y, fit = f, w = w):\n",
      "“NA/Inf replaced by maximum positive value”\n",
      "Warning message in optimize(riskS, interval = nuirange, y = y, fit = f, w = w):\n",
      "“NA/Inf replaced by maximum positive value”\n",
      "Warning message in optimize(riskS, interval = nuirange, y = y, fit = f, w = w):\n",
      "“NA/Inf replaced by maximum positive value”\n",
      "Warning message in optimize(riskS, interval = nuirange, y = y, fit = f, w = w):\n",
      "“NA/Inf replaced by maximum positive value”\n"
     ]
    },
    {
     "name": "stdout",
     "output_type": "stream",
     "text": [
      "."
     ]
    },
    {
     "name": "stderr",
     "output_type": "stream",
     "text": [
      "Warning message in optimize(riskS, interval = nuirange, y = y, fit = f, w = w):\n",
      "“NA/Inf replaced by maximum positive value”\n",
      "Warning message in optimize(riskS, interval = nuirange, y = y, fit = f, w = w):\n",
      "“NA/Inf replaced by maximum positive value”\n",
      "Warning message in optimize(riskS, interval = nuirange, y = y, fit = f, w = w):\n",
      "“NA/Inf replaced by maximum positive value”\n",
      "Warning message in optimize(riskS, interval = nuirange, y = y, fit = f, w = w):\n",
      "“NA/Inf replaced by maximum positive value”\n",
      "Warning message in optimize(riskS, interval = nuirange, y = y, fit = f, w = w):\n",
      "“NA/Inf replaced by maximum positive value”\n"
     ]
    },
    {
     "name": "stdout",
     "output_type": "stream",
     "text": [
      "."
     ]
    },
    {
     "name": "stderr",
     "output_type": "stream",
     "text": [
      "Warning message in optimize(riskS, interval = nuirange, y = y, fit = f, w = w):\n",
      "“NA/Inf replaced by maximum positive value”\n",
      "Warning message in optimize(riskS, interval = nuirange, y = y, fit = f, w = w):\n",
      "“NA/Inf replaced by maximum positive value”\n",
      "Warning message in optimize(riskS, interval = nuirange, y = y, fit = f, w = w):\n",
      "“NA/Inf replaced by maximum positive value”\n"
     ]
    },
    {
     "name": "stdout",
     "output_type": "stream",
     "text": [
      "."
     ]
    },
    {
     "name": "stderr",
     "output_type": "stream",
     "text": [
      "Warning message in optimize(riskS, interval = nuirange, y = y, fit = f, w = w):\n",
      "“NA/Inf replaced by maximum positive value”\n",
      "Warning message in optimize(riskS, interval = nuirange, y = y, fit = f, w = w):\n",
      "“NA/Inf replaced by maximum positive value”\n",
      "Warning message in optimize(riskS, interval = nuirange, y = y, fit = f, w = w):\n",
      "“NA/Inf replaced by maximum positive value”\n"
     ]
    },
    {
     "name": "stdout",
     "output_type": "stream",
     "text": [
      "."
     ]
    },
    {
     "name": "stderr",
     "output_type": "stream",
     "text": [
      "Warning message in optimize(riskS, interval = nuirange, y = y, fit = f, w = w):\n",
      "“NA/Inf replaced by maximum positive value”\n",
      "Warning message in optimize(riskS, interval = nuirange, y = y, fit = f, w = w):\n",
      "“NA/Inf replaced by maximum positive value”\n",
      "Warning message in optimize(riskS, interval = nuirange, y = y, fit = f, w = w):\n",
      "“NA/Inf replaced by maximum positive value”\n",
      "Warning message in optimize(riskS, interval = nuirange, y = y, fit = f, w = w):\n",
      "“NA/Inf replaced by maximum positive value”\n"
     ]
    },
    {
     "name": "stdout",
     "output_type": "stream",
     "text": [
      "."
     ]
    },
    {
     "name": "stderr",
     "output_type": "stream",
     "text": [
      "Warning message in optimize(riskS, interval = nuirange, y = y, fit = f, w = w):\n",
      "“NA/Inf replaced by maximum positive value”\n",
      "Warning message in optimize(riskS, interval = nuirange, y = y, fit = f, w = w):\n",
      "“NA/Inf replaced by maximum positive value”\n",
      "Warning message in optimize(riskS, interval = nuirange, y = y, fit = f, w = w):\n",
      "“NA/Inf replaced by maximum positive value”\n",
      "Warning message in optimize(riskS, interval = nuirange, y = y, fit = f, w = w):\n",
      "“NA/Inf replaced by maximum positive value”\n",
      "Warning message in optimize(riskS, interval = nuirange, y = y, fit = f, w = w):\n",
      "“NA/Inf replaced by maximum positive value”\n"
     ]
    },
    {
     "name": "stdout",
     "output_type": "stream",
     "text": [
      "."
     ]
    },
    {
     "name": "stderr",
     "output_type": "stream",
     "text": [
      "Warning message in optimize(riskS, interval = nuirange, y = y, fit = f, w = w):\n",
      "“NA/Inf replaced by maximum positive value”\n",
      "Warning message in optimize(riskS, interval = nuirange, y = y, fit = f, w = w):\n",
      "“NA/Inf replaced by maximum positive value”\n",
      "Warning message in optimize(riskS, interval = nuirange, y = y, fit = f, w = w):\n",
      "“NA/Inf replaced by maximum positive value”\n"
     ]
    },
    {
     "name": "stdout",
     "output_type": "stream",
     "text": [
      "."
     ]
    },
    {
     "name": "stderr",
     "output_type": "stream",
     "text": [
      "Warning message in optimize(riskS, interval = nuirange, y = y, fit = f, w = w):\n",
      "“NA/Inf replaced by maximum positive value”\n",
      "Warning message in optimize(riskS, interval = nuirange, y = y, fit = f, w = w):\n",
      "“NA/Inf replaced by maximum positive value”\n",
      "Warning message in optimize(riskS, interval = nuirange, y = y, fit = f, w = w):\n",
      "“NA/Inf replaced by maximum positive value”\n",
      "Warning message in optimize(riskS, interval = nuirange, y = y, fit = f, w = w):\n",
      "“NA/Inf replaced by maximum positive value”\n"
     ]
    },
    {
     "name": "stdout",
     "output_type": "stream",
     "text": [
      "."
     ]
    },
    {
     "name": "stderr",
     "output_type": "stream",
     "text": [
      "Warning message in optimize(riskS, interval = nuirange, y = y, fit = f, w = w):\n",
      "“NA/Inf replaced by maximum positive value”\n",
      "Warning message in optimize(riskS, interval = nuirange, y = y, fit = f, w = w):\n",
      "“NA/Inf replaced by maximum positive value”\n",
      "Warning message in optimize(riskS, interval = nuirange, y = y, fit = f, w = w):\n",
      "“NA/Inf replaced by maximum positive value”\n",
      "Warning message in optimize(riskS, interval = nuirange, y = y, fit = f, w = w):\n",
      "“NA/Inf replaced by maximum positive value”\n",
      "Warning message in optimize(riskS, interval = nuirange, y = y, fit = f, w = w):\n",
      "“NA/Inf replaced by maximum positive value”\n"
     ]
    },
    {
     "name": "stdout",
     "output_type": "stream",
     "text": [
      "."
     ]
    },
    {
     "name": "stderr",
     "output_type": "stream",
     "text": [
      "Warning message in optimize(riskS, interval = nuirange, y = y, fit = f, w = w):\n",
      "“NA/Inf replaced by maximum positive value”\n",
      "Warning message in optimize(riskS, interval = nuirange, y = y, fit = f, w = w):\n",
      "“NA/Inf replaced by maximum positive value”\n",
      "Warning message in optimize(riskS, interval = nuirange, y = y, fit = f, w = w):\n",
      "“NA/Inf replaced by maximum positive value”\n",
      "Warning message in optimize(riskS, interval = nuirange, y = y, fit = f, w = w):\n",
      "“NA/Inf replaced by maximum positive value”\n"
     ]
    },
    {
     "name": "stdout",
     "output_type": "stream",
     "text": [
      "."
     ]
    },
    {
     "name": "stderr",
     "output_type": "stream",
     "text": [
      "Warning message in optimize(riskS, interval = nuirange, y = y, fit = f, w = w):\n",
      "“NA/Inf replaced by maximum positive value”\n",
      "Warning message in optimize(riskS, interval = nuirange, y = y, fit = f, w = w):\n",
      "“NA/Inf replaced by maximum positive value”\n",
      "Warning message in optimize(riskS, interval = nuirange, y = y, fit = f, w = w):\n",
      "“NA/Inf replaced by maximum positive value”\n",
      "Warning message in optimize(riskS, interval = nuirange, y = y, fit = f, w = w):\n",
      "“NA/Inf replaced by maximum positive value”\n"
     ]
    },
    {
     "name": "stdout",
     "output_type": "stream",
     "text": [
      "."
     ]
    },
    {
     "name": "stderr",
     "output_type": "stream",
     "text": [
      "Warning message in optimize(riskS, interval = nuirange, y = y, fit = f, w = w):\n",
      "“NA/Inf replaced by maximum positive value”\n",
      "Warning message in optimize(riskS, interval = nuirange, y = y, fit = f, w = w):\n",
      "“NA/Inf replaced by maximum positive value”\n",
      "Warning message in optimize(riskS, interval = nuirange, y = y, fit = f, w = w):\n",
      "“NA/Inf replaced by maximum positive value”\n",
      "Warning message in optimize(riskS, interval = nuirange, y = y, fit = f, w = w):\n",
      "“NA/Inf replaced by maximum positive value”\n",
      "Warning message in optimize(riskS, interval = nuirange, y = y, fit = f, w = w):\n",
      "“NA/Inf replaced by maximum positive value”\n"
     ]
    },
    {
     "name": "stdout",
     "output_type": "stream",
     "text": [
      "."
     ]
    },
    {
     "name": "stderr",
     "output_type": "stream",
     "text": [
      "Warning message in optimize(riskS, interval = nuirange, y = y, fit = f, w = w):\n",
      "“NA/Inf replaced by maximum positive value”\n",
      "Warning message in optimize(riskS, interval = nuirange, y = y, fit = f, w = w):\n",
      "“NA/Inf replaced by maximum positive value”\n",
      "Warning message in optimize(riskS, interval = nuirange, y = y, fit = f, w = w):\n",
      "“NA/Inf replaced by maximum positive value”\n",
      "Warning message in optimize(riskS, interval = nuirange, y = y, fit = f, w = w):\n",
      "“NA/Inf replaced by maximum positive value”\n",
      "Warning message in optimize(riskS, interval = nuirange, y = y, fit = f, w = w):\n",
      "“NA/Inf replaced by maximum positive value”\n"
     ]
    },
    {
     "name": "stdout",
     "output_type": "stream",
     "text": [
      " -- risk: 48289442 \n"
     ]
    },
    {
     "name": "stderr",
     "output_type": "stream",
     "text": [
      "Warning message in optimize(riskS, interval = nuirange, y = y, fit = f, w = w):\n",
      "“NA/Inf replaced by maximum positive value”\n",
      "Warning message in optimize(riskS, interval = nuirange, y = y, fit = f, w = w):\n",
      "“NA/Inf replaced by maximum positive value”\n",
      "Warning message in optimize(riskS, interval = nuirange, y = y, fit = f, w = w):\n",
      "“NA/Inf replaced by maximum positive value”\n",
      "Warning message in optimize(riskS, interval = nuirange, y = y, fit = f, w = w):\n",
      "“NA/Inf replaced by maximum positive value”\n"
     ]
    },
    {
     "name": "stdout",
     "output_type": "stream",
     "text": [
      "[ 161] "
     ]
    },
    {
     "name": "stderr",
     "output_type": "stream",
     "text": [
      "Warning message in optimize(riskS, interval = nuirange, y = y, fit = f, w = w):\n",
      "“NA/Inf replaced by maximum positive value”\n",
      "Warning message in optimize(riskS, interval = nuirange, y = y, fit = f, w = w):\n",
      "“NA/Inf replaced by maximum positive value”\n"
     ]
    },
    {
     "name": "stdout",
     "output_type": "stream",
     "text": [
      "."
     ]
    },
    {
     "name": "stderr",
     "output_type": "stream",
     "text": [
      "Warning message in optimize(riskS, interval = nuirange, y = y, fit = f, w = w):\n",
      "“NA/Inf replaced by maximum positive value”\n",
      "Warning message in optimize(riskS, interval = nuirange, y = y, fit = f, w = w):\n",
      "“NA/Inf replaced by maximum positive value”\n"
     ]
    },
    {
     "name": "stdout",
     "output_type": "stream",
     "text": [
      "."
     ]
    },
    {
     "name": "stderr",
     "output_type": "stream",
     "text": [
      "Warning message in optimize(riskS, interval = nuirange, y = y, fit = f, w = w):\n",
      "“NA/Inf replaced by maximum positive value”\n",
      "Warning message in optimize(riskS, interval = nuirange, y = y, fit = f, w = w):\n",
      "“NA/Inf replaced by maximum positive value”\n",
      "Warning message in optimize(riskS, interval = nuirange, y = y, fit = f, w = w):\n",
      "“NA/Inf replaced by maximum positive value”\n"
     ]
    },
    {
     "name": "stdout",
     "output_type": "stream",
     "text": [
      "."
     ]
    },
    {
     "name": "stderr",
     "output_type": "stream",
     "text": [
      "Warning message in optimize(riskS, interval = nuirange, y = y, fit = f, w = w):\n",
      "“NA/Inf replaced by maximum positive value”\n",
      "Warning message in optimize(riskS, interval = nuirange, y = y, fit = f, w = w):\n",
      "“NA/Inf replaced by maximum positive value”\n",
      "Warning message in optimize(riskS, interval = nuirange, y = y, fit = f, w = w):\n",
      "“NA/Inf replaced by maximum positive value”\n"
     ]
    },
    {
     "name": "stdout",
     "output_type": "stream",
     "text": [
      "."
     ]
    },
    {
     "name": "stderr",
     "output_type": "stream",
     "text": [
      "Warning message in optimize(riskS, interval = nuirange, y = y, fit = f, w = w):\n",
      "“NA/Inf replaced by maximum positive value”\n",
      "Warning message in optimize(riskS, interval = nuirange, y = y, fit = f, w = w):\n",
      "“NA/Inf replaced by maximum positive value”\n"
     ]
    },
    {
     "name": "stdout",
     "output_type": "stream",
     "text": [
      "."
     ]
    },
    {
     "name": "stderr",
     "output_type": "stream",
     "text": [
      "Warning message in optimize(riskS, interval = nuirange, y = y, fit = f, w = w):\n",
      "“NA/Inf replaced by maximum positive value”\n",
      "Warning message in optimize(riskS, interval = nuirange, y = y, fit = f, w = w):\n",
      "“NA/Inf replaced by maximum positive value”\n",
      "Warning message in optimize(riskS, interval = nuirange, y = y, fit = f, w = w):\n",
      "“NA/Inf replaced by maximum positive value”\n"
     ]
    },
    {
     "name": "stdout",
     "output_type": "stream",
     "text": [
      "."
     ]
    },
    {
     "name": "stderr",
     "output_type": "stream",
     "text": [
      "Warning message in optimize(riskS, interval = nuirange, y = y, fit = f, w = w):\n",
      "“NA/Inf replaced by maximum positive value”\n",
      "Warning message in optimize(riskS, interval = nuirange, y = y, fit = f, w = w):\n",
      "“NA/Inf replaced by maximum positive value”\n",
      "Warning message in optimize(riskS, interval = nuirange, y = y, fit = f, w = w):\n",
      "“NA/Inf replaced by maximum positive value”\n"
     ]
    },
    {
     "name": "stdout",
     "output_type": "stream",
     "text": [
      "."
     ]
    },
    {
     "name": "stderr",
     "output_type": "stream",
     "text": [
      "Warning message in optimize(riskS, interval = nuirange, y = y, fit = f, w = w):\n",
      "“NA/Inf replaced by maximum positive value”\n",
      "Warning message in optimize(riskS, interval = nuirange, y = y, fit = f, w = w):\n",
      "“NA/Inf replaced by maximum positive value”\n",
      "Warning message in optimize(riskS, interval = nuirange, y = y, fit = f, w = w):\n",
      "“NA/Inf replaced by maximum positive value”\n"
     ]
    },
    {
     "name": "stdout",
     "output_type": "stream",
     "text": [
      "."
     ]
    },
    {
     "name": "stderr",
     "output_type": "stream",
     "text": [
      "Warning message in optimize(riskS, interval = nuirange, y = y, fit = f, w = w):\n",
      "“NA/Inf replaced by maximum positive value”\n",
      "Warning message in optimize(riskS, interval = nuirange, y = y, fit = f, w = w):\n",
      "“NA/Inf replaced by maximum positive value”\n",
      "Warning message in optimize(riskS, interval = nuirange, y = y, fit = f, w = w):\n",
      "“NA/Inf replaced by maximum positive value”\n"
     ]
    },
    {
     "name": "stdout",
     "output_type": "stream",
     "text": [
      "."
     ]
    },
    {
     "name": "stderr",
     "output_type": "stream",
     "text": [
      "Warning message in optimize(riskS, interval = nuirange, y = y, fit = f, w = w):\n",
      "“NA/Inf replaced by maximum positive value”\n",
      "Warning message in optimize(riskS, interval = nuirange, y = y, fit = f, w = w):\n",
      "“NA/Inf replaced by maximum positive value”\n",
      "Warning message in optimize(riskS, interval = nuirange, y = y, fit = f, w = w):\n",
      "“NA/Inf replaced by maximum positive value”\n"
     ]
    },
    {
     "name": "stdout",
     "output_type": "stream",
     "text": [
      "."
     ]
    },
    {
     "name": "stderr",
     "output_type": "stream",
     "text": [
      "Warning message in optimize(riskS, interval = nuirange, y = y, fit = f, w = w):\n",
      "“NA/Inf replaced by maximum positive value”\n",
      "Warning message in optimize(riskS, interval = nuirange, y = y, fit = f, w = w):\n",
      "“NA/Inf replaced by maximum positive value”\n",
      "Warning message in optimize(riskS, interval = nuirange, y = y, fit = f, w = w):\n",
      "“NA/Inf replaced by maximum positive value”\n",
      "Warning message in optimize(riskS, interval = nuirange, y = y, fit = f, w = w):\n",
      "“NA/Inf replaced by maximum positive value”\n"
     ]
    },
    {
     "name": "stdout",
     "output_type": "stream",
     "text": [
      "."
     ]
    },
    {
     "name": "stderr",
     "output_type": "stream",
     "text": [
      "Warning message in optimize(riskS, interval = nuirange, y = y, fit = f, w = w):\n",
      "“NA/Inf replaced by maximum positive value”\n",
      "Warning message in optimize(riskS, interval = nuirange, y = y, fit = f, w = w):\n",
      "“NA/Inf replaced by maximum positive value”\n",
      "Warning message in optimize(riskS, interval = nuirange, y = y, fit = f, w = w):\n",
      "“NA/Inf replaced by maximum positive value”\n"
     ]
    },
    {
     "name": "stdout",
     "output_type": "stream",
     "text": [
      "."
     ]
    },
    {
     "name": "stderr",
     "output_type": "stream",
     "text": [
      "Warning message in optimize(riskS, interval = nuirange, y = y, fit = f, w = w):\n",
      "“NA/Inf replaced by maximum positive value”\n",
      "Warning message in optimize(riskS, interval = nuirange, y = y, fit = f, w = w):\n",
      "“NA/Inf replaced by maximum positive value”\n",
      "Warning message in optimize(riskS, interval = nuirange, y = y, fit = f, w = w):\n",
      "“NA/Inf replaced by maximum positive value”\n"
     ]
    },
    {
     "name": "stdout",
     "output_type": "stream",
     "text": [
      "."
     ]
    },
    {
     "name": "stderr",
     "output_type": "stream",
     "text": [
      "Warning message in optimize(riskS, interval = nuirange, y = y, fit = f, w = w):\n",
      "“NA/Inf replaced by maximum positive value”\n",
      "Warning message in optimize(riskS, interval = nuirange, y = y, fit = f, w = w):\n",
      "“NA/Inf replaced by maximum positive value”\n",
      "Warning message in optimize(riskS, interval = nuirange, y = y, fit = f, w = w):\n",
      "“NA/Inf replaced by maximum positive value”\n"
     ]
    },
    {
     "name": "stdout",
     "output_type": "stream",
     "text": [
      "."
     ]
    },
    {
     "name": "stderr",
     "output_type": "stream",
     "text": [
      "Warning message in optimize(riskS, interval = nuirange, y = y, fit = f, w = w):\n",
      "“NA/Inf replaced by maximum positive value”\n",
      "Warning message in optimize(riskS, interval = nuirange, y = y, fit = f, w = w):\n",
      "“NA/Inf replaced by maximum positive value”\n",
      "Warning message in optimize(riskS, interval = nuirange, y = y, fit = f, w = w):\n",
      "“NA/Inf replaced by maximum positive value”\n"
     ]
    },
    {
     "name": "stdout",
     "output_type": "stream",
     "text": [
      "."
     ]
    },
    {
     "name": "stderr",
     "output_type": "stream",
     "text": [
      "Warning message in optimize(riskS, interval = nuirange, y = y, fit = f, w = w):\n",
      "“NA/Inf replaced by maximum positive value”\n",
      "Warning message in optimize(riskS, interval = nuirange, y = y, fit = f, w = w):\n",
      "“NA/Inf replaced by maximum positive value”\n",
      "Warning message in optimize(riskS, interval = nuirange, y = y, fit = f, w = w):\n",
      "“NA/Inf replaced by maximum positive value”\n",
      "Warning message in optimize(riskS, interval = nuirange, y = y, fit = f, w = w):\n",
      "“NA/Inf replaced by maximum positive value”\n"
     ]
    },
    {
     "name": "stdout",
     "output_type": "stream",
     "text": [
      "."
     ]
    },
    {
     "name": "stderr",
     "output_type": "stream",
     "text": [
      "Warning message in optimize(riskS, interval = nuirange, y = y, fit = f, w = w):\n",
      "“NA/Inf replaced by maximum positive value”\n",
      "Warning message in optimize(riskS, interval = nuirange, y = y, fit = f, w = w):\n",
      "“NA/Inf replaced by maximum positive value”\n",
      "Warning message in optimize(riskS, interval = nuirange, y = y, fit = f, w = w):\n",
      "“NA/Inf replaced by maximum positive value”\n"
     ]
    },
    {
     "name": "stdout",
     "output_type": "stream",
     "text": [
      "."
     ]
    },
    {
     "name": "stderr",
     "output_type": "stream",
     "text": [
      "Warning message in optimize(riskS, interval = nuirange, y = y, fit = f, w = w):\n",
      "“NA/Inf replaced by maximum positive value”\n",
      "Warning message in optimize(riskS, interval = nuirange, y = y, fit = f, w = w):\n",
      "“NA/Inf replaced by maximum positive value”\n",
      "Warning message in optimize(riskS, interval = nuirange, y = y, fit = f, w = w):\n",
      "“NA/Inf replaced by maximum positive value”\n"
     ]
    },
    {
     "name": "stdout",
     "output_type": "stream",
     "text": [
      "."
     ]
    },
    {
     "name": "stderr",
     "output_type": "stream",
     "text": [
      "Warning message in optimize(riskS, interval = nuirange, y = y, fit = f, w = w):\n",
      "“NA/Inf replaced by maximum positive value”\n",
      "Warning message in optimize(riskS, interval = nuirange, y = y, fit = f, w = w):\n",
      "“NA/Inf replaced by maximum positive value”\n",
      "Warning message in optimize(riskS, interval = nuirange, y = y, fit = f, w = w):\n",
      "“NA/Inf replaced by maximum positive value”\n",
      "Warning message in optimize(riskS, interval = nuirange, y = y, fit = f, w = w):\n",
      "“NA/Inf replaced by maximum positive value”\n"
     ]
    },
    {
     "name": "stdout",
     "output_type": "stream",
     "text": [
      "."
     ]
    },
    {
     "name": "stderr",
     "output_type": "stream",
     "text": [
      "Warning message in optimize(riskS, interval = nuirange, y = y, fit = f, w = w):\n",
      "“NA/Inf replaced by maximum positive value”\n",
      "Warning message in optimize(riskS, interval = nuirange, y = y, fit = f, w = w):\n",
      "“NA/Inf replaced by maximum positive value”\n",
      "Warning message in optimize(riskS, interval = nuirange, y = y, fit = f, w = w):\n",
      "“NA/Inf replaced by maximum positive value”\n",
      "Warning message in optimize(riskS, interval = nuirange, y = y, fit = f, w = w):\n",
      "“NA/Inf replaced by maximum positive value”\n"
     ]
    },
    {
     "name": "stdout",
     "output_type": "stream",
     "text": [
      "."
     ]
    },
    {
     "name": "stderr",
     "output_type": "stream",
     "text": [
      "Warning message in optimize(riskS, interval = nuirange, y = y, fit = f, w = w):\n",
      "“NA/Inf replaced by maximum positive value”\n",
      "Warning message in optimize(riskS, interval = nuirange, y = y, fit = f, w = w):\n",
      "“NA/Inf replaced by maximum positive value”\n",
      "Warning message in optimize(riskS, interval = nuirange, y = y, fit = f, w = w):\n",
      "“NA/Inf replaced by maximum positive value”\n",
      "Warning message in optimize(riskS, interval = nuirange, y = y, fit = f, w = w):\n",
      "“NA/Inf replaced by maximum positive value”\n",
      "Warning message in optimize(riskS, interval = nuirange, y = y, fit = f, w = w):\n",
      "“NA/Inf replaced by maximum positive value”\n"
     ]
    },
    {
     "name": "stdout",
     "output_type": "stream",
     "text": [
      "."
     ]
    },
    {
     "name": "stderr",
     "output_type": "stream",
     "text": [
      "Warning message in optimize(riskS, interval = nuirange, y = y, fit = f, w = w):\n",
      "“NA/Inf replaced by maximum positive value”\n",
      "Warning message in optimize(riskS, interval = nuirange, y = y, fit = f, w = w):\n",
      "“NA/Inf replaced by maximum positive value”\n",
      "Warning message in optimize(riskS, interval = nuirange, y = y, fit = f, w = w):\n",
      "“NA/Inf replaced by maximum positive value”\n",
      "Warning message in optimize(riskS, interval = nuirange, y = y, fit = f, w = w):\n",
      "“NA/Inf replaced by maximum positive value”\n",
      "Warning message in optimize(riskS, interval = nuirange, y = y, fit = f, w = w):\n",
      "“NA/Inf replaced by maximum positive value”\n"
     ]
    },
    {
     "name": "stdout",
     "output_type": "stream",
     "text": [
      "."
     ]
    },
    {
     "name": "stderr",
     "output_type": "stream",
     "text": [
      "Warning message in optimize(riskS, interval = nuirange, y = y, fit = f, w = w):\n",
      "“NA/Inf replaced by maximum positive value”\n",
      "Warning message in optimize(riskS, interval = nuirange, y = y, fit = f, w = w):\n",
      "“NA/Inf replaced by maximum positive value”\n",
      "Warning message in optimize(riskS, interval = nuirange, y = y, fit = f, w = w):\n",
      "“NA/Inf replaced by maximum positive value”\n"
     ]
    },
    {
     "name": "stdout",
     "output_type": "stream",
     "text": [
      "."
     ]
    },
    {
     "name": "stderr",
     "output_type": "stream",
     "text": [
      "Warning message in optimize(riskS, interval = nuirange, y = y, fit = f, w = w):\n",
      "“NA/Inf replaced by maximum positive value”\n",
      "Warning message in optimize(riskS, interval = nuirange, y = y, fit = f, w = w):\n",
      "“NA/Inf replaced by maximum positive value”\n",
      "Warning message in optimize(riskS, interval = nuirange, y = y, fit = f, w = w):\n",
      "“NA/Inf replaced by maximum positive value”\n"
     ]
    },
    {
     "name": "stdout",
     "output_type": "stream",
     "text": [
      "."
     ]
    },
    {
     "name": "stderr",
     "output_type": "stream",
     "text": [
      "Warning message in optimize(riskS, interval = nuirange, y = y, fit = f, w = w):\n",
      "“NA/Inf replaced by maximum positive value”\n",
      "Warning message in optimize(riskS, interval = nuirange, y = y, fit = f, w = w):\n",
      "“NA/Inf replaced by maximum positive value”\n",
      "Warning message in optimize(riskS, interval = nuirange, y = y, fit = f, w = w):\n",
      "“NA/Inf replaced by maximum positive value”\n"
     ]
    },
    {
     "name": "stdout",
     "output_type": "stream",
     "text": [
      "."
     ]
    },
    {
     "name": "stderr",
     "output_type": "stream",
     "text": [
      "Warning message in optimize(riskS, interval = nuirange, y = y, fit = f, w = w):\n",
      "“NA/Inf replaced by maximum positive value”\n",
      "Warning message in optimize(riskS, interval = nuirange, y = y, fit = f, w = w):\n",
      "“NA/Inf replaced by maximum positive value”\n",
      "Warning message in optimize(riskS, interval = nuirange, y = y, fit = f, w = w):\n",
      "“NA/Inf replaced by maximum positive value”\n"
     ]
    },
    {
     "name": "stdout",
     "output_type": "stream",
     "text": [
      "."
     ]
    },
    {
     "name": "stderr",
     "output_type": "stream",
     "text": [
      "Warning message in optimize(riskS, interval = nuirange, y = y, fit = f, w = w):\n",
      "“NA/Inf replaced by maximum positive value”\n",
      "Warning message in optimize(riskS, interval = nuirange, y = y, fit = f, w = w):\n",
      "“NA/Inf replaced by maximum positive value”\n",
      "Warning message in optimize(riskS, interval = nuirange, y = y, fit = f, w = w):\n",
      "“NA/Inf replaced by maximum positive value”\n",
      "Warning message in optimize(riskS, interval = nuirange, y = y, fit = f, w = w):\n",
      "“NA/Inf replaced by maximum positive value”\n"
     ]
    },
    {
     "name": "stdout",
     "output_type": "stream",
     "text": [
      "."
     ]
    },
    {
     "name": "stderr",
     "output_type": "stream",
     "text": [
      "Warning message in optimize(riskS, interval = nuirange, y = y, fit = f, w = w):\n",
      "“NA/Inf replaced by maximum positive value”\n",
      "Warning message in optimize(riskS, interval = nuirange, y = y, fit = f, w = w):\n",
      "“NA/Inf replaced by maximum positive value”\n",
      "Warning message in optimize(riskS, interval = nuirange, y = y, fit = f, w = w):\n",
      "“NA/Inf replaced by maximum positive value”\n"
     ]
    },
    {
     "name": "stdout",
     "output_type": "stream",
     "text": [
      "."
     ]
    },
    {
     "name": "stderr",
     "output_type": "stream",
     "text": [
      "Warning message in optimize(riskS, interval = nuirange, y = y, fit = f, w = w):\n",
      "“NA/Inf replaced by maximum positive value”\n",
      "Warning message in optimize(riskS, interval = nuirange, y = y, fit = f, w = w):\n",
      "“NA/Inf replaced by maximum positive value”\n",
      "Warning message in optimize(riskS, interval = nuirange, y = y, fit = f, w = w):\n",
      "“NA/Inf replaced by maximum positive value”\n",
      "Warning message in optimize(riskS, interval = nuirange, y = y, fit = f, w = w):\n",
      "“NA/Inf replaced by maximum positive value”\n"
     ]
    },
    {
     "name": "stdout",
     "output_type": "stream",
     "text": [
      "."
     ]
    },
    {
     "name": "stderr",
     "output_type": "stream",
     "text": [
      "Warning message in optimize(riskS, interval = nuirange, y = y, fit = f, w = w):\n",
      "“NA/Inf replaced by maximum positive value”\n",
      "Warning message in optimize(riskS, interval = nuirange, y = y, fit = f, w = w):\n",
      "“NA/Inf replaced by maximum positive value”\n",
      "Warning message in optimize(riskS, interval = nuirange, y = y, fit = f, w = w):\n",
      "“NA/Inf replaced by maximum positive value”\n",
      "Warning message in optimize(riskS, interval = nuirange, y = y, fit = f, w = w):\n",
      "“NA/Inf replaced by maximum positive value”\n",
      "Warning message in optimize(riskS, interval = nuirange, y = y, fit = f, w = w):\n",
      "“NA/Inf replaced by maximum positive value”\n"
     ]
    },
    {
     "name": "stdout",
     "output_type": "stream",
     "text": [
      "."
     ]
    },
    {
     "name": "stderr",
     "output_type": "stream",
     "text": [
      "Warning message in optimize(riskS, interval = nuirange, y = y, fit = f, w = w):\n",
      "“NA/Inf replaced by maximum positive value”\n",
      "Warning message in optimize(riskS, interval = nuirange, y = y, fit = f, w = w):\n",
      "“NA/Inf replaced by maximum positive value”\n",
      "Warning message in optimize(riskS, interval = nuirange, y = y, fit = f, w = w):\n",
      "“NA/Inf replaced by maximum positive value”\n"
     ]
    },
    {
     "name": "stdout",
     "output_type": "stream",
     "text": [
      "."
     ]
    },
    {
     "name": "stderr",
     "output_type": "stream",
     "text": [
      "Warning message in optimize(riskS, interval = nuirange, y = y, fit = f, w = w):\n",
      "“NA/Inf replaced by maximum positive value”\n",
      "Warning message in optimize(riskS, interval = nuirange, y = y, fit = f, w = w):\n",
      "“NA/Inf replaced by maximum positive value”\n",
      "Warning message in optimize(riskS, interval = nuirange, y = y, fit = f, w = w):\n",
      "“NA/Inf replaced by maximum positive value”\n",
      "Warning message in optimize(riskS, interval = nuirange, y = y, fit = f, w = w):\n",
      "“NA/Inf replaced by maximum positive value”\n"
     ]
    },
    {
     "name": "stdout",
     "output_type": "stream",
     "text": [
      "."
     ]
    },
    {
     "name": "stderr",
     "output_type": "stream",
     "text": [
      "Warning message in optimize(riskS, interval = nuirange, y = y, fit = f, w = w):\n",
      "“NA/Inf replaced by maximum positive value”\n",
      "Warning message in optimize(riskS, interval = nuirange, y = y, fit = f, w = w):\n",
      "“NA/Inf replaced by maximum positive value”\n",
      "Warning message in optimize(riskS, interval = nuirange, y = y, fit = f, w = w):\n",
      "“NA/Inf replaced by maximum positive value”\n",
      "Warning message in optimize(riskS, interval = nuirange, y = y, fit = f, w = w):\n",
      "“NA/Inf replaced by maximum positive value”\n"
     ]
    },
    {
     "name": "stdout",
     "output_type": "stream",
     "text": [
      "."
     ]
    },
    {
     "name": "stderr",
     "output_type": "stream",
     "text": [
      "Warning message in optimize(riskS, interval = nuirange, y = y, fit = f, w = w):\n",
      "“NA/Inf replaced by maximum positive value”\n",
      "Warning message in optimize(riskS, interval = nuirange, y = y, fit = f, w = w):\n",
      "“NA/Inf replaced by maximum positive value”\n",
      "Warning message in optimize(riskS, interval = nuirange, y = y, fit = f, w = w):\n",
      "“NA/Inf replaced by maximum positive value”\n",
      "Warning message in optimize(riskS, interval = nuirange, y = y, fit = f, w = w):\n",
      "“NA/Inf replaced by maximum positive value”\n"
     ]
    },
    {
     "name": "stdout",
     "output_type": "stream",
     "text": [
      "."
     ]
    },
    {
     "name": "stderr",
     "output_type": "stream",
     "text": [
      "Warning message in optimize(riskS, interval = nuirange, y = y, fit = f, w = w):\n",
      "“NA/Inf replaced by maximum positive value”\n",
      "Warning message in optimize(riskS, interval = nuirange, y = y, fit = f, w = w):\n",
      "“NA/Inf replaced by maximum positive value”\n",
      "Warning message in optimize(riskS, interval = nuirange, y = y, fit = f, w = w):\n",
      "“NA/Inf replaced by maximum positive value”\n",
      "Warning message in optimize(riskS, interval = nuirange, y = y, fit = f, w = w):\n",
      "“NA/Inf replaced by maximum positive value”\n",
      "Warning message in optimize(riskS, interval = nuirange, y = y, fit = f, w = w):\n",
      "“NA/Inf replaced by maximum positive value”\n"
     ]
    },
    {
     "name": "stdout",
     "output_type": "stream",
     "text": [
      "."
     ]
    },
    {
     "name": "stderr",
     "output_type": "stream",
     "text": [
      "Warning message in optimize(riskS, interval = nuirange, y = y, fit = f, w = w):\n",
      "“NA/Inf replaced by maximum positive value”\n",
      "Warning message in optimize(riskS, interval = nuirange, y = y, fit = f, w = w):\n",
      "“NA/Inf replaced by maximum positive value”\n",
      "Warning message in optimize(riskS, interval = nuirange, y = y, fit = f, w = w):\n",
      "“NA/Inf replaced by maximum positive value”\n",
      "Warning message in optimize(riskS, interval = nuirange, y = y, fit = f, w = w):\n",
      "“NA/Inf replaced by maximum positive value”\n"
     ]
    },
    {
     "name": "stdout",
     "output_type": "stream",
     "text": [
      "."
     ]
    },
    {
     "name": "stderr",
     "output_type": "stream",
     "text": [
      "Warning message in optimize(riskS, interval = nuirange, y = y, fit = f, w = w):\n",
      "“NA/Inf replaced by maximum positive value”\n",
      "Warning message in optimize(riskS, interval = nuirange, y = y, fit = f, w = w):\n",
      "“NA/Inf replaced by maximum positive value”\n",
      "Warning message in optimize(riskS, interval = nuirange, y = y, fit = f, w = w):\n",
      "“NA/Inf replaced by maximum positive value”\n",
      "Warning message in optimize(riskS, interval = nuirange, y = y, fit = f, w = w):\n",
      "“NA/Inf replaced by maximum positive value”\n",
      "Warning message in optimize(riskS, interval = nuirange, y = y, fit = f, w = w):\n",
      "“NA/Inf replaced by maximum positive value”\n",
      "Warning message in optimize(riskS, interval = nuirange, y = y, fit = f, w = w):\n",
      "“NA/Inf replaced by maximum positive value”\n"
     ]
    },
    {
     "name": "stdout",
     "output_type": "stream",
     "text": [
      "."
     ]
    },
    {
     "name": "stderr",
     "output_type": "stream",
     "text": [
      "Warning message in optimize(riskS, interval = nuirange, y = y, fit = f, w = w):\n",
      "“NA/Inf replaced by maximum positive value”\n",
      "Warning message in optimize(riskS, interval = nuirange, y = y, fit = f, w = w):\n",
      "“NA/Inf replaced by maximum positive value”\n",
      "Warning message in optimize(riskS, interval = nuirange, y = y, fit = f, w = w):\n",
      "“NA/Inf replaced by maximum positive value”\n"
     ]
    },
    {
     "name": "stdout",
     "output_type": "stream",
     "text": [
      "."
     ]
    },
    {
     "name": "stderr",
     "output_type": "stream",
     "text": [
      "Warning message in optimize(riskS, interval = nuirange, y = y, fit = f, w = w):\n",
      "“NA/Inf replaced by maximum positive value”\n",
      "Warning message in optimize(riskS, interval = nuirange, y = y, fit = f, w = w):\n",
      "“NA/Inf replaced by maximum positive value”\n",
      "Warning message in optimize(riskS, interval = nuirange, y = y, fit = f, w = w):\n",
      "“NA/Inf replaced by maximum positive value”\n"
     ]
    },
    {
     "name": "stdout",
     "output_type": "stream",
     "text": [
      "\n",
      "Final risk: 51503808 \n"
     ]
    },
    {
     "data": {
      "image/png": "[encoded data removed]",
      "text/plain": [
       "Plot with title “glmboost.formula(formula = formula, data = trn.data, family = Lognormal(), ”",
       "Plot with title “    control = boost_control(mstop = 200, nu = 0.001, trace = TRUE))”"
      ]
     },
     "metadata": {
      "image/png": {
       "height": 420,
       "width": 420
      },
      "text/plain": {
       "height": 420,
       "width": 420
      }
     },
     "output_type": "display_data"
    },
    {
     "name": "stderr",
     "output_type": "stream",
     "text": [
      "Warning message in coef_model[i] = coef(glm):\n",
      "“number of items to replace is not a multiple of replacement length”\n"
     ]
    },
    {
     "data": {
      "image/png": "[encoded data removed]",
      "text/plain": [
       "Plot with title “glmboost.formula(formula = formula, data = trn.data, family = Lognormal(), ”",
       "Plot with title “    control = boost_control(mstop = 200, nu = 0.001, trace = TRUE))”"
      ]
     },
     "metadata": {
      "image/png": {
       "height": 420,
       "width": 420
      },
      "text/plain": {
       "height": 420,
       "width": 420
      }
     },
     "output_type": "display_data"
    }
   ],
   "source": [
    "i = 1\n",
    "res                 = getXY(fold_iter[i],folds,inputs,labels)\n",
    "X                   = res$X\n",
    "X.val               = res$X.val\n",
    "y.lower             = res$y.lower\n",
    "y.lower.val         = res$y.lower.val\n",
    "y.upper             = res$y.upper\n",
    "y.upper.val         = res$y.upper.val\n",
    "train.folds         = cut(seq(1,nrow(X)),breaks=5,labels=FALSE)\n",
    "res                 = list()\n",
    "my.surv             = Surv(y.lower,y.upper,type='interval2')\n",
    "formula             = as.formula(paste(\"my.surv ~\", paste(colnames(X),collapse=\"+\")))\n",
    "trn.data            = data.frame(X,y.lower,y.upper)\n",
    "glm = glmboost(formula,data=trn.data,family=Lognormal(),control=boost_control(mstop=200,nu=0.001,trace=TRUE))\n",
    "plot(glm, off2int = TRUE)\n",
    "plot(glm, ylim = range(coef(glm)))\n",
    "coef_model[i]       = coef(glm)\n",
    "tst.data            = data.frame(X.val)\n",
    "pred.y.val          = predict(glm,tst.data,type=\"response\")\n",
    "accuracy_fold[1]    = sum(mapply(getaccuracy,pred.y.val,y.lower.val,y.upper.val))/length(pred.y.val)"
   ]
  },
  {
   "cell_type": "code",
   "execution_count": 19,
   "metadata": {},
   "outputs": [
    {
     "name": "stderr",
     "output_type": "stream",
     "text": [
      "Warning message in c.basis(bresponse = response, bshifting = shifting):\n",
      "“more than one basis contains an intercept term”\n"
     ]
    },
    {
     "data": {
      "text/plain": [
       "'log Lik.' -409.3729 (df=29)"
      ]
     },
     "metadata": {},
     "output_type": "display_data"
    },
    {
     "data": {
      "image/png": "[encoded data removed]",
      "text/plain": [
       "plot without title"
      ]
     },
     "metadata": {
      "image/png": {
       "height": 420,
       "width": 420
      },
      "text/plain": {
       "height": 420,
       "width": 420
      }
     },
     "output_type": "display_data"
    }
   ],
   "source": [
    "### With STM - Mboost (Additive Smooth Models)\n",
    "trn.data$y.lower = trn.data$y.upper = NULL\n",
    "trn.data$my.surv = my.surv\n",
    "m_mlt = Survreg(formula, data = trn.data, dist = \"lognormal\")\n",
    "bm = stmboost(m_mlt, formula = formula, data = trn.data,control = boost_control(mstop=200,nu=0.001,trace=TRUE),method = quote(mboost::mboost))\n",
    "### look at in-sample performance\n",
    "logLik(m_mlt)\n",
    "plot(risk(bm)) ### this is the negative log-lik"
   ]
  },
  {
   "cell_type": "code",
   "execution_count": null,
   "metadata": {},
   "outputs": [],
   "source": [
    "### With STM - Mboost (Additive Smooth Models)\n",
    "trn.data$y.lower = trn.data$y.upper = NULL\n",
    "trn.data$my.surv = my.surv\n",
    "m_mlt            = Survreg(formula, data = trn.data, dist = \"lognormal\")\n",
    "bm               = stmboost(m_mlt, formula = formula, control = boost_control(mstop=10000,nu=0.001,trace=TRUE),data = trn.data,method = quote(mboost::blackboost))\n",
    "### look at in-sample performance\n",
    "logLik(m_mlt)\n",
    "plot(risk(bm)) ### this is the negative log-lik"
   ]
  },
  {
   "cell_type": "code",
   "execution_count": 35,
   "metadata": {},
   "outputs": [
    {
     "ename": "ERROR",
     "evalue": "Error in .const_array(dim, nd, lp): length(x) == prod(dim[subdim]) is not TRUE\n",
     "output_type": "error",
     "traceback": [
      "Error in .const_array(dim, nd, lp): length(x) == prod(dim[subdim]) is not TRUE\nTraceback:\n",
      "1. predict(bm, newdata = tst.data)",
      "2. predict.stmboost(bm, newdata = tst.data)",
      "3. cbind(ret, predict(tmpm, newdata = nd, ...))",
      "4. predict(tmpm, newdata = nd, ...)",
      "5. predict.ctm(tmpm, newdata = nd, ...)",
      "6. tmlt(object = object, newdata = newdata, q = q, terms = terms, \n .     ...)",
      "7. predict(object$model, newdata = newdata, coef = coef(object), \n .     dim = dim, ...)",
      "8. predict.cbind_bases(object$model, newdata = newdata, coef = coef(object), \n .     dim = dim, ...)",
      "9. predict(object[[b]], newdata = newdata, coef = cf, dim = dim, \n .     terms = tm, ...)",
      "10. predict.cbind_bases(object[[b]], newdata = newdata, coef = cf, \n  .     dim = dim, terms = tm, ...)",
      "11. predict(object[[b]], newdata = newdata, coef = cf, dim = dim, \n  .     terms = tm, ...)",
      "12. predict.basis(object[[b]], newdata = newdata, coef = cf, dim = dim, \n  .     terms = tm, ...)",
      "13. .const_array(dim, nd, lp)",
      "14. stopifnot(length(x) == prod(dim[subdim]))"
     ]
    }
   ],
   "source": [
    "tst.data            = data.frame(X.val)\n",
    "tst.data$y.lower    = tst.data$y.upper = NULL\n",
    "pred.y.val          = predict(bm,newdata=tst.data)"
   ]
  },
  {
   "cell_type": "code",
   "execution_count": 36,
   "metadata": {},
   "outputs": [
    {
     "data": {
      "text/plain": [
       "R version 3.6.1 (2019-07-05)\n",
       "Platform: x86_64-apple-darwin15.6.0 (64-bit)\n",
       "Running under: macOS Sierra 10.12.6\n",
       "\n",
       "Matrix products: default\n",
       "BLAS:   /Library/Frameworks/R.framework/Versions/3.6/Resources/lib/libRblas.0.dylib\n",
       "LAPACK: /Library/Frameworks/R.framework/Versions/3.6/Resources/lib/libRlapack.dylib\n",
       "\n",
       "locale:\n",
       "[1] en_US.UTF-8/en_US.UTF-8/en_US.UTF-8/C/en_US.UTF-8/en_US.UTF-8\n",
       "\n",
       "attached base packages:\n",
       "[1] parallel  stats     graphics  grDevices utils     datasets  methods  \n",
       "[8] base     \n",
       "\n",
       "other attached packages:\n",
       " [1] tram_0.2-6                tbm_0.3-1                \n",
       " [3] mlt_1.0-6                 basefun_1.0-5            \n",
       " [5] variables_1.0-2           caret_6.0-84             \n",
       " [7] Hmisc_4.2-0               ggplot2_3.2.1            \n",
       " [9] Formula_1.2-3             lattice_0.20-38          \n",
       "[11] penaltyLearning_2019.5.29 survival_2.44-1.1        \n",
       "[13] mboost_2.9-1              stabs_0.6-3              \n",
       "\n",
       "loaded via a namespace (and not attached):\n",
       " [1] nlme_3.1-140        lubridate_1.7.4     RColorBrewer_1.1-2 \n",
       " [4] repr_1.0.1          numDeriv_2016.8-1.1 tools_3.6.1        \n",
       " [7] backports_1.1.4     R6_2.4.0            rpart_4.1-15       \n",
       "[10] lazyeval_0.2.2      colorspace_1.4-1    nnet_7.3-12        \n",
       "[13] withr_2.1.2         tidyselect_0.2.5    gridExtra_2.3      \n",
       "[16] compiler_3.6.1      orthopolynom_1.0-5  htmlTable_1.13.1   \n",
       "[19] alabama_2015.3-1    sandwich_2.5-1      scales_1.0.0       \n",
       "[22] checkmate_1.9.4     nnls_1.4            mvtnorm_1.0-11     \n",
       "[25] quadprog_1.5-7      pbdZMQ_0.3-3        stringr_1.4.0      \n",
       "[28] digest_0.6.20       foreign_0.8-71      base64enc_0.1-3    \n",
       "[31] pkgconfig_2.0.2     htmltools_0.3.6     htmlwidgets_1.3    \n",
       "[34] rlang_0.4.0         rstudioapi_0.10     generics_0.0.2     \n",
       "[37] zoo_1.8-6           jsonlite_1.6        acepack_1.4.1      \n",
       "[40] dplyr_0.8.3         ModelMetrics_1.2.2  magrittr_1.5       \n",
       "[43] polynom_1.4-0       coneproj_1.14       Matrix_1.2-17      \n",
       "[46] Rcpp_1.0.2          IRkernel_1.0.2.9000 munsell_0.5.0      \n",
       "[49] abind_1.4-5         partykit_1.2-5      multcomp_1.4-10    \n",
       "[52] stringi_1.4.3       inum_1.0-1          MASS_7.3-51.4      \n",
       "[55] BB_2014.10-1        plyr_1.8.4          recipes_0.1.7      \n",
       "[58] grid_3.6.1          crayon_1.3.4        IRdisplay_0.7.0    \n",
       "[61] splines_3.6.1       knitr_1.25          pillar_1.4.2       \n",
       "[64] uuid_0.1-2          reshape2_1.4.3      codetools_0.2-16   \n",
       "[67] stats4_3.6.1        magic_1.5-9         glue_1.3.1         \n",
       "[70] evaluate_0.14       latticeExtra_0.6-28 data.table_1.12.2  \n",
       "[73] foreach_1.4.7       gtable_0.3.0        purrr_0.3.2        \n",
       "[76] assertthat_0.2.1    xfun_0.9            gower_0.2.1        \n",
       "[79] prodlim_2018.04.18  libcoin_1.0-5       class_7.3-15       \n",
       "[82] geometry_0.4.4      timeDate_3043.102   tibble_2.1.3       \n",
       "[85] iterators_1.0.12    cluster_2.1.0       lava_1.6.6         \n",
       "[88] TH.data_1.0-10      ipred_0.9-9        "
      ]
     },
     "metadata": {},
     "output_type": "display_data"
    }
   ],
   "source": [
    "sessionInfo()"
   ]
  }
 ],
 "metadata": {
  "kernelspec": {
   "display_name": "R",
   "language": "R",
   "name": "ir"
  },
  "language_info": {
   "codemirror_mode": "r",
   "file_extension": ".r",
   "mimetype": "text/x-r-source",
   "name": "R",
   "pygments_lexer": "r",
   "version": "3.6.1"
  }
 },
 "nbformat": 4,
 "nbformat_minor": 4
}
