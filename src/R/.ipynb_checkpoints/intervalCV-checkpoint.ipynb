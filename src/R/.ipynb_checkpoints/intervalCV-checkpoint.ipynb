{
 "cells": [
  {
   "cell_type": "code",
   "execution_count": 1,
   "metadata": {},
   "outputs": [
    {
     "name": "stderr",
     "output_type": "stream",
     "text": [
      "Loading required package: parallel\n",
      "\n",
      "Loading required package: stabs\n",
      "\n",
      "This is mboost 2.9-1. See ‘package?mboost’ and ‘news(package  = \"mboost\")’\n",
      "for a complete list of changes.\n",
      "\n",
      "\n",
      "Loading required package: lattice\n",
      "\n",
      "Loading required package: Formula\n",
      "\n",
      "Loading required package: ggplot2\n",
      "\n",
      "\n",
      "Attaching package: ‘ggplot2’\n",
      "\n",
      "\n",
      "The following object is masked from ‘package:mboost’:\n",
      "\n",
      "    %+%\n",
      "\n",
      "\n",
      "\n",
      "Attaching package: ‘Hmisc’\n",
      "\n",
      "\n",
      "The following objects are masked from ‘package:base’:\n",
      "\n",
      "    format.pval, units\n",
      "\n",
      "\n",
      "\n",
      "Attaching package: ‘caret’\n",
      "\n",
      "\n",
      "The following object is masked from ‘package:survival’:\n",
      "\n",
      "    cluster\n",
      "\n",
      "\n"
     ]
    }
   ],
   "source": [
    "library(mboost)\n",
    "library(survival)\n",
    "library(penaltyLearning)\n",
    "library(Hmisc)\n",
    "library(caret)"
   ]
  },
  {
   "cell_type": "code",
   "execution_count": 2,
   "metadata": {},
   "outputs": [],
   "source": [
    "data_import =function(dataname){\n",
    "  filename = paste('https://raw.githubusercontent.com/avinashbarnwal/GSOC-2019/master/AFT/test/data/neuroblastoma-data-master/data/',dataname,'/',sep=\"\")\n",
    "  inputFileName = paste(filename,'inputs.csv',sep=\"\")\n",
    "  labelFileName = paste(filename,'outputs.csv',sep=\"\")\n",
    "  foldsFileName = paste(filename,'cv/equal_labels/folds.csv',sep=\"\")\n",
    "  inputs        = read.table(inputFileName,sep=\",\",header=T,stringsAsFactors = F,row.names=1)\n",
    "  labels        = read.table(labelFileName,sep=\",\",header=T,stringsAsFactors = F,row.names=1)\n",
    "  folds         = read.table(foldsFileName,sep=\",\",header=T,stringsAsFactors = F,row.names=1)\n",
    "  res           = list()\n",
    "  res$inputs    = inputs\n",
    "  res$labels    = labels\n",
    "  res$folds     = folds\n",
    "  return(res)\n",
    "}"
   ]
  },
  {
   "cell_type": "code",
   "execution_count": 3,
   "metadata": {},
   "outputs": [],
   "source": [
    "data_massage = function(inputs,labels){\n",
    "    rownamesInput = rownames(inputs)\n",
    "    inputs        = do.call(data.frame,lapply(inputs, function(x) replace(x, is.infinite(x),NA)))\n",
    "    naColumns     = colnames(inputs)[colSums(is.na(inputs))>0]\n",
    "    noVarCol      = getNonVarCols(inputs)\n",
    "    removeCols    = c(naColumns,noVarCol)\n",
    "    inputs        = inputs[ , !(colnames(inputs) %in% removeCols)]\n",
    "    rownames(inputs) = rownamesInput\n",
    "    labels$min.log.lambda = unlist(lapply(labels$min.log.lambda,exp))\n",
    "    labels$max.log.lambda = unlist(lapply(labels$max.log.lambda,exp))\n",
    "    res        = list()\n",
    "    res$inputs = inputs\n",
    "    res$labels = labels\n",
    "    return(res)\n",
    "}"
   ]
  },
  {
   "cell_type": "code",
   "execution_count": 4,
   "metadata": {},
   "outputs": [],
   "source": [
    "getXY<-function(foldNo,folds,inputs,labels){\n",
    "    test.id       = rownames(subset(folds,fold==foldNo))\n",
    "    train.id      = rownames(subset(folds,fold!=foldNo))\n",
    "    X             = subset(inputs,rownames(inputs) %in% train.id)\n",
    "    X             = as.matrix(X)\n",
    "    X.val         = subset(inputs,rownames(inputs) %in% test.id)\n",
    "    X.val         = as.matrix(X.val)\n",
    "    y.label       = subset(labels,rownames(labels) %in% train.id)\n",
    "    y.label.test  = subset(labels,rownames(labels) %in% test.id)\n",
    "    y.lower       = as.matrix(y.label$min.log.lambda)\n",
    "    y.upper       = as.matrix(y.label$max.log.lambda)\n",
    "    y.lower.val   = as.matrix(y.label.test$min.log.lambda)\n",
    "    y.upper.val   = as.matrix(y.label.test$max.log.lambda)\n",
    "    res           = list()\n",
    "    res$X         = X\n",
    "    res$X.val     = X.val\n",
    "    res$y.lower      = y.lower\n",
    "    res$y.lower.val  = y.lower.val\n",
    "    res$y.upper      = y.upper\n",
    "    res$y.upper.val  = y.upper.val\n",
    "    return(res)\n",
    "}"
   ]
  },
  {
   "cell_type": "code",
   "execution_count": 5,
   "metadata": {},
   "outputs": [],
   "source": [
    "getNonVarCols<-function(data){\n",
    "    var_columns    = apply(inputs,2,var)\n",
    "    resCol         = names(var_columns[var_columns==0.0])\n",
    "    return(resCol)\n",
    "}"
   ]
  },
  {
   "cell_type": "code",
   "execution_count": 6,
   "metadata": {},
   "outputs": [],
   "source": [
    "# Set Parameters\n",
    "dataNameRange       = c('ATAC_JV_adipose','CTCF_TDH_ENCODE','H3K27ac-H3K4me3_TDHAM_BP','H3K27ac_TDH_some','H3K36me3_AM_immune')\n",
    "sigma_range         = c(1,2,5,10,100)\n",
    "distribution_range  = c('normal','logistic','extreme')\n",
    "learning_rate       = 0.1\n",
    "num_round           = 200"
   ]
  },
  {
   "cell_type": "code",
   "execution_count": 7,
   "metadata": {},
   "outputs": [],
   "source": [
    "res                 = data_import(dataNameRange[1])\n",
    "inputs              = res$inputs\n",
    "labels              = res$labels\n",
    "folds               = res$folds\n",
    "resDataMassage      = data_massage(inputs,labels)\n",
    "inputs              = resDataMassage$inputs\n",
    "labels              = resDataMassage$labels\n",
    "fold_iter           = unique(folds$fold)\n",
    "accuracy_fold       = numeric(length(fold_iter))"
   ]
  },
  {
   "cell_type": "code",
   "execution_count": 8,
   "metadata": {},
   "outputs": [],
   "source": [
    "getaccuracy=function(pred,y_lower,y_higher){\n",
    "    res = (pred>=y_lower & pred<=y_higher)\n",
    "    return(res)\n",
    "}"
   ]
  },
  {
   "cell_type": "code",
   "execution_count": null,
   "metadata": {},
   "outputs": [
    {
     "name": "stdout",
     "output_type": "stream",
     "text": [
      "[1] 1\n"
     ]
    },
    {
     "name": "stderr",
     "output_type": "stream",
     "text": [
      "Loading required namespace: future.apply\n",
      "\n"
     ]
    }
   ],
   "source": [
    "for(i in 1:length(fold_iter)){\n",
    "    res                 = getXY(fold_iter[i],folds,inputs,labels)\n",
    "    X                   = res$X\n",
    "    X.val               = res$X.val\n",
    "    y.lower             = res$y.lower\n",
    "    y.lower.val         = res$y.lower.val\n",
    "    y.upper             = res$y.upper\n",
    "    y.upper.val         = res$y.upper.val\n",
    "    train.folds         = cut(seq(1,nrow(X)),breaks=5,labels=FALSE)\n",
    "    res                 = list()\n",
    "    target.mat          = cbind(y.lower,y.upper)\n",
    "    print(i)\n",
    "    fit                 = IntervalRegressionCV(X, target.mat)  \n",
    "    pred                = predict(fit, X.val)\n",
    "    accuracy_fold[i]    = getaccuracy(pred,y.lower.val,y.upper.val)\n",
    "}"
   ]
  }
 ],
 "metadata": {
  "kernelspec": {
   "display_name": "R",
   "language": "R",
   "name": "ir"
  },
  "language_info": {
   "codemirror_mode": "r",
   "file_extension": ".r",
   "mimetype": "text/x-r-source",
   "name": "R",
   "pygments_lexer": "r",
   "version": "3.6.1"
  }
 },
 "nbformat": 4,
 "nbformat_minor": 4
}
