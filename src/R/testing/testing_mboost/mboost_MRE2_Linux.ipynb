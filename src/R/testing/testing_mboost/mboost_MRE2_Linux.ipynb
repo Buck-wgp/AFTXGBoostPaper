{
 "cells": [
  {
   "cell_type": "code",
   "execution_count": 1,
   "metadata": {},
   "outputs": [
    {
     "name": "stderr",
     "output_type": "stream",
     "text": [
      "Loading required package: mlt\n",
      "\n",
      "Loading required package: basefun\n",
      "\n",
      "Loading required package: variables\n",
      "\n",
      "Loading required package: mboost\n",
      "\n",
      "Loading required package: parallel\n",
      "\n",
      "Loading required package: stabs\n",
      "\n",
      "This is mboost 2.9-1. See ‘package?mboost’ and ‘news(package  = \"mboost\")’\n",
      "for a complete list of changes.\n",
      "\n",
      "\n"
     ]
    }
   ],
   "source": [
    "library(tram)\n",
    "library(tbm)"
   ]
  },
  {
   "cell_type": "code",
   "execution_count": 2,
   "metadata": {},
   "outputs": [
    {
     "name": "stdout",
     "output_type": "stream",
     "text": [
      "[   1] ...................................... -- risk: 263.5698 \n",
      "[  41] ...................................... -- risk: 258.8081 \n",
      "[  81] ...................................... -- risk: 256.2437 \n",
      "[ 121] ...................................... -- risk: 254.8281 \n",
      "[ 161] ......................................\n",
      "Final risk: 254.0211 \n"
     ]
    },
    {
     "name": "stderr",
     "output_type": "stream",
     "text": [
      "Warning message in c.basis(bresponse = response, bshifting = shifting):\n",
      "“more than one basis contains an intercept term”\n"
     ]
    },
    {
     "data": {
      "image/png": "[encoded data removed]",
      "text/plain": [
       "plot without title"
      ]
     },
     "metadata": {
      "image/png": {
       "height": 420,
       "width": 420
      },
      "text/plain": {
       "height": 420,
       "width": 420
      }
     },
     "output_type": "display_data"
    }
   ],
   "source": [
    "N <- 100\n",
    "set.seed(1)\n",
    "x <- runif(N, min = -.5, max = .5)\n",
    "### I made this a log-normal DGP\n",
    "y <- exp(1+2*x+rnorm(N))\n",
    "### smaller than 0 is not allowed\n",
    "y.lower <- pmax(y-runif(N), 0.001)\n",
    "y.upper <- y+runif(N)\n",
    "plot(y ~ x)\n",
    "segments(x, y.lower, x, y.upper)\n",
    "df <- data.frame(x, y.lower, y.upper)\n",
    "df$y <- survival::Surv(y.lower, y.upper, type=\"interval2\")\n",
    "m_mlt <- Survreg(\n",
    "   y ~ 1, #DO NOT CHANGE THIS.\n",
    "   data = df,\n",
    "   dist = \"lognormal\")\n",
    "bm <- stmboost(\n",
    "   m_mlt,\n",
    "   formula = y ~ x, #CHANGE x to all input variables.\n",
    "   data = df,\n",
    "   control = boost_control(mstop=200,nu=0.01,trace=TRUE),\n",
    "   method = quote(mboost::mboost))\n",
    "\n",
    "pred.mat <- predict(bm,newdata = df,type = \"density\",q = 0.5)\n",
    "            #help(predict.mlt) q: quantiles at which to evaluate the model"
   ]
  },
  {
   "cell_type": "code",
   "execution_count": 3,
   "metadata": {},
   "outputs": [
    {
     "data": {
      "text/html": [
       "<ol class=list-inline>\n",
       "\t<li>0.409574528539419</li>\n",
       "\t<li>0.28031296664714</li>\n",
       "\t<li>0.144720578091459</li>\n",
       "\t<li>0.0363672236201684</li>\n",
       "\t<li>0.484204374180297</li>\n",
       "</ol>\n"
      ],
      "text/latex": [
       "\\begin{enumerate*}\n",
       "\\item 0.409574528539419\n",
       "\\item 0.28031296664714\n",
       "\\item 0.144720578091459\n",
       "\\item 0.0363672236201684\n",
       "\\item 0.484204374180297\n",
       "\\end{enumerate*}\n"
      ],
      "text/markdown": [
       "1. 0.409574528539419\n",
       "2. 0.28031296664714\n",
       "3. 0.144720578091459\n",
       "4. 0.0363672236201684\n",
       "5. 0.484204374180297\n",
       "\n",
       "\n"
      ],
      "text/plain": [
       "[1] 0.40957453 0.28031297 0.14472058 0.03636722 0.48420437"
      ]
     },
     "metadata": {},
     "output_type": "display_data"
    }
   ],
   "source": [
    "pred.mat[, 1:5]"
   ]
  },
  {
   "cell_type": "markdown",
   "metadata": {},
   "source": [
    "# Session Info"
   ]
  },
  {
   "cell_type": "code",
   "execution_count": 4,
   "metadata": {},
   "outputs": [
    {
     "data": {
      "text/plain": [
       "R version 3.6.1 (2019-07-05)\n",
       "Platform: x86_64-pc-linux-gnu (64-bit)\n",
       "Running under: Ubuntu 18.04.3 LTS\n",
       "\n",
       "Matrix products: default\n",
       "BLAS:   /usr/lib/x86_64-linux-gnu/blas/libblas.so.3.7.1\n",
       "LAPACK: /usr/lib/x86_64-linux-gnu/lapack/liblapack.so.3.7.1\n",
       "\n",
       "locale:\n",
       " [1] LC_CTYPE=C.UTF-8       LC_NUMERIC=C           LC_TIME=C.UTF-8       \n",
       " [4] LC_COLLATE=C.UTF-8     LC_MONETARY=C.UTF-8    LC_MESSAGES=C.UTF-8   \n",
       " [7] LC_PAPER=C.UTF-8       LC_NAME=C              LC_ADDRESS=C          \n",
       "[10] LC_TELEPHONE=C         LC_MEASUREMENT=C.UTF-8 LC_IDENTIFICATION=C   \n",
       "\n",
       "attached base packages:\n",
       "[1] parallel  stats     graphics  grDevices utils     datasets  methods  \n",
       "[8] base     \n",
       "\n",
       "other attached packages:\n",
       "[1] tbm_0.3-1       mboost_2.9-1    stabs_0.6-3     tram_0.3-1     \n",
       "[5] mlt_1.0-7       basefun_1.0-6   variables_1.0-2\n",
       "\n",
       "loaded via a namespace (and not attached):\n",
       " [1] Rcpp_1.0.2          pillar_1.4.2        compiler_3.6.1     \n",
       " [4] base64enc_0.1-3     tools_3.6.1         rpart_4.1-15       \n",
       " [7] partykit_1.2-5      digest_0.6.22       uuid_0.1-2         \n",
       "[10] jsonlite_1.6        evaluate_0.14       lattice_0.20-38    \n",
       "[13] rlang_0.4.1         Matrix_1.2-17       IRdisplay_0.7.0    \n",
       "[16] IRkernel_1.0.2.9000 polynom_1.4-0       mvtnorm_1.0-11     \n",
       "[19] libcoin_1.0-5       repr_1.0.1          BB_2019.10-1       \n",
       "[22] grid_3.6.1          survival_2.44-1.1   orthopolynom_1.0-5 \n",
       "[25] multcomp_1.4-10     pbdZMQ_0.3-3        TH.data_1.0-10     \n",
       "[28] alabama_2015.3-1    Formula_1.2-3       nnls_1.4           \n",
       "[31] codetools_0.2-16    htmltools_0.4.0     splines_3.6.1      \n",
       "[34] MASS_7.3-51.4       numDeriv_2016.8-1.1 quadprog_1.5-7     \n",
       "[37] sandwich_2.5-1      coneproj_1.14       inum_1.0-1         \n",
       "[40] crayon_1.3.4        zoo_1.8-6          "
      ]
     },
     "metadata": {},
     "output_type": "display_data"
    }
   ],
   "source": [
    "sessionInfo()"
   ]
  }
 ],
 "metadata": {
  "kernelspec": {
   "display_name": "R",
   "language": "R",
   "name": "ir"
  },
  "language_info": {
   "codemirror_mode": "r",
   "file_extension": ".r",
   "mimetype": "text/x-r-source",
   "name": "R",
   "pygments_lexer": "r",
   "version": "3.6.1"
  }
 },
 "nbformat": 4,
 "nbformat_minor": 4
}
