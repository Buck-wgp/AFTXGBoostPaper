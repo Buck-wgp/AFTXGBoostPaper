{
 "cells": [
  {
   "cell_type": "code",
   "execution_count": 1,
   "metadata": {},
   "outputs": [
    {
     "name": "stderr",
     "output_type": "stream",
     "text": [
      "Loading required package: viridisLite\n",
      "\n"
     ]
    }
   ],
   "source": [
    "library(rjson)\n",
    "library(ggplot2)\n",
    "library(viridis)"
   ]
  },
  {
   "cell_type": "code",
   "execution_count": 11,
   "metadata": {},
   "outputs": [],
   "source": [
    "data_name_range = c('ATAC_JV_adipose','CTCF_TDH_ENCODE','H3K27ac-H3K4me3_TDHAM_BP','H3K27ac_TDH_some',\n",
    "                    'H3K36me3_AM_immune','H3K27me3_RL_cancer','H3K27me3_TDH_some','H3K36me3_TDH_ENCODE',\n",
    "                    'H3K36me3_TDH_immune','H3K36me3_TDH_other')"
   ]
  },
  {
   "cell_type": "code",
   "execution_count": 55,
   "metadata": {},
   "outputs": [],
   "source": [
    "data_name       = data_name_range[10]"
   ]
  },
  {
   "cell_type": "code",
   "execution_count": 56,
   "metadata": {},
   "outputs": [],
   "source": [
    "models_domain   = c('intervalCV','survreg','xgboost')\n",
    "folds           = vector()\n",
    "models          = vector()\n",
    "distri          = vector()\n",
    "run_time        = vector()"
   ]
  },
  {
   "cell_type": "code",
   "execution_count": 57,
   "metadata": {},
   "outputs": [],
   "source": [
    "for(model in models_domain){\n",
    "    \n",
    "    if(model==\"xgboost\"){\n",
    "        file_name       = paste('../../../../result/',data_name,'/',model,'/run_dis_time_tuning.json',sep=\"\")\n",
    "        run_time_model  = fromJSON(file = file_name)\n",
    "        keys      = names(run_time_model)\n",
    "        n         = length(keys)\n",
    "        fold_dis  = unlist(strsplit(keys,\"_\"))\n",
    "        folds     = c(folds,fold_dis[seq(1,length(fold_dis),2)])\n",
    "        distri    = c(distri,fold_dis[seq(2,length(fold_dis),2)])\n",
    "        run_time  = c(run_time,as.numeric(run_time_model))\n",
    "        distri    = paste(model,distri,sep=\"_\")\n",
    "        models    = c(models,distri)\n",
    "        \n",
    "    }\n",
    "    \n",
    "    else{\n",
    "        file_name = paste('../../../../result/',data_name,'/',model,'/run_time.JSON',sep=\"\")\n",
    "        run_time_model  = fromJSON(file = file_name)\n",
    "        n               = length(names(run_time_model))\n",
    "        folds           = c(folds,names(run_time_model))\n",
    "        run_time        = c(run_time,as.numeric(run_time_model))\n",
    "        models          = c(models,rep(model,n))\n",
    "    }\n",
    "}"
   ]
  },
  {
   "cell_type": "code",
   "execution_count": 58,
   "metadata": {},
   "outputs": [],
   "source": [
    "run_data = data.frame(\"folds\"=folds,\"models\"=models,\"run_time\"=run_time)"
   ]
  },
  {
   "cell_type": "code",
   "execution_count": 59,
   "metadata": {},
   "outputs": [],
   "source": [
    "vtime = as.integer(max(run_time)/60)"
   ]
  },
  {
   "cell_type": "code",
   "execution_count": 60,
   "metadata": {},
   "outputs": [],
   "source": [
    "vtime_text = paste(seq(1,vtime,2),\"mins\",sep=\" \")"
   ]
  },
  {
   "cell_type": "code",
   "execution_count": 61,
   "metadata": {},
   "outputs": [],
   "source": [
    "vline_data = data.frame(mins = seq(60,60*vtime,120),mins_label=vtime_text)"
   ]
  },
  {
   "cell_type": "code",
   "execution_count": null,
   "metadata": {},
   "outputs": [
    {
     "data": {
      "text/html": [
       "<strong>png:</strong> 2"
      ],
      "text/latex": [
       "\\textbf{png:} 2"
      ],
      "text/markdown": [
       "**png:** 2"
      ],
      "text/plain": [
       "png \n",
       "  2 "
      ]
     },
     "metadata": {},
     "output_type": "display_data"
    }
   ],
   "source": [
    "fig_name = paste('../../../../result/',data_name,'/',data_name,\"_run_time.pdf\",sep=\"\")\n",
    "pdf(fig_name)\n",
    "my_plot = ggplot(run_data, aes(run_time,models,colour = factor(folds))) + geom_point(size=5)+ggtitle(data_name)+theme(axis.text=element_text(size=12),axis.title=element_text(size=14,face=\"bold\"),plot.title = element_text(size=14, face=\"bold\"))+xlab(\"run time in secs\")+labs(color='Folds')+\n",
    "geom_vline(data=vline_data,aes(xintercept=mins),linetype=4, colour=\"black\")+geom_text(data=vline_data,aes(x=mins, label=mins_label,y='intervalCV'), colour=\"blue\", angle=90,size=4)+scale_x_log10()\n",
    "print(my_plot)\n",
    "dev.off()"
   ]
  }
 ],
 "metadata": {
  "kernelspec": {
   "display_name": "R",
   "language": "R",
   "name": "ir"
  },
  "language_info": {
   "codemirror_mode": "r",
   "file_extension": ".r",
   "mimetype": "text/x-r-source",
   "name": "R",
   "pygments_lexer": "r",
   "version": "3.6.1"
  }
 },
 "nbformat": 4,
 "nbformat_minor": 4
}
