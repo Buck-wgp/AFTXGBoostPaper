{
 "cells": [
  {
   "cell_type": "code",
   "execution_count": 1,
   "metadata": {},
   "outputs": [
    {
     "name": "stderr",
     "output_type": "stream",
     "text": [
      "Loading required package: viridisLite\n",
      "\n"
     ]
    }
   ],
   "source": [
    "library(rjson)\n",
    "library(ggplot2)\n",
    "library(viridis)"
   ]
  },
  {
   "cell_type": "code",
   "execution_count": 2,
   "metadata": {},
   "outputs": [],
   "source": [
    "data_name_range = c('ATAC_JV_adipose','CTCF_TDH_ENCODE','H3K27ac-H3K4me3_TDHAM_BP','H3K27ac_TDH_some',\n",
    "                    'H3K36me3_AM_immune','H3K27me3_RL_cancer','H3K27me3_TDH_some','H3K36me3_TDH_ENCODE',\n",
    "                    'H3K36me3_TDH_immune','H3K36me3_TDH_other')"
   ]
  },
  {
   "cell_type": "code",
   "execution_count": 3,
   "metadata": {},
   "outputs": [],
   "source": [
    "get_run_time_data<- function(data_name,models_domain){\n",
    "    \n",
    "    folds           = vector()\n",
    "    models          = vector()\n",
    "    distri          = vector()\n",
    "    run_time        = vector()\n",
    "    \n",
    "    for(model in models_domain){\n",
    "\n",
    "        if(model==\"xgboost\"){\n",
    "            file_name       = paste('../../../../result/',data_name,'/',model,'/run_dis_time_tuning.json',sep=\"\")\n",
    "            run_time_model  = fromJSON(file = file_name)\n",
    "            keys      = names(run_time_model)\n",
    "            n         = length(keys)\n",
    "            fold_dis  = unlist(strsplit(keys,\"_\"))\n",
    "            folds     = c(folds,fold_dis[seq(1,length(fold_dis),2)])\n",
    "            distri    = c(distri,fold_dis[seq(2,length(fold_dis),2)])\n",
    "            run_time  = c(run_time,as.numeric(run_time_model))\n",
    "            distri    = paste(model,distri,sep=\"_\")\n",
    "            models    = c(models,distri)\n",
    "\n",
    "        }\n",
    "\n",
    "        else{\n",
    "            file_name = paste('../../../../result/',data_name,'/',model,'/run_time.JSON',sep=\"\")\n",
    "            run_time_model  = fromJSON(file = file_name)\n",
    "            n               = length(names(run_time_model))\n",
    "            folds           = c(folds,names(run_time_model))\n",
    "            run_time        = c(run_time,as.numeric(run_time_model))\n",
    "            models          = c(models,rep(model,n))\n",
    "        }\n",
    "    }\n",
    "    n              = length(folds)\n",
    "    attribute_type = rep(\"Run Time in secs\",n)\n",
    "    data           = rep(data_name,n)\n",
    "    run_data_iter  = data.frame(\"folds\"=folds,\"models\"=models,\"attribute\"=run_time,\"attribute_type\"=attribute_type,\"data\"=data)\n",
    "    return(run_data_iter)\n",
    "}"
   ]
  },
  {
   "cell_type": "code",
   "execution_count": 4,
   "metadata": {},
   "outputs": [],
   "source": [
    "get_accuracy_data <- function(data_name,models_domain){\n",
    "    \n",
    "    folds            = vector()\n",
    "    models           = vector()\n",
    "    accuracys        = vector()\n",
    "    \n",
    "    for(model in models_domain){\n",
    "        if(model=='xgboost'){\n",
    "            for(distribution in c('normal','logistic','extreme')){\n",
    "                file_name    = paste('../../../../result/',data_name,'/',model,'/accuracy_',distribution,'.JSON',sep=\"\")\n",
    "                accuracy     = fromJSON(file = file_name)\n",
    "                distri       = paste(model,distribution,sep=\"_\")\n",
    "                nfold        = length(names(accuracy))\n",
    "                folds        = c(folds,names(accuracy))\n",
    "                models       = c(models,rep(distri,nfold))\n",
    "                accuracys    = c(accuracys,as.numeric(accuracy))\n",
    "            }\n",
    "        }\n",
    "        else{\n",
    "            file_name    = paste('../../../../result/',data_name,'/',model,'/accuracy.JSON',sep=\"\")\n",
    "            accuracy     = fromJSON(file = file_name)\n",
    "            nfold        = length(names(accuracy))\n",
    "            folds        = c(folds,names(accuracy))\n",
    "            models       = c(models,rep(model,nfold))\n",
    "            accuracys    = c(accuracys,as.numeric(accuracy))\n",
    "        }\n",
    "    }\n",
    "    \n",
    "    n                   = length(folds)\n",
    "    attribute_type      = rep(\"Accuracy\",n)\n",
    "    data                = rep(data_name,n)\n",
    "    accuracy_data_iter  = data.frame(\"folds\"=folds,\"models\"=models,\"attribute\"=accuracys,\"attribute_type\"=attribute_type,\"data\"=data)\n",
    "    return(accuracy_data_iter)\n",
    "}"
   ]
  },
  {
   "cell_type": "code",
   "execution_count": 33,
   "metadata": {},
   "outputs": [],
   "source": [
    "combined_data        = data.frame()\n",
    "models_domain        = c('intervalCV','survreg','xgboost')"
   ]
  },
  {
   "cell_type": "code",
   "execution_count": 34,
   "metadata": {},
   "outputs": [],
   "source": [
    "for(i in c(7,8,9,10)){\n",
    "    data_name          = data_name_range[i]\n",
    "    run_data_iter      = get_run_time_data(data_name,models_domain)\n",
    "    accuracy_data_iter = get_accuracy_data(data_name,models_domain)\n",
    "    combined_data      = rbind(combined_data,run_data_iter)\n",
    "    combined_data      = rbind(combined_data,accuracy_data_iter)\n",
    "}"
   ]
  },
  {
   "cell_type": "code",
   "execution_count": 35,
   "metadata": {},
   "outputs": [],
   "source": [
    "vtime      = as.integer(max(combined_data$attribute)/60)\n",
    "vtime_text = paste(seq(1,vtime,2),\"mins\",sep=\" \")\n",
    "vline_data = data.frame(mins = seq(60,60*vtime,120),mins_label=vtime_text)"
   ]
  },
  {
   "cell_type": "code",
   "execution_count": 36,
   "metadata": {},
   "outputs": [
    {
     "data": {
      "text/html": [
       "<strong>png:</strong> 2"
      ],
      "text/latex": [
       "\\textbf{png:} 2"
      ],
      "text/markdown": [
       "**png:** 2"
      ],
      "text/plain": [
       "png \n",
       "  2 "
      ]
     },
     "metadata": {},
     "output_type": "display_data"
    }
   ],
   "source": [
    "fig_name = '../../../../result/combined/combined_7_8_9_10.pdf'\n",
    "pdf(fig_name)\n",
    "p <- ggplot(combined_data, aes(x=attribute,y=models,colour = factor(folds)))+ geom_point(size=5)+labs(color='Folds')\n",
    "p <- p + facet_grid(data~attribute_type,scales=\"free\")+ theme_bw()\n",
    "p\n",
    "dev.off()"
   ]
  },
  {
   "cell_type": "code",
   "execution_count": null,
   "metadata": {},
   "outputs": [],
   "source": []
  }
 ],
 "metadata": {
  "kernelspec": {
   "display_name": "R",
   "language": "R",
   "name": "ir"
  },
  "language_info": {
   "codemirror_mode": "r",
   "file_extension": ".r",
   "mimetype": "text/x-r-source",
   "name": "R",
   "pygments_lexer": "r",
   "version": "3.6.1"
  }
 },
 "nbformat": 4,
 "nbformat_minor": 4
}
