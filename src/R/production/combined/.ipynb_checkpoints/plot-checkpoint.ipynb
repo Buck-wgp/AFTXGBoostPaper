{
 "cells": [
  {
   "cell_type": "code",
   "execution_count": 1,
   "metadata": {},
   "outputs": [],
   "source": [
    "library(rjson)\n",
    "library(ggplot2)"
   ]
  },
  {
   "cell_type": "code",
   "execution_count": 2,
   "metadata": {},
   "outputs": [],
   "source": [
    "data_name_range = c('ATAC_JV_adipose','CTCF_TDH_ENCODE','H3K27ac-H3K4me3_TDHAM_BP','H3K27ac_TDH_some','H3K36me3_AM_immune')"
   ]
  },
  {
   "cell_type": "code",
   "execution_count": 8,
   "metadata": {},
   "outputs": [],
   "source": [
    "data_name       = data_name_range[5]"
   ]
  },
  {
   "cell_type": "code",
   "execution_count": 9,
   "metadata": {},
   "outputs": [],
   "source": [
    "models_domain    = c('intervalCV','survreg','xgboost')\n",
    "folds            = vector()\n",
    "models           = vector()\n",
    "accuracys        = vector()"
   ]
  },
  {
   "cell_type": "code",
   "execution_count": 10,
   "metadata": {},
   "outputs": [],
   "source": [
    "for(model in models_domain){\n",
    "    file_name    = paste('../../../../result/',data_name,'/',model,'/accuracy.JSON',sep=\"\")\n",
    "    accuracy     = fromJSON(file = file_name)\n",
    "    folds        = c(folds,seq(1,4))\n",
    "    nfold        = 4\n",
    "    models       = c(models,rep(model,4))\n",
    "    accuracys    = c(accuracys,accuracy)\n",
    "}"
   ]
  },
  {
   "cell_type": "code",
   "execution_count": 11,
   "metadata": {},
   "outputs": [],
   "source": [
    "accuracy_data = data.frame(\"folds\"=folds,\"models\"=models,\"accuracys\"=accuracys)"
   ]
  },
  {
   "cell_type": "code",
   "execution_count": 12,
   "metadata": {},
   "outputs": [
    {
     "data": {
      "text/html": [
       "<strong>png:</strong> 2"
      ],
      "text/latex": [
       "\\textbf{png:} 2"
      ],
      "text/markdown": [
       "**png:** 2"
      ],
      "text/plain": [
       "png \n",
       "  2 "
      ]
     },
     "metadata": {},
     "output_type": "display_data"
    }
   ],
   "source": [
    "fig_name = paste('../../../../result/',data_name,'/performance.pdf',sep=\"\")\n",
    "pdf(fig_name)\n",
    "my_plot = ggplot(accuracy_data, aes(folds, accuracys, colour = models)) + geom_point(size=5)+ggtitle(data_name)+theme(axis.text=element_text(size=12),axis.title=element_text(size=14,face=\"bold\"),plot.title = element_text(size=14, face=\"bold\"))\n",
    "print(my_plot)\n",
    "dev.off()"
   ]
  },
  {
   "cell_type": "code",
   "execution_count": null,
   "metadata": {},
   "outputs": [],
   "source": []
  }
 ],
 "metadata": {
  "kernelspec": {
   "display_name": "R",
   "language": "R",
   "name": "ir"
  },
  "language_info": {
   "codemirror_mode": "r",
   "file_extension": ".r",
   "mimetype": "text/x-r-source",
   "name": "R",
   "pygments_lexer": "r",
   "version": "3.6.1"
  }
 },
 "nbformat": 4,
 "nbformat_minor": 4
}
