{
 "cells": [
  {
   "cell_type": "code",
   "execution_count": 1,
   "metadata": {},
   "outputs": [
    {
     "name": "stderr",
     "output_type": "stream",
     "text": [
      "Loading required package: viridisLite\n",
      "\n"
     ]
    }
   ],
   "source": [
    "library(rjson)\n",
    "library(ggplot2)\n",
    "library(viridis)"
   ]
  },
  {
   "cell_type": "code",
   "execution_count": 2,
   "metadata": {},
   "outputs": [],
   "source": [
    "data_name_range = c('ATAC_JV_adipose','CTCF_TDH_ENCODE','H3K27ac-H3K4me3_TDHAM_BP',\n",
    "                    'H3K27ac_TDH_some','H3K36me3_AM_immune','H3K27me3_RL_cancer',\n",
    "                    'H3K27me3_TDH_some','H3K36me3_TDH_ENCODE','H3K36me3_TDH_immune',\n",
    "                    'H3K36me3_TDH_other')"
   ]
  },
  {
   "cell_type": "code",
   "execution_count": 3,
   "metadata": {},
   "outputs": [],
   "source": [
    "get_run_time_data<- function(data_name,model,n_hyper_searches){\n",
    "    run_combined_data   = data.frame()\n",
    "    for(n_hyper_search in n_hyper_searches){\n",
    "        if(n_hyper_search==0){\n",
    "            file_name       = paste('../../../../result/',data_name,'/',model,'/run_dis_time_0_param.json',sep=\"\")   \n",
    "        }\n",
    "        else if(n_hyper_search==1){\n",
    "            file_name       = paste('../../../../result/',data_name,'/',model,'/run_dis_time_1_param_grid_search.json',sep=\"\")\n",
    "            \n",
    "        }\n",
    "        else if(n_hyper_search==2){\n",
    "            file_name       = paste('../../../../result/',data_name,'/',model,'/run_dis_time_2_param_grid_search.json',sep=\"\")\n",
    "            \n",
    "        }\n",
    "        else if(n_hyper_search==5){\n",
    "            file_name       = paste('../../../../result/',data_name,'/',model,'/run_dis_time_tuning.json',sep=\"\")   \n",
    "        }\n",
    "        run_time_model  = fromJSON(file = file_name)\n",
    "        keys            = names(run_time_model)\n",
    "        n               = length(keys)\n",
    "        fold_dis        = unlist(strsplit(keys,\"_\"))\n",
    "        folds           = fold_dis[seq(1,length(fold_dis),2)]\n",
    "        distri          = fold_dis[seq(2,length(fold_dis),2)]\n",
    "        run_time        = as.numeric(run_time_model)\n",
    "        distri          = paste(model,distri,sep=\"_\")\n",
    "        attribute_type  = rep(\"Run Time in secs\",n)\n",
    "        data            = rep(data_name,n)\n",
    "        n_hyper         = rep(n_hyper_search,n)\n",
    "        run_data_iter   = data.frame(\"folds\"=folds,\"models\"=distri,\"attribute\"=run_time,\"attribute_type\"=attribute_type,\"data\"=data,\"n_hyper\"=n_hyper) \n",
    "        run_combined_data   = rbind(run_combined_data,run_data_iter)\n",
    "    }\n",
    "    return(run_combined_data)\n",
    "}"
   ]
  },
  {
   "cell_type": "code",
   "execution_count": 4,
   "metadata": {},
   "outputs": [],
   "source": [
    "get_accuracy_data <- function(data_name,model,n_hyper_searches){\n",
    "    accuracy_combined_data   = data.frame()\n",
    "    for(n_hyper_search in n_hyper_searches){\n",
    "        for(distribution in c('normal','logistic','extreme')){\n",
    "            if(n_hyper_search==0){\n",
    "                file_name       = paste('../../../../result/',data_name,'/',model,'/accuracy_',distribution,'_param_0.JSON',sep=\"\")   \n",
    "            }\n",
    "            else if(n_hyper_search==1){\n",
    "                file_name       = paste('../../../../result/',data_name,'/',model,'/accuracy_',distribution,'_param_1_grid_search.JSON',sep=\"\")\n",
    "            }\n",
    "            else if(n_hyper_search==2){\n",
    "                file_name       = paste('../../../../result/',data_name,'/',model,'/accuracy_',distribution,'_param_2_grid_search.JSON',sep=\"\")\n",
    "            }\n",
    "            else if(n_hyper_search==5){\n",
    "                file_name       = paste('../../../../result/',data_name,'/',model,'/accuracy_',distribution,'.JSON',sep=\"\")\n",
    "            }\n",
    "            accuracy     = fromJSON(file = file_name)\n",
    "            distri       = paste(model,distribution,sep=\"_\")\n",
    "            n_fold        = length(names(accuracy))\n",
    "            folds        = names(accuracy)\n",
    "            distri       = rep(distri,n_fold)\n",
    "            accuracys    = as.numeric(accuracy)\n",
    "            attribute_type  = rep(\"Accuracy\",n_fold)\n",
    "            data            = rep(data_name,n_fold)\n",
    "            n_hyper         = rep(n_hyper_search,n_fold)\n",
    "            accuracy_data_iter  = data.frame(\"folds\"=folds,\"models\"=distri,\"attribute\"=accuracys,\"attribute_type\"=attribute_type,\"data\"=data,\"n_hyper\"=n_hyper)\n",
    "            accuracy_combined_data = rbind(accuracy_combined_data,accuracy_data_iter) \n",
    "        }\n",
    "    }\n",
    "    return(accuracy_combined_data)\n",
    "}"
   ]
  },
  {
   "cell_type": "code",
   "execution_count": 5,
   "metadata": {},
   "outputs": [],
   "source": [
    "model            = 'xgboost'\n",
    "n_hyper_searches = c(0,1,2,5)"
   ]
  },
  {
   "cell_type": "code",
   "execution_count": 7,
   "metadata": {},
   "outputs": [],
   "source": [
    "for(i in c(1,2,3,4,5,6,7,8,9,10)){\n",
    "    combined_data        = data.frame()\n",
    "    data_name            = data_name_range[i]\n",
    "    run_data_iter      = get_run_time_data(data_name,model,n_hyper_searches)\n",
    "    accuracy_data_iter = get_accuracy_data(data_name,model,n_hyper_searches)\n",
    "    combined_data      = rbind(combined_data,run_data_iter)\n",
    "    combined_data      = rbind(combined_data,accuracy_data_iter)\n",
    "    fig_name           = paste('../../../../result/combined/combined_',i,'_hyper_search.pdf',sep=\"\")\n",
    "    pdf(fig_name)\n",
    "    p <- ggplot(combined_data, aes(x=attribute,y=models,colour = factor(folds)))+ geom_point(size=5)+labs(color='Folds')\n",
    "    p <- p + facet_grid(n_hyper+data~attribute_type,scales=\"free\")+ theme_bw()\n",
    "    print(p)\n",
    "    dev.off()\n",
    "}"
   ]
  }
 ],
 "metadata": {
  "kernelspec": {
   "display_name": "R",
   "language": "R",
   "name": "ir"
  },
  "language_info": {
   "codemirror_mode": "r",
   "file_extension": ".r",
   "mimetype": "text/x-r-source",
   "name": "R",
   "pygments_lexer": "r",
   "version": "3.6.1"
  }
 },
 "nbformat": 4,
 "nbformat_minor": 4
}
