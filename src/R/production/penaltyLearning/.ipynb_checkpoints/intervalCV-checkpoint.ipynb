{
 "cells": [
  {
   "cell_type": "code",
   "execution_count": 2,
   "metadata": {},
   "outputs": [],
   "source": [
    "library(mboost)\n",
    "library(survival)\n",
    "library(penaltyLearning)\n",
    "library(Hmisc)\n",
    "library(caret)\n",
    "library(rjson)"
   ]
  },
  {
   "cell_type": "code",
   "execution_count": 3,
   "metadata": {},
   "outputs": [],
   "source": [
    "data_import =function(dataname){\n",
    "  filename = paste('https://raw.githubusercontent.com/avinashbarnwal/GSOC-2019/master/AFT/test/data/neuroblastoma-data-master/data/',dataname,'/',sep=\"\")\n",
    "  inputFileName = paste(filename,'inputs.csv',sep=\"\")\n",
    "  labelFileName = paste(filename,'outputs.csv',sep=\"\")\n",
    "  foldsFileName = paste(filename,'cv/equal_labels/folds.csv',sep=\"\")\n",
    "  inputs        = read.table(inputFileName,sep=\",\",header=T,stringsAsFactors = F,row.names=1)\n",
    "  labels        = read.table(labelFileName,sep=\",\",header=T,stringsAsFactors = F,row.names=1)\n",
    "  folds         = read.table(foldsFileName,sep=\",\",header=T,stringsAsFactors = F,row.names=1)\n",
    "  res           = list()\n",
    "  res$inputs    = inputs\n",
    "  res$labels    = labels\n",
    "  res$folds     = folds\n",
    "  return(res)\n",
    "}"
   ]
  },
  {
   "cell_type": "code",
   "execution_count": 4,
   "metadata": {},
   "outputs": [],
   "source": [
    "data_massage = function(inputs,labels){\n",
    "    rownamesInput = rownames(inputs)\n",
    "    inputs        = do.call(data.frame,lapply(inputs, function(x) replace(x, is.infinite(x),NA)))\n",
    "    naColumns     = colnames(inputs)[colSums(is.na(inputs))>0]\n",
    "    noVarCol      = getNonVarCols(inputs)\n",
    "    removeCols    = c(naColumns,noVarCol)\n",
    "    inputs        = inputs[ , !(colnames(inputs) %in% removeCols)]\n",
    "    rownames(inputs) = rownamesInput\n",
    "    labels$min.log.lambda = unlist(lapply(labels$min.log.lambda,exp))\n",
    "    labels$max.log.lambda = unlist(lapply(labels$max.log.lambda,exp))\n",
    "    res        = list()\n",
    "    res$inputs = inputs\n",
    "    res$labels = labels\n",
    "    return(res)\n",
    "}"
   ]
  },
  {
   "cell_type": "code",
   "execution_count": 5,
   "metadata": {},
   "outputs": [],
   "source": [
    "getXY<-function(foldNo,folds,inputs,labels){\n",
    "    test.id       = rownames(subset(folds,fold==foldNo))\n",
    "    train.id      = rownames(subset(folds,fold!=foldNo))\n",
    "    X             = subset(inputs,rownames(inputs) %in% train.id)\n",
    "    X             = as.matrix(X)\n",
    "    X.val         = subset(inputs,rownames(inputs) %in% test.id)\n",
    "    X.val         = as.matrix(X.val)\n",
    "    y.label       = subset(labels,rownames(labels) %in% train.id)\n",
    "    y.label.test  = subset(labels,rownames(labels) %in% test.id)\n",
    "    y.lower       = as.matrix(y.label$min.log.lambda)\n",
    "    y.upper       = as.matrix(y.label$max.log.lambda)\n",
    "    y.lower.val   = as.matrix(y.label.test$min.log.lambda)\n",
    "    y.upper.val   = as.matrix(y.label.test$max.log.lambda)\n",
    "    res           = list()\n",
    "    res$X         = X\n",
    "    res$X.val     = X.val\n",
    "    res$y.lower      = y.lower\n",
    "    res$y.lower.val  = y.lower.val\n",
    "    res$y.upper      = y.upper\n",
    "    res$y.upper.val  = y.upper.val\n",
    "    return(res)\n",
    "}"
   ]
  },
  {
   "cell_type": "code",
   "execution_count": 6,
   "metadata": {},
   "outputs": [],
   "source": [
    "getNonVarCols<-function(data){\n",
    "    var_columns    = apply(inputs,2,var)\n",
    "    resCol         = names(var_columns[var_columns==0.0])\n",
    "    return(resCol)\n",
    "}"
   ]
  },
  {
   "cell_type": "code",
   "execution_count": 7,
   "metadata": {},
   "outputs": [],
   "source": [
    "# Set Parameters\n",
    "dataNameRange       = c('ATAC_JV_adipose','CTCF_TDH_ENCODE','H3K27ac-H3K4me3_TDHAM_BP','H3K27ac_TDH_some','H3K36me3_AM_immune')\n",
    "sigma_range         = c(1,2,5,10,100)\n",
    "distribution_range  = c('normal','logistic','extreme')\n",
    "learning_rate       = 0.1\n",
    "num_round           = 200"
   ]
  },
  {
   "cell_type": "code",
   "execution_count": 8,
   "metadata": {},
   "outputs": [],
   "source": [
    "res                 = data_import(dataNameRange[1])\n",
    "inputs              = res$inputs\n",
    "labels              = res$labels\n",
    "folds               = res$folds\n",
    "resDataMassage      = data_massage(inputs,labels)\n",
    "inputs              = resDataMassage$inputs\n",
    "labels              = resDataMassage$labels\n",
    "fold_iter           = unique(folds$fold)\n",
    "accuracy_fold       = numeric(length(fold_iter))"
   ]
  },
  {
   "cell_type": "code",
   "execution_count": 9,
   "metadata": {},
   "outputs": [],
   "source": [
    "getaccuracy=function(pred,y_lower,y_higher){\n",
    "    res = (pred>=y_lower & pred<=y_higher)\n",
    "    return(res)\n",
    "}"
   ]
  },
  {
   "cell_type": "code",
   "execution_count": 10,
   "metadata": {},
   "outputs": [
    {
     "name": "stdout",
     "output_type": "stream",
     "text": [
      "[1] 2\n"
     ]
    },
    {
     "name": "stderr",
     "output_type": "stream",
     "text": [
      "Loading required namespace: future.apply\n",
      "\n",
      "Loading required namespace: directlabels\n",
      "\n",
      "install.packages(\"directlabels\") for more informative labels on plot.weight\n",
      "\n",
      "Loading required namespace: directlabels\n",
      "\n",
      "install.packages(\"directlabels\") for more informative labels on plot.weight\n",
      "\n",
      "Loading required namespace: directlabels\n",
      "\n",
      "install.packages(\"directlabels\") for more informative labels on plot.weight\n",
      "\n",
      "Loading required namespace: directlabels\n",
      "\n",
      "install.packages(\"directlabels\") for more informative labels on plot.weight\n",
      "\n",
      "Loading required namespace: directlabels\n",
      "\n",
      "install.packages(\"directlabels\") for more informative labels on plot.weight\n",
      "\n"
     ]
    },
    {
     "name": "stdout",
     "output_type": "stream",
     "text": [
      "[1] 4\n"
     ]
    },
    {
     "name": "stderr",
     "output_type": "stream",
     "text": [
      "Loading required namespace: future.apply\n",
      "\n",
      "Loading required namespace: directlabels\n",
      "\n",
      "install.packages(\"directlabels\") for more informative labels on plot.weight\n",
      "\n",
      "Loading required namespace: directlabels\n",
      "\n",
      "install.packages(\"directlabels\") for more informative labels on plot.weight\n",
      "\n",
      "Loading required namespace: directlabels\n",
      "\n",
      "install.packages(\"directlabels\") for more informative labels on plot.weight\n",
      "\n",
      "Loading required namespace: directlabels\n",
      "\n",
      "install.packages(\"directlabels\") for more informative labels on plot.weight\n",
      "\n",
      "Loading required namespace: directlabels\n",
      "\n",
      "install.packages(\"directlabels\") for more informative labels on plot.weight\n",
      "\n"
     ]
    },
    {
     "name": "stdout",
     "output_type": "stream",
     "text": [
      "[1] 1\n"
     ]
    },
    {
     "name": "stderr",
     "output_type": "stream",
     "text": [
      "Loading required namespace: future.apply\n",
      "\n",
      "Loading required namespace: directlabels\n",
      "\n",
      "install.packages(\"directlabels\") for more informative labels on plot.weight\n",
      "\n",
      "Loading required namespace: directlabels\n",
      "\n",
      "install.packages(\"directlabels\") for more informative labels on plot.weight\n",
      "\n",
      "Loading required namespace: directlabels\n",
      "\n",
      "install.packages(\"directlabels\") for more informative labels on plot.weight\n",
      "\n",
      "Loading required namespace: directlabels\n",
      "\n",
      "install.packages(\"directlabels\") for more informative labels on plot.weight\n",
      "\n",
      "Loading required namespace: directlabels\n",
      "\n",
      "install.packages(\"directlabels\") for more informative labels on plot.weight\n",
      "\n"
     ]
    },
    {
     "name": "stdout",
     "output_type": "stream",
     "text": [
      "[1] 3\n"
     ]
    },
    {
     "name": "stderr",
     "output_type": "stream",
     "text": [
      "Loading required namespace: future.apply\n",
      "\n",
      "Loading required namespace: directlabels\n",
      "\n",
      "install.packages(\"directlabels\") for more informative labels on plot.weight\n",
      "\n",
      "Loading required namespace: directlabels\n",
      "\n",
      "install.packages(\"directlabels\") for more informative labels on plot.weight\n",
      "\n",
      "Loading required namespace: directlabels\n",
      "\n",
      "install.packages(\"directlabels\") for more informative labels on plot.weight\n",
      "\n",
      "Loading required namespace: directlabels\n",
      "\n",
      "install.packages(\"directlabels\") for more informative labels on plot.weight\n",
      "\n",
      "Loading required namespace: directlabels\n",
      "\n",
      "install.packages(\"directlabels\") for more informative labels on plot.weight\n",
      "\n"
     ]
    }
   ],
   "source": [
    "for(i in fold_iter){\n",
    "    print(i)\n",
    "    res                 = getXY(i,folds,inputs,labels)\n",
    "    X                   = res$X\n",
    "    X.val               = res$X.val\n",
    "    y.lower             = log(res$y.lower)\n",
    "    y.lower.val         = log(res$y.lower.val)\n",
    "    y.upper             = log(res$y.upper)\n",
    "    y.upper.val         = log(res$y.upper.val)\n",
    "    train.folds         = cut(seq(1,nrow(X)),breaks=5,labels=FALSE)\n",
    "    res                 = list()\n",
    "    target.mat          = cbind(y.lower,y.upper)\n",
    "    fit                 = IntervalRegressionCV(X, target.mat)  \n",
    "    pred.y.val          = predict(fit, X.val)\n",
    "    pred_data           = data.frame(pred.y.val,y.lower.val,y.upper.val)\n",
    "    colnames(pred_data) = c(\"predict\",\"y.lower\",\"y.upper\")\n",
    "    accuracy_fold[i] = sum(mapply(getaccuracy,pred.y.val,y.lower.val,y.upper.val))/length(pred.y.val)\n",
    "    fileName            = paste('../../../../result/ATAC_JV_adipose/intervalCV/',i,\".csv\")\n",
    "    write.table(pred_data,fileName,sep=\",\",col.names=NA)\n",
    "}"
   ]
  },
  {
   "cell_type": "markdown",
   "metadata": {},
   "source": [
    "# Save Accuracy"
   ]
  },
  {
   "cell_type": "code",
   "execution_count": 11,
   "metadata": {},
   "outputs": [],
   "source": [
    "jsonAccuracy = toJSON(accuracy_fold)"
   ]
  },
  {
   "cell_type": "code",
   "execution_count": 12,
   "metadata": {},
   "outputs": [],
   "source": [
    "write(jsonAccuracy, file=\"../../../../result/ATAC_JV_adipose/intervalCV/accuracy.JSON\")"
   ]
  },
  {
   "cell_type": "markdown",
   "metadata": {},
   "source": [
    "# Compare Results"
   ]
  },
  {
   "cell_type": "code",
   "execution_count": 15,
   "metadata": {},
   "outputs": [
    {
     "name": "stdout",
     "output_type": "stream",
     "text": [
      "[1] TRUE\n",
      "[1] TRUE\n",
      "[1] TRUE\n",
      "[1] TRUE\n"
     ]
    }
   ],
   "source": [
    "for(i in fold_iter){\n",
    "    resFileName   = paste(\"https://raw.githubusercontent.com/tdhock/neuroblastoma-data/master/data/ATAC_JV_adipose/cv/equal_labels/testFolds/\",i,\"/randomTrainOrderings/\",i,\"/models/L1reg_linear_all/predictions.csv\",sep=\"\")\n",
    "    out_res_fold  = read.table(resFileName,sep=\",\",header=T,stringsAsFactors = F,row.names=1)\n",
    "    out_res_fold  = out_res_fold[order(row.names(out_res_fold)),]\n",
    "    fileName      = paste('../../../../result/ATAC_JV_adipose/intervalCV/',i,\".csv\")\n",
    "    in_res_fold   = read.table(fileName,sep=\",\",header=T,stringsAsFactors = F,row.names=1)\n",
    "    in_res_fold   = in_res_fold[ order(row.names(in_res_fold)),]\n",
    "    seq_in  = rownames(in_res_fold)\n",
    "    seq_out = rownames(out_res_fold)\n",
    "    print(identical(seq_in,seq_out))\n",
    "    nCOls   = length(colnames(out_res_fold))\n",
    "    pred_col = colnames(out_res_fold)[nCOls]\n",
    "    out_res_fold = data.frame(out_res_fold[,pred_col], row.names=rownames(out_res_fold))\n",
    "    colnames(out_res_fold) = c(\"pred.old\")\n",
    "    in_res_fold = data.frame(in_res_fold[,\"predict\"], row.names=rownames(in_res_fold))\n",
    "    colnames(in_res_fold)  = c(\"pred.new\")\n",
    "    compared_data = merge(x = in_res_fold, y = out_res_fold, by = \"row.names\", all = TRUE)\n",
    "    plot_name = paste('../../../../result/ATAC_JV_adipose/intervalCV/compare_benchmark_',i,'.png',sep=\"\")\n",
    "    png(filename=plot_name)\n",
    "    plot(compared_data$pred.old,compared_data$pred.old,xlab=\"Old Prediction\",ylab=\"New Prediction\")\n",
    "    dev.off()\n",
    "}"
   ]
  },
  {
   "cell_type": "code",
   "execution_count": null,
   "metadata": {},
   "outputs": [],
   "source": []
  }
 ],
 "metadata": {
  "kernelspec": {
   "display_name": "R",
   "language": "R",
   "name": "ir"
  },
  "language_info": {
   "codemirror_mode": "r",
   "file_extension": ".r",
   "mimetype": "text/x-r-source",
   "name": "R",
   "pygments_lexer": "r",
   "version": "3.6.1"
  }
 },
 "nbformat": 4,
 "nbformat_minor": 4
}
