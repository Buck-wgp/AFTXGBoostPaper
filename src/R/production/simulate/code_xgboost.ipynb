{
 "cells": [
  {
   "cell_type": "code",
   "execution_count": 1,
   "metadata": {},
   "outputs": [],
   "source": [
    "import xgboost as xgb\n",
    "import pandas  as pd\n",
    "import numpy   as np\n",
    "from   sklearn.model_selection import KFold\n",
    "import optuna\n",
    "import time\n",
    "import json\n",
    "from   optuna.samplers import TPESampler\n",
    "import functools\n",
    "import os"
   ]
  },
  {
   "cell_type": "code",
   "execution_count": 2,
   "metadata": {},
   "outputs": [],
   "source": [
    "data_name = \"sim_data_1\""
   ]
  },
  {
   "cell_type": "code",
   "execution_count": 3,
   "metadata": {},
   "outputs": [],
   "source": [
    "def data_import(data_name):\n",
    "    filename = \"../../../../data/simulate/\"+data_name+\"/\"\n",
    "    inputFileName  = filename+'input.csv'\n",
    "    targetFileName = filename+'target.csv'\n",
    "    foldFileName   = filename+'folds.csv'\n",
    "    inputs         = pd.read_csv(inputFileName,index_col='id')\n",
    "    targets        = pd.read_csv(targetFileName,index_col='id')\n",
    "    folds          = pd.read_csv(foldFileName,index_col='id')\n",
    "    res            = {}\n",
    "    res['inputs']  = inputs\n",
    "    res['targets'] = targets\n",
    "    res['folds']   = folds\n",
    "    return(res)"
   ]
  },
  {
   "cell_type": "code",
   "execution_count": 4,
   "metadata": {},
   "outputs": [],
   "source": [
    "res = data_import(data_name)"
   ]
  },
  {
   "cell_type": "code",
   "execution_count": 5,
   "metadata": {},
   "outputs": [],
   "source": [
    "folds   = res['folds']\n",
    "targets = res['targets']\n",
    "inputs  = res['inputs']"
   ]
  },
  {
   "cell_type": "code",
   "execution_count": 6,
   "metadata": {},
   "outputs": [],
   "source": [
    "def getXY(foldNo,folds,inputs,targets):\n",
    "    test_id       = list(folds[folds['fold']==foldNo].index)\n",
    "    train_id      = list(folds[folds['fold']!=foldNo].index)\n",
    "    X             = inputs[inputs.index.isin(train_id)]\n",
    "    X_val         = inputs[inputs.index.isin(test_id)]\n",
    "    y_label       = targets[targets.index.isin(train_id)]\n",
    "    y_label_test  = targets[targets.index.isin(test_id)]\n",
    "    y_lower       = y_label['l']\n",
    "    y_upper       = y_label['u']\n",
    "    y_lower_val   = y_label_test['l']\n",
    "    y_upper_val   = y_label_test['u']\n",
    "    res                 = {}\n",
    "    res['X']            = X\n",
    "    res['X_val']        = X_val\n",
    "    res['y_lower']      = y_lower\n",
    "    res['y_lower_val']  = y_lower_val\n",
    "    res['y_upper']      = y_upper\n",
    "    res['y_upper_val']  = y_upper_val\n",
    "    return res"
   ]
  },
  {
   "cell_type": "code",
   "execution_count": 7,
   "metadata": {},
   "outputs": [],
   "source": [
    "def trainModel(X,X_val,y_lower,y_upper,y_lower_val,y_upper_val,params,num_round,distributionCol):\n",
    "    \n",
    "    res    = {}\n",
    "    dtrain = xgb.DMatrix(X)\n",
    "    dtrain.set_float_info(\"label_lower_bound\",y_lower.values)\n",
    "    dtrain.set_float_info(\"label_upper_bound\",y_upper.values)\n",
    "\n",
    "    dtest  = xgb.DMatrix(X_val)\n",
    "    dtest.set_float_info(\"label_lower_bound\",y_lower_val.values)\n",
    "    dtest.set_float_info(\"label_upper_bound\",y_upper_val.values)\n",
    "    \n",
    "    bst    = xgb.train(params,dtrain,num_boost_round=num_round,evals=[(dtrain,\"train\"),(dtest,\"test\")],evals_result=res,verbose_eval=False)\n",
    "    min_val_error = round(np.min(res['test'][distributionCol]),4)\n",
    "    return(min_val_error)"
   ]
  },
  {
   "cell_type": "code",
   "execution_count": 8,
   "metadata": {},
   "outputs": [],
   "source": [
    "def objective(distribution,trial):\n",
    "    SEED         = 1\n",
    "    Kfolds       = KFold(n_splits=5,shuffle=True,random_state=SEED)\n",
    "    num_round    = 5000\n",
    "    res          = 0\n",
    "    # Discrete-uniform parameter\n",
    "    eta              = trial.suggest_discrete_uniform('eta',0.001,1.001,0.1)\n",
    "    max_depth        = trial.suggest_discrete_uniform('max_depth',2, 10,2)\n",
    "    min_child_weight = trial.suggest_discrete_uniform('min_child_weight',0.1,100.1,10)\n",
    "    reg_alpha        = trial.suggest_loguniform('reg_alpha',0.0001,100)\n",
    "    reg_lambda       = trial.suggest_loguniform('reg_lambda',0.0001,100)\n",
    "#     sigma            = trial.suggest_discrete_uniform('sigma',1,100,1)\n",
    "#     distribution     = trial.suggest_categorical('distribution',['normal','logistic','extreme'])\n",
    "    sigma            = 1\n",
    "    \n",
    "    distribution_sigma = distribution+ ',' + str(sigma)\n",
    "    eval_metric     = 'aft-nloglik@'+distribution_sigma\n",
    "    base_score      = 0.5\n",
    "    \n",
    "    params   = {\n",
    "                'eta':eta,\n",
    "                'max_depth':int(max_depth),\n",
    "                'min_child_weight':min_child_weight,\n",
    "                'subsample':0.7,\n",
    "                'reg_alpha':reg_alpha,\n",
    "                'reg_lambda':reg_lambda,\n",
    "                'aft_noise_distribution' : distribution, \n",
    "                'aft_sigma': sigma,\n",
    "                'eval_metric':eval_metric,\n",
    "                'base_score':base_score,\n",
    "                'objective':\"aft:survival\",\n",
    "                'verbosity': 0,\n",
    "                'nthread':-1\n",
    "                }\n",
    "    \n",
    "    for fold_, (trn_idx, val_idx) in enumerate(Kfolds.split(X, y_lower,y_upper)):\n",
    "        tr_x, tr_y_lower,tr_y_upper = X.iloc[trn_idx,:],y_lower.iloc[trn_idx],y_upper.iloc[trn_idx]\n",
    "        vl_x, vl_y_lower,vl_y_upper = X.iloc[val_idx,:], y_lower.iloc[val_idx],y_upper.iloc[val_idx]\n",
    "        res = res + trainModel(tr_x,vl_x,tr_y_lower,tr_y_upper,vl_y_lower,vl_y_upper,params,num_round,distribution_sigma)\n",
    "        \n",
    "    return res"
   ]
  },
  {
   "cell_type": "code",
   "execution_count": 9,
   "metadata": {},
   "outputs": [],
   "source": [
    "global X\n",
    "global X_val\n",
    "global y_lower\n",
    "global y_upper\n",
    "global y_upper_val"
   ]
  },
  {
   "cell_type": "code",
   "execution_count": 10,
   "metadata": {},
   "outputs": [],
   "source": [
    "run_time = {}"
   ]
  },
  {
   "cell_type": "code",
   "execution_count": null,
   "metadata": {},
   "outputs": [
    {
     "name": "stderr",
     "output_type": "stream",
     "text": [
      "\u001b[32m[I 2019-12-29 14:08:04,952]\u001b[0m A new study created with name: no-name-8589f9a6-c368-49b3-8b70-ea004a9e7585\u001b[0m\n"
     ]
    },
    {
     "name": "stdout",
     "output_type": "stream",
     "text": [
      "2 logistic\n"
     ]
    },
    {
     "name": "stderr",
     "output_type": "stream",
     "text": [
      "\u001b[32m[I 2019-12-29 14:22:47,936]\u001b[0m Finished trial#0 resulted in value: 5.0668. Current best value is 5.0668 with parameters: {'eta': 0.401, 'max_depth': 8.0, 'min_child_weight': 0.1, 'reg_alpha': 0.006516215458215695, 'reg_lambda': 0.0007595132328682402}.\u001b[0m\n",
      "\u001b[32m[I 2019-12-29 14:26:13,083]\u001b[0m Finished trial#1 resulted in value: 4.6946. Current best value is 4.6946 with parameters: {'eta': 0.101, 'max_depth': 2.0, 'min_child_weight': 30.1, 'reg_alpha': 0.024021761202431626, 'reg_lambda': 0.17096232052870358}.\u001b[0m\n",
      "\u001b[32m[I 2019-12-29 14:28:43,576]\u001b[0m Finished trial#2 resulted in value: 4.7349. Current best value is 4.6946 with parameters: {'eta': 0.101, 'max_depth': 2.0, 'min_child_weight': 30.1, 'reg_alpha': 0.024021761202431626, 'reg_lambda': 0.17096232052870358}.\u001b[0m\n",
      "\u001b[32m[I 2019-12-29 14:32:47,844]\u001b[0m Finished trial#3 resulted in value: 4.7627. Current best value is 4.6946 with parameters: {'eta': 0.101, 'max_depth': 2.0, 'min_child_weight': 30.1, 'reg_alpha': 0.024021761202431626, 'reg_lambda': 0.17096232052870358}.\u001b[0m\n",
      "\u001b[32m[I 2019-12-29 14:36:57,073]\u001b[0m Finished trial#4 resulted in value: 4.6836. Current best value is 4.6836 with parameters: {'eta': 0.801, 'max_depth': 10.0, 'min_child_weight': 30.1, 'reg_alpha': 1.425396519512469, 'reg_lambda': 18.12737477913364}.\u001b[0m\n",
      "\u001b[32m[I 2019-12-29 14:40:42,624]\u001b[0m Finished trial#5 resulted in value: 4.7191. Current best value is 4.6836 with parameters: {'eta': 0.801, 'max_depth': 10.0, 'min_child_weight': 30.1, 'reg_alpha': 1.425396519512469, 'reg_lambda': 18.12737477913364}.\u001b[0m\n",
      "\u001b[32m[I 2019-12-29 14:44:55,953]\u001b[0m Finished trial#6 resulted in value: 4.6965. Current best value is 4.6836 with parameters: {'eta': 0.801, 'max_depth': 10.0, 'min_child_weight': 30.1, 'reg_alpha': 1.425396519512469, 'reg_lambda': 18.12737477913364}.\u001b[0m\n",
      "\u001b[32m[I 2019-12-29 14:48:41,156]\u001b[0m Finished trial#7 resulted in value: 4.7091. Current best value is 4.6836 with parameters: {'eta': 0.801, 'max_depth': 10.0, 'min_child_weight': 30.1, 'reg_alpha': 1.425396519512469, 'reg_lambda': 18.12737477913364}.\u001b[0m\n",
      "\u001b[32m[I 2019-12-29 14:51:11,389]\u001b[0m Finished trial#8 resulted in value: 4.775399999999999. Current best value is 4.6836 with parameters: {'eta': 0.801, 'max_depth': 10.0, 'min_child_weight': 30.1, 'reg_alpha': 1.425396519512469, 'reg_lambda': 18.12737477913364}.\u001b[0m\n",
      "\u001b[32m[I 2019-12-29 14:57:49,048]\u001b[0m Finished trial#9 resulted in value: 4.796200000000001. Current best value is 4.6836 with parameters: {'eta': 0.801, 'max_depth': 10.0, 'min_child_weight': 30.1, 'reg_alpha': 1.425396519512469, 'reg_lambda': 18.12737477913364}.\u001b[0m\n",
      "\u001b[32m[I 2019-12-29 15:00:53,320]\u001b[0m Finished trial#10 resulted in value: 4.6952. Current best value is 4.6836 with parameters: {'eta': 0.801, 'max_depth': 10.0, 'min_child_weight': 30.1, 'reg_alpha': 1.425396519512469, 'reg_lambda': 18.12737477913364}.\u001b[0m\n",
      "\u001b[32m[I 2019-12-29 15:04:16,300]\u001b[0m Finished trial#11 resulted in value: 4.696. Current best value is 4.6836 with parameters: {'eta': 0.801, 'max_depth': 10.0, 'min_child_weight': 30.1, 'reg_alpha': 1.425396519512469, 'reg_lambda': 18.12737477913364}.\u001b[0m\n",
      "\u001b[32m[I 2019-12-29 15:06:11,266]\u001b[0m Finished trial#12 resulted in value: 4.6882. Current best value is 4.6836 with parameters: {'eta': 0.801, 'max_depth': 10.0, 'min_child_weight': 30.1, 'reg_alpha': 1.425396519512469, 'reg_lambda': 18.12737477913364}.\u001b[0m\n",
      "\u001b[32m[I 2019-12-29 15:08:07,561]\u001b[0m Finished trial#13 resulted in value: 4.697900000000001. Current best value is 4.6836 with parameters: {'eta': 0.801, 'max_depth': 10.0, 'min_child_weight': 30.1, 'reg_alpha': 1.425396519512469, 'reg_lambda': 18.12737477913364}.\u001b[0m\n",
      "\u001b[32m[I 2019-12-29 15:10:17,267]\u001b[0m Finished trial#14 resulted in value: 4.68. Current best value is 4.68 with parameters: {'eta': 0.901, 'max_depth': 2.0, 'min_child_weight': 10.1, 'reg_alpha': 62.2596819599611, 'reg_lambda': 0.2525570725110071}.\u001b[0m\n",
      "\u001b[32m[I 2019-12-29 15:19:41,634]\u001b[0m Finished trial#15 resulted in value: 4.7436. Current best value is 4.68 with parameters: {'eta': 0.901, 'max_depth': 2.0, 'min_child_weight': 10.1, 'reg_alpha': 62.2596819599611, 'reg_lambda': 0.2525570725110071}.\u001b[0m\n",
      "\u001b[32m[I 2019-12-29 16:01:51,065]\u001b[0m Finished trial#16 resulted in value: 4.6861999999999995. Current best value is 4.68 with parameters: {'eta': 0.901, 'max_depth': 2.0, 'min_child_weight': 10.1, 'reg_alpha': 62.2596819599611, 'reg_lambda': 0.2525570725110071}.\u001b[0m\n",
      "\u001b[32m[I 2019-12-29 16:04:38,454]\u001b[0m Finished trial#17 resulted in value: 4.6935. Current best value is 4.68 with parameters: {'eta': 0.901, 'max_depth': 2.0, 'min_child_weight': 10.1, 'reg_alpha': 62.2596819599611, 'reg_lambda': 0.2525570725110071}.\u001b[0m\n",
      "\u001b[32m[I 2019-12-29 16:07:20,773]\u001b[0m Finished trial#18 resulted in value: 4.708600000000001. Current best value is 4.68 with parameters: {'eta': 0.901, 'max_depth': 2.0, 'min_child_weight': 10.1, 'reg_alpha': 62.2596819599611, 'reg_lambda': 0.2525570725110071}.\u001b[0m\n",
      "\u001b[32m[I 2019-12-29 16:09:58,603]\u001b[0m Finished trial#19 resulted in value: 4.711600000000001. Current best value is 4.68 with parameters: {'eta': 0.901, 'max_depth': 2.0, 'min_child_weight': 10.1, 'reg_alpha': 62.2596819599611, 'reg_lambda': 0.2525570725110071}.\u001b[0m\n",
      "\u001b[32m[I 2019-12-29 16:14:00,142]\u001b[0m Finished trial#20 resulted in value: 4.7699. Current best value is 4.68 with parameters: {'eta': 0.901, 'max_depth': 2.0, 'min_child_weight': 10.1, 'reg_alpha': 62.2596819599611, 'reg_lambda': 0.2525570725110071}.\u001b[0m\n",
      "\u001b[32m[I 2019-12-29 16:16:48,489]\u001b[0m Finished trial#21 resulted in value: 4.6826. Current best value is 4.68 with parameters: {'eta': 0.901, 'max_depth': 2.0, 'min_child_weight': 10.1, 'reg_alpha': 62.2596819599611, 'reg_lambda': 0.2525570725110071}.\u001b[0m\n"
     ]
    }
   ],
   "source": [
    "#for fold in np.unique(folds['fold'].values):\n",
    "\n",
    "for fold in [2,3,4]:\n",
    "    \n",
    "    start        = time.time()\n",
    "    res          = getXY(fold,folds,inputs,targets)\n",
    "    X            = res['X']        \n",
    "    X_val        = res['X_val']\n",
    "    y_lower      = res['y_lower']\n",
    "    y_lower_val  = res['y_lower_val']\n",
    "    y_upper      = res['y_upper']\n",
    "    y_upper_val  = res['y_upper_val']\n",
    "    \n",
    "    for distribution in ['logistic','extreme']:\n",
    "        \n",
    "        print(fold,distribution)\n",
    "        sampler = TPESampler(seed=1)  # Make the sampler behave in a deterministic way.\n",
    "        database_name = 'sqlite:///'+str(fold)+\"_\"+distribution+\".db\"\n",
    "        study = optuna.create_study(sampler=sampler,storage=database_name)\n",
    "        study.optimize(functools.partial(objective,distribution), n_trials=100)\n",
    "        trial         = study.best_trial\n",
    "        json_filename = \"../../../../result/simulated/\"+data_name+\"/xgboost/fold\"+str(fold)+'_'+distribution+'_param.json'\n",
    "        with open(json_filename, \"w\") as write_file:\n",
    "            json.dump(trial.params, write_file)\n",
    "    \n",
    "    end            = time.time()\n",
    "    time_taken     = end - start\n",
    "    run_time[fold] = time_taken"
   ]
  },
  {
   "cell_type": "code",
   "execution_count": null,
   "metadata": {},
   "outputs": [],
   "source": []
  }
 ],
 "metadata": {
  "kernelspec": {
   "display_name": "Python 3",
   "language": "python",
   "name": "python3"
  },
  "language_info": {
   "codemirror_mode": {
    "name": "ipython",
    "version": 3
   },
   "file_extension": ".py",
   "mimetype": "text/x-python",
   "name": "python",
   "nbconvert_exporter": "python",
   "pygments_lexer": "ipython3",
   "version": "3.7.4"
  }
 },
 "nbformat": 4,
 "nbformat_minor": 4
}
