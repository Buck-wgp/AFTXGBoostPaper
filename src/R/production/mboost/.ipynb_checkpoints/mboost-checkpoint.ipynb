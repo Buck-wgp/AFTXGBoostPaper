{
 "cells": [
  {
   "cell_type": "code",
   "execution_count": 2,
   "metadata": {},
   "outputs": [],
   "source": [
    "library(tbm)\n",
    "library(tram)\n",
    "library(rjson)"
   ]
  },
  {
   "cell_type": "code",
   "execution_count": 3,
   "metadata": {},
   "outputs": [],
   "source": [
    "data_import = function(data_name){\n",
    "  filename  = paste('https://raw.githubusercontent.com/avinashbarnwal/GSOC-2019/master/AFT/test/data/neuroblastoma-data-master/data/',data_name,'/',sep=\"\")\n",
    "  inputFileName = paste(filename,'inputs.csv',sep=\"\")\n",
    "  labelFileName = paste(filename,'outputs.csv',sep=\"\")\n",
    "  foldsFileName = paste(filename,'cv/equal_labels/folds.csv',sep=\"\")\n",
    "  inputs        = read.table(inputFileName,sep=\",\",header=T,stringsAsFactors = F,row.names=1)\n",
    "  labels        = read.table(labelFileName,sep=\",\",header=T,stringsAsFactors = F,row.names=1)\n",
    "  folds         = read.table(foldsFileName,sep=\",\",header=T,stringsAsFactors = F,row.names=1)\n",
    "  res           = list()\n",
    "  res$inputs    = inputs\n",
    "  res$labels    = labels\n",
    "  res$folds     = folds\n",
    "  return(res)\n",
    "}"
   ]
  },
  {
   "cell_type": "code",
   "execution_count": 4,
   "metadata": {},
   "outputs": [],
   "source": [
    "data_massage = function(inputs,labels){\n",
    "    rownamesInput = rownames(inputs)\n",
    "    inputs        = do.call(data.frame,lapply(inputs, function(x) replace(x, is.infinite(x),NA)))\n",
    "    naColumns     = colnames(inputs)[colSums(is.na(inputs))>0]\n",
    "    noVarCol      = getNonVarCols(inputs)\n",
    "    removeCols    = c(naColumns,noVarCol)\n",
    "    inputs        = inputs[ , !(colnames(inputs) %in% removeCols)]\n",
    "    rownames(inputs) = rownamesInput\n",
    "    labels$min.log.lambda = unlist(lapply(labels$min.log.lambda,exp))\n",
    "    labels$max.log.lambda = unlist(lapply(labels$max.log.lambda,exp))\n",
    "    res        = list()\n",
    "    res$inputs = inputs\n",
    "    res$labels = labels\n",
    "    return(res)\n",
    "}"
   ]
  },
  {
   "cell_type": "code",
   "execution_count": 5,
   "metadata": {},
   "outputs": [],
   "source": [
    "getXY<-function(foldNo,folds,inputs,labels){\n",
    "    test.id       = rownames(subset(folds,fold==foldNo))\n",
    "    train.id      = rownames(subset(folds,fold!=foldNo))\n",
    "    X             = subset(inputs,rownames(inputs) %in% train.id)\n",
    "    X             = as.matrix(X)\n",
    "    X.val         = subset(inputs,rownames(inputs) %in% test.id)\n",
    "    X.val         = as.matrix(X.val)\n",
    "    y.label       = subset(labels,rownames(labels) %in% train.id)\n",
    "    y.label.test  = subset(labels,rownames(labels) %in% test.id)\n",
    "    y.lower       = as.matrix(y.label$min.log.lambda)\n",
    "    y.upper       = as.matrix(y.label$max.log.lambda)\n",
    "    y.lower.val   = as.matrix(y.label.test$min.log.lambda)\n",
    "    y.upper.val   = as.matrix(y.label.test$max.log.lambda)\n",
    "    res           = list()\n",
    "    res$X         = X\n",
    "    res$X.val     = X.val\n",
    "    res$y.lower      = y.lower\n",
    "    res$y.lower.val  = y.lower.val\n",
    "    res$y.upper      = y.upper\n",
    "    res$y.upper.val  = y.upper.val\n",
    "    return(res)\n",
    "}"
   ]
  },
  {
   "cell_type": "code",
   "execution_count": 6,
   "metadata": {},
   "outputs": [],
   "source": [
    "getNonVarCols<-function(data){\n",
    "    var_columns    = apply(data,2,var)\n",
    "    resCol         = names(var_columns[var_columns==0.0])\n",
    "    return(resCol)\n",
    "}"
   ]
  },
  {
   "cell_type": "code",
   "execution_count": 7,
   "metadata": {},
   "outputs": [],
   "source": [
    "getaccuracy=function(pred,y_lower,y_higher){\n",
    "    res = (pred>=y_lower & pred<=y_higher)\n",
    "    return(res)\n",
    "}"
   ]
  },
  {
   "cell_type": "code",
   "execution_count": 8,
   "metadata": {},
   "outputs": [],
   "source": [
    "get_hyper_parameter=function(train,test,y.lower.trn,y.upper.trn,y.lower.tst,y.upper.tst,mboost_grid){\n",
    "    accuracy = numeric(dim(mboost_grid)[1])\n",
    "    for(i in 1:2){\n",
    "        mstop               = mboost_grid[i,1]\n",
    "        nu                  = mboost_grid[i,2]\n",
    "        my.surv             = survival::Surv(y.lower.trn,y.upper.trn,type='interval2')\n",
    "        formula             = as.formula(paste(\"my.surv ~\", paste(colnames(train),collapse=\"+\")))\n",
    "        trn.data            = data.frame(train,y.lower.trn,y.upper.trn)\n",
    "        tst.data            = data.frame(test)\n",
    "        trn.data$y.lower = trn.data$y.upper = NULL\n",
    "        trn.data$my.surv = my.surv\n",
    "        m_mlt            = Survreg(my.surv~1, data = trn.data, dist = \"lognormal\")\n",
    "        bm               = stmboost(m_mlt, formula = formula, data = trn.data,control = boost_control(mstop=mstop,nu=nu,trace=TRUE),method = quote(mboost::mboost))\n",
    "        pred.y.val   = as.numeric(predict(bm,newdata = tst.data,type = \"density\",q = 0.5))\n",
    "        accuracy[i]  = sum(mapply(getaccuracy,pred.y.val,y.lower.tst,y.upper.tst))/length(pred.y.val)\n",
    "        print(pred.y.val)\n",
    "        print(accuracy[i])\n",
    "    }\n",
    "    return(accuracy)\n",
    "}"
   ]
  },
  {
   "cell_type": "code",
   "execution_count": 9,
   "metadata": {},
   "outputs": [],
   "source": [
    "get_prediction=function(train,test,y.lower.trn,y.upper.trn,y.lower.tst,y.upper.tst,mstop,nu){\n",
    "    my.surv             = survival::Surv(y.lower.trn,y.upper.trn,type='interval2')\n",
    "    formula             = as.formula(paste(\"my.surv ~\", paste(colnames(train),collapse=\"+\")))\n",
    "    trn.data            = data.frame(train,y.lower.trn,y.upper.trn)\n",
    "    tst.data            = data.frame(test)\n",
    "    trn.data$y.lower = trn.data$y.upper = NULL\n",
    "    trn.data$my.surv = my.surv\n",
    "    m_mlt            = Survreg(my.surv~1, data = trn.data, dist = \"lognormal\")\n",
    "    bm               = stmboost(m_mlt, formula = formula, data = trn.data,control = boost_control(mstop=mstop,nu=nu,trace=TRUE),method = quote(mboost::mboost))\n",
    "    pred.y.val   = as.numeric(predict(bm,newdata = tst.data,type = \"density\",q = 0.5))\n",
    "    accuracy     = sum(mapply(getaccuracy,pred.y.val,y.lower.tst,y.upper.tst))/length(pred.y.val)\n",
    "    result       = list()\n",
    "    result$pred     = pred.y.val\n",
    "    result$accuracy = accuracy\n",
    "    return(result)\n",
    "}"
   ]
  },
  {
   "cell_type": "code",
   "execution_count": 10,
   "metadata": {},
   "outputs": [],
   "source": [
    "save_prediction = function(pred,y.lower,y.upper,data_name,i){\n",
    "    pred_data           = data.frame(pred,y.lower,y.upper)\n",
    "    colnames(pred_data) = c(\"predict\",\"y.lower\",\"y.upper\")\n",
    "    file_name            = paste(\"../../../../result/\",data_name,\"/mboost/\",i,\".csv\",sep=\"\")\n",
    "    write.table(pred_data,file_name,sep=\",\",col.names=NA)\n",
    "}"
   ]
  },
  {
   "cell_type": "code",
   "execution_count": 11,
   "metadata": {},
   "outputs": [],
   "source": [
    "create_data = function(data_name){\n",
    "    res                 = data_import(data_name)\n",
    "    inputs              = res$inputs\n",
    "    labels              = res$labels\n",
    "    folds               = res$folds\n",
    "    res_data_massage    = data_massage(inputs,labels)\n",
    "    inputs              = res_data_massage$inputs\n",
    "    labels              = res_data_massage$labels\n",
    "    fold_iter           = unique(folds$fold)\n",
    "    accuracy_fold       = numeric(length(fold_iter))\n",
    "    result              = list()\n",
    "    result$fold_iter    = fold_iter\n",
    "    result$folds        = folds\n",
    "    result$inputs       = inputs\n",
    "    result$labels       = labels\n",
    "    return(result)\n",
    "}"
   ]
  },
  {
   "cell_type": "code",
   "execution_count": 22,
   "metadata": {},
   "outputs": [],
   "source": [
    "train_test_model  = function(data_name,mboost_grid){\n",
    "    result        = create_data(data_name)\n",
    "    folds         = result$folds\n",
    "    fold_iter     = result$fold_iter\n",
    "    inputs        = result$inputs\n",
    "    labels        = result$labels\n",
    "    accuracy_fold = list()\n",
    "    for(i in fold_iter){\n",
    "        res                 = getXY(i,folds,inputs,labels)\n",
    "        X                   = res$X\n",
    "        X.val               = res$X.val\n",
    "        y.lower             = res$y.lower\n",
    "        y.lower.val         = res$y.lower.val\n",
    "        y.upper             = res$y.upper\n",
    "        y.upper.val         = res$y.upper.val\n",
    "        train.folds         = cut(seq(1,nrow(X)),breaks=5,labels=FALSE)\n",
    "        res                 = list()\n",
    "        for(j in 1:5){\n",
    "            testIndexes = which(train.folds==j,arr.ind=TRUE)\n",
    "            X.tst        = X[testIndexes, ]\n",
    "            X.trn        = X[-testIndexes, ]\n",
    "            y.lower.trn  = y.lower[-testIndexes,] \n",
    "            y.upper.trn  = y.upper[-testIndexes,]\n",
    "            y.lower.tst  = y.lower[testIndexes,]\n",
    "            y.upper.tst  = y.upper[testIndexes,]\n",
    "            res[[j]]     = get_hyper_parameter(X.trn,X.tst,y.lower.trn,y.upper.trn,y.lower.tst,y.upper.tst,mboost_grid)\n",
    "        }\n",
    "        result = do.call(cbind,res)\n",
    "        result = cbind(result,apply(result,1,mean))\n",
    "        max_index = which.max(result[,6])\n",
    "        best_mstop  = mboost_grid[max_index,1]\n",
    "        best_nu     = mboost_grid[max_index,2]\n",
    "        result             = get_prediction(X,X.val,y.lower,y.upper,y.lower.val,y.upper.val,best_mstop,best_nu)\n",
    "        pred               = result$pred\n",
    "        accuracy_fold[[i]] = result$accuracy\n",
    "        print(\"i\")\n",
    "        print(i)\n",
    "        save_prediction(pred,y.lower.val,y.upper.val,data_name,i)\n",
    "    }\n",
    "    names(accuracy_fold) = fold_iter\n",
    "    return(accuracy_fold)\n",
    "}"
   ]
  },
  {
   "cell_type": "markdown",
   "metadata": {},
   "source": [
    "## Hyper-Parameter - mstop and nu"
   ]
  },
  {
   "cell_type": "code",
   "execution_count": 13,
   "metadata": {},
   "outputs": [],
   "source": [
    "#mboost_grid = expand.grid(mstop = seq(1000, 11000, 2000), nu = c(0.001,0.002,0.003,0.004,0.005,0.006,0.007,0.008,0.009,0.01))"
   ]
  },
  {
   "cell_type": "code",
   "execution_count": 18,
   "metadata": {},
   "outputs": [],
   "source": [
    "mboost_grid = expand.grid(mstop = seq(100, 300, 200), nu = c(0.001,0.002))"
   ]
  },
  {
   "cell_type": "code",
   "execution_count": 19,
   "metadata": {},
   "outputs": [],
   "source": [
    "data_name_range = c('ATAC_JV_adipose','CTCF_TDH_ENCODE','H3K27ac-H3K4me3_TDHAM_BP','H3K27ac_TDH_some','H3K36me3_AM_immune')"
   ]
  },
  {
   "cell_type": "code",
   "execution_count": 23,
   "metadata": {},
   "outputs": [
    {
     "name": "stdout",
     "output_type": "stream",
     "text": [
      "[   1] ...................................... -- risk: 361.613 \n",
      "[  41] ...................................... -- risk: 360.0092 \n",
      "[  81] ..................\n",
      "Final risk: 359.2355 \n"
     ]
    },
    {
     "name": "stderr",
     "output_type": "stream",
     "text": [
      "Warning message in c.basis(bresponse = response, bshifting = shifting):\n",
      "“more than one basis contains an intercept term”\n"
     ]
    },
    {
     "name": "stdout",
     "output_type": "stream",
     "text": [
      " [1] NA NA NA NA NA NA NA NA NA NA NA NA NA NA NA NA NA NA NA NA NA NA NA NA NA\n",
      "[26] NA NA NA NA NA NA NA NA NA NA NA NA NA NA NA NA NA NA NA NA NA NA NA NA NA\n",
      "[51] NA NA NA NA NA NA NA NA NA NA NA NA NA NA NA NA NA NA NA\n",
      "[1] NA\n",
      "[   1] ...................................... -- risk: 361.613 \n",
      "[  41] ...................................... -- risk: 360.0092 \n",
      "[  81] ...................................... -- risk: 358.4801 \n",
      "[ 121] ...................................... -- risk: 357.0214 \n",
      "[ 161] ...................................... -- risk: 355.6297 \n",
      "[ 201] ...................................... -- risk: 354.3017 \n",
      "[ 241] ...................................... -- risk: 353.0337 \n",
      "[ 281] ..................\n",
      "Final risk: 352.4215 \n"
     ]
    },
    {
     "name": "stderr",
     "output_type": "stream",
     "text": [
      "Warning message in c.basis(bresponse = response, bshifting = shifting):\n",
      "“more than one basis contains an intercept term”\n"
     ]
    },
    {
     "name": "stdout",
     "output_type": "stream",
     "text": [
      " [1] NA NA NA NA NA NA NA NA NA NA NA NA NA NA NA NA NA NA NA NA NA NA NA NA NA\n",
      "[26] NA NA NA NA NA NA NA NA NA NA NA NA NA NA NA NA NA NA NA NA NA NA NA NA NA\n",
      "[51] NA NA NA NA NA NA NA NA NA NA NA NA NA NA NA NA NA NA NA\n",
      "[1] NA\n",
      "[   1] ...................................... -- risk: 373.255 \n",
      "[  41] ...................................... -- risk: 371.6915 \n",
      "[  81] ..................\n",
      "Final risk: 370.9413 \n"
     ]
    },
    {
     "name": "stderr",
     "output_type": "stream",
     "text": [
      "Warning message in c.basis(bresponse = response, bshifting = shifting):\n",
      "“more than one basis contains an intercept term”\n"
     ]
    }
   ],
   "source": [
    "accuracy= train_test_model(data_name_range[1],mboost_grid)"
   ]
  },
  {
   "cell_type": "markdown",
   "metadata": {},
   "source": [
    "## Save the JSON ##"
   ]
  },
  {
   "cell_type": "code",
   "execution_count": null,
   "metadata": {},
   "outputs": [],
   "source": [
    "json.accuracy = toJSON(accuracy)\n",
    "file.name    = paste(\"../../../../result/\",data_name,\"/mboost/accuracy.JSON\",sep=\"\")\n",
    "write(json.accuracy, file=file.name)"
   ]
  }
 ],
 "metadata": {
  "kernelspec": {
   "display_name": "R",
   "language": "R",
   "name": "ir"
  },
  "language_info": {
   "codemirror_mode": "r",
   "file_extension": ".r",
   "mimetype": "text/x-r-source",
   "name": "R",
   "pygments_lexer": "r",
   "version": "3.6.1"
  }
 },
 "nbformat": 4,
 "nbformat_minor": 4
}
