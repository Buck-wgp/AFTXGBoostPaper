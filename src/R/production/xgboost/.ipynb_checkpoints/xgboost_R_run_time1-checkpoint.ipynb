{
 "cells": [
  {
   "cell_type": "code",
   "execution_count": 1,
   "metadata": {},
   "outputs": [
    {
     "name": "stderr",
     "output_type": "stream",
     "text": [
      "Loading required package: foreach\n",
      "\n",
      "Loading required package: iterators\n",
      "\n",
      "Loading required package: parallel\n",
      "\n"
     ]
    }
   ],
   "source": [
    "library(xgboost)\n",
    "library(Matrix)\n",
    "library(rjson)\n",
    "library(doParallel)\n",
    "library(jqr)"
   ]
  },
  {
   "cell_type": "markdown",
   "metadata": {},
   "source": [
    "# Set Parameters #"
   ]
  },
  {
   "cell_type": "code",
   "execution_count": 2,
   "metadata": {},
   "outputs": [],
   "source": [
    "data_name_range = c('ATAC_JV_adipose','CTCF_TDH_ENCODE','H3K27ac-H3K4me3_TDHAM_BP',\n",
    "                    'H3K27ac_TDH_some','H3K36me3_AM_immune','H3K27me3_RL_cancer',\n",
    "                    'H3K27me3_TDH_some','H3K36me3_TDH_ENCODE','H3K36me3_TDH_immune','H3K36me3_TDH_other')"
   ]
  },
  {
   "cell_type": "code",
   "execution_count": 24,
   "metadata": {},
   "outputs": [],
   "source": [
    "data_name = data_name_range[10]"
   ]
  },
  {
   "cell_type": "code",
   "execution_count": 25,
   "metadata": {},
   "outputs": [],
   "source": [
    "file_name1   = paste(\"../../../../result/\",data_name,\"/xgboost/run_time_tuning1.json\",sep=\"\")\n",
    "file_name2   = paste(\"../../../../result/\",data_name,\"/xgboost/run_time_tuning2.json\",sep=\"\")\n",
    "run_time1    =  fromJSON(file = file_name1)\n",
    "run_time2    =  fromJSON(file = file_name2)\n",
    "run_time     =  list()\n",
    "run_dis_time =  list()\n",
    "keys         = names(run_time1)\n",
    "for(key in keys){\n",
    "    run_time[[key]] = run_time1[[key]]+run_time2[[key]]\n",
    "}\n",
    "keys  = names(run_time)\n",
    "names = vector()\n",
    "for(key in keys){\n",
    "    for(distribution in c('normal','logistic','extreme')){\n",
    "        new_key = paste(key,\"_\",distribution,sep=\"\")\n",
    "        run_dis_time[[new_key]]=run_time[[key]]/3\n",
    "        names   = c(names,new_key)\n",
    "    }\n",
    "}\n",
    "names(run_dis_time) = names\n",
    "run_time    <- toJSON(run_time)\n",
    "file_name3  <- paste(\"../../../../result/\",data_name,\"/xgboost/run_time_tuning.json\",sep=\"\")\n",
    "write(run_time, file=file_name3)\n",
    "run_dis_time <- toJSON(run_dis_time)\n",
    "file_name4   <- paste(\"../../../../result/\",data_name,\"/xgboost/run_dis_time_tuning.json\",sep=\"\")\n",
    "write(run_dis_time, file=file_name4)"
   ]
  }
 ],
 "metadata": {
  "kernelspec": {
   "display_name": "R",
   "language": "R",
   "name": "ir"
  },
  "language_info": {
   "codemirror_mode": "r",
   "file_extension": ".r",
   "mimetype": "text/x-r-source",
   "name": "R",
   "pygments_lexer": "r",
   "version": "3.6.1"
  }
 },
 "nbformat": 4,
 "nbformat_minor": 4
}
