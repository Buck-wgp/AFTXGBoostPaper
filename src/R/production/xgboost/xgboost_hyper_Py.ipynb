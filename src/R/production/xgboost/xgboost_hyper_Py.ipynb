{
 "cells": [
  {
   "cell_type": "code",
   "execution_count": 1,
   "metadata": {},
   "outputs": [],
   "source": [
    "import xgboost as xgb\n",
    "import pandas  as pd\n",
    "import numpy   as np"
   ]
  },
  {
   "cell_type": "code",
   "execution_count": null,
   "metadata": {},
   "outputs": [],
   "source": [
    "data_import =function(dataname){\n",
    "  filename = paste('https://raw.githubusercontent.com/avinashbarnwal/GSOC-2019/master/AFT/test/data/neuroblastoma-data-master/data/',dataname,'/',sep=\"\")\n",
    "  inputFileName = paste(filename,'inputs.csv',sep=\"\")\n",
    "  labelFileName = paste(filename,'outputs.csv',sep=\"\")\n",
    "  foldsFileName = paste(filename,'cv/equal_labels/folds.csv',sep=\"\")\n",
    "  inputs        = read.table(inputFileName,sep=\",\",header=T,stringsAsFactors = F,row.names=1)\n",
    "  labels        = read.table(labelFileName,sep=\",\",header=T,stringsAsFactors = F,row.names=1)\n",
    "  folds         = read.table(foldsFileName,sep=\",\",header=T,stringsAsFactors = F,row.names=1)\n",
    "  res           = list()\n",
    "  res$inputs    = inputs\n",
    "  res$labels    = labels\n",
    "  res$folds     = folds\n",
    "  return(res)\n",
    "}"
   ]
  },
  {
   "cell_type": "code",
   "execution_count": null,
   "metadata": {},
   "outputs": [],
   "source": [
    "def data_import(dataName):\n",
    "    filename = 'https://raw.githubusercontent.com/avinashbarnwal/GSOC-2019/master/AFT/test/data/neuroblastoma-data-master/data/'+dataname+'/'\n",
    "    inputFileName = filename+'inputs.csv'\n",
    "    labelFileName = filename+'outputs.csv'\n",
    "    foldsFileName = filename+'cv/equal_labels/folds.csv'\n",
    "    inputs        = pd.read_csv(inputFileName,sep=\",\",header=T,stringsAsFactors = F,row.names=1)\n",
    "    labels        = read.table(labelFileName,sep=\",\",header=T,stringsAsFactors = F,row.names=1)\n",
    "    folds         = read.table(foldsFileName,sep=\",\",header=T,stringsAsFactors = F,row.names=1)\n",
    "    res           = list()\n",
    "    res$inputs    = inputs\n",
    "    res$labels    = labels\n",
    "    res$folds     = folds\n",
    "    return(res)"
   ]
  },
  {
   "cell_type": "code",
   "execution_count": 2,
   "metadata": {},
   "outputs": [],
   "source": [
    "dataname = 'ATAC_JV_adipose'"
   ]
  },
  {
   "cell_type": "code",
   "execution_count": 3,
   "metadata": {},
   "outputs": [],
   "source": [
    "filename = 'https://raw.githubusercontent.com/avinashbarnwal/GSOC-2019/master/AFT/test/data/neuroblastoma-data-master/data/'+dataname+'/'\n",
    "inputFileName = filename+'inputs.csv'\n",
    "labelFileName = filename+'outputs.csv'\n",
    "foldsFileName = filename+'cv/equal_labels/folds.csv'\n",
    "inputs        = pd.read_csv(inputFileName,index_col='sequenceID')\n",
    "labels        = pd.read_csv(labelFileName,index_col='sequenceID')\n",
    "folds         = pd.read_csv(foldsFileName,index_col='sequenceID')"
   ]
  },
  {
   "cell_type": "code",
   "execution_count": 4,
   "metadata": {},
   "outputs": [],
   "source": [
    "inputs.replace([-float('inf'),float('inf')],np.nan,inplace=True)"
   ]
  },
  {
   "cell_type": "code",
   "execution_count": 5,
   "metadata": {},
   "outputs": [],
   "source": [
    "missingCols = inputs.isnull().sum()"
   ]
  },
  {
   "cell_type": "code",
   "execution_count": 6,
   "metadata": {},
   "outputs": [],
   "source": [
    "missingCols = list(missingCols[missingCols>0].index)"
   ]
  },
  {
   "cell_type": "code",
   "execution_count": 7,
   "metadata": {},
   "outputs": [],
   "source": [
    "inputs.drop(missingCols,axis=1,inplace=True)"
   ]
  },
  {
   "cell_type": "code",
   "execution_count": 8,
   "metadata": {},
   "outputs": [],
   "source": [
    "varCols     = inputs.apply(lambda x: np.var(x))\n",
    "zeroVarCols = list(varCols[varCols==0].index)"
   ]
  },
  {
   "cell_type": "code",
   "execution_count": 9,
   "metadata": {},
   "outputs": [],
   "source": [
    "inputs.drop(zeroVarCols,axis=1,inplace=True)"
   ]
  },
  {
   "cell_type": "code",
   "execution_count": 10,
   "metadata": {},
   "outputs": [],
   "source": [
    "labels['min.log.lambda'] = labels['min.log.lambda'].apply(lambda x: np.exp(x))\n",
    "labels['max.log.lambda'] = labels['max.log.lambda'].apply(lambda x: np.exp(x))"
   ]
  },
  {
   "cell_type": "code",
   "execution_count": 11,
   "metadata": {},
   "outputs": [],
   "source": [
    "folds[folds['fold']==1]\n",
    "test_id       = list(folds[folds['fold']==1].index)\n",
    "train_id      = list(folds[folds['fold']!=1].index)\n",
    "X             = inputs[inputs.index.isin(train_id)]\n",
    "X_val         = inputs[inputs.index.isin(test_id)]\n",
    "y_label       = labels[labels.index.isin(train_id)]\n",
    "y_label_test  = labels[labels.index.isin(test_id)]\n",
    "y_lower       = y_label['min.log.lambda']\n",
    "y_upper       = y_label['max.log.lambda']\n",
    "y_lower_val   = y_label_test['min.log.lambda']\n",
    "y_upper_val   = y_label_test['max.log.lambda']"
   ]
  },
  {
   "cell_type": "code",
   "execution_count": null,
   "metadata": {},
   "outputs": [],
   "source": [
    "getXY<-function(foldNo,folds,inputs,labels){\n",
    "    test.id       = rownames(subset(folds,fold==foldNo))\n",
    "    train.id      = rownames(subset(folds,fold!=foldNo))\n",
    "    X             = subset(inputs,rownames(inputs) %in% train.id)\n",
    "    X             = as.matrix(X)\n",
    "    X.val         = subset(inputs,rownames(inputs) %in% test.id)\n",
    "    X.val         = as.matrix(X.val)\n",
    "    y.label       = subset(labels,rownames(labels) %in% train.id)\n",
    "    y.label.test  = subset(labels,rownames(labels) %in% test.id)\n",
    "    y.lower       = as.matrix(y.label$min.log.lambda)\n",
    "    y.upper       = as.matrix(y.label$max.log.lambda)\n",
    "    y.lower.val   = as.matrix(y.label.test$min.log.lambda)\n",
    "    y.upper.val   = as.matrix(y.label.test$max.log.lambda)\n",
    "    res           = list()\n",
    "    res$X         = X\n",
    "    res$X.val     = X.val\n",
    "    res$y.lower      = y.lower\n",
    "    res$y.lower.val  = y.lower.val\n",
    "    res$y.upper      = y.upper\n",
    "    res$y.upper.val  = y.upper.val\n",
    "    return(res)\n",
    "}"
   ]
  },
  {
   "cell_type": "code",
   "execution_count": null,
   "metadata": {},
   "outputs": [],
   "source": [
    "trainModel = function(X,X_val,y_lower,y_upper,y_lower_val,y_upper_val,param,num_round){\n",
    "    dtrain = xgb.DMatrix(X)\n",
    "    setinfo(dtrain,'label_lower_bound', y_lower)\n",
    "    setinfo(dtrain,'label_upper_bound', y_upper)\n",
    "    dtest = xgb.DMatrix(X_val)\n",
    "    setinfo(dtest,'label_lower_bound', y_lower_val)\n",
    "    setinfo(dtest,'label_upper_bound', y_upper_val)\n",
    "    watchlist = list(eval = dtest, train = dtrain)\n",
    "    bst       = xgb.train(param, dtrain, num_round, watchlist,verbose = 0)\n",
    "    min_val_error = min(bst$evaluation_log$eval)\n",
    "    return(min_val_error)\n",
    "    #return(0)\n",
    "}"
   ]
  },
  {
   "cell_type": "code",
   "execution_count": 14,
   "metadata": {},
   "outputs": [],
   "source": [
    "dtrain = xgb.DMatrix(X)\n",
    "dtrain.set_float_info(\"label_lower_bound\",y_lower)\n",
    "dtrain.set_float_info(\"label_upper_bound\",y_higher)\n",
    "    \n",
    "dtest  = xgboost.DMatrix(X_val)\n",
    "dtest.set_float_info(\"label_lower_bound\",y_lower_val)\n",
    "dtest.set_float_info(\"label_upper_bound\",y_higher_val)\n",
    "    \n",
    "bst    = xgboost.train(params,dtrain,num_boost_round=100,evals=[(dtrain,\"train\"),(dtest,\"test\")],evals_result=res)"
   ]
  },
  {
   "cell_type": "code",
   "execution_count": null,
   "metadata": {},
   "outputs": [],
   "source": [
    "dtrain.setinfo(dtrain,'label_upper_bound', y_upper)\n",
    "dtest = xgb.DMatrix(X_val)\n",
    "dtest.setinfo(dtest,'label_lower_bound', y_lower_val)\n",
    "dtest.setinfo(dtest,'label_upper_bound', y_upper_val)\n",
    "watchlist = list(eval = dtest, train = dtrain)"
   ]
  }
 ],
 "metadata": {
  "kernelspec": {
   "display_name": "Python 3",
   "language": "python",
   "name": "python3"
  },
  "language_info": {
   "codemirror_mode": {
    "name": "ipython",
    "version": 3
   },
   "file_extension": ".py",
   "mimetype": "text/x-python",
   "name": "python",
   "nbconvert_exporter": "python",
   "pygments_lexer": "ipython3",
   "version": "3.7.4"
  }
 },
 "nbformat": 4,
 "nbformat_minor": 4
}
