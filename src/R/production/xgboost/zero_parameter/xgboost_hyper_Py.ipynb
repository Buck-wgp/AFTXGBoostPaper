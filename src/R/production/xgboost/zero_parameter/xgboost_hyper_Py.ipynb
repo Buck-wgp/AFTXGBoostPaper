{
 "cells": [
  {
   "cell_type": "code",
   "execution_count": null,
   "metadata": {},
   "outputs": [],
   "source": [
    "import xgboost as xgb\n",
    "import pandas  as pd\n",
    "import numpy   as np\n",
    "from   sklearn.model_selection import KFold\n",
    "import optuna\n",
    "import time\n",
    "import json\n",
    "from   optuna.samplers import TPESampler\n",
    "import functools\n",
    "import os"
   ]
  },
  {
   "cell_type": "code",
   "execution_count": null,
   "metadata": {},
   "outputs": [],
   "source": [
    "def data_import(data_name):\n",
    "    filename = 'https://raw.githubusercontent.com/avinashbarnwal/GSOC-2019/master/AFT/test/data/'+data_name+'/'\n",
    "    inputFileName = filename+'inputs.csv'\n",
    "    labelFileName = filename+'outputs.csv'\n",
    "    foldsFileName = filename+'cv/equal_labels/folds.csv'\n",
    "    inputs        = pd.read_csv(inputFileName,index_col='sequenceID')\n",
    "    labels        = pd.read_csv(labelFileName,index_col='sequenceID')\n",
    "    folds         = pd.read_csv(foldsFileName,index_col='sequenceID')\n",
    "    res           = {}\n",
    "    res['inputs'] = inputs\n",
    "    res['labels'] = labels\n",
    "    res['folds']  = folds\n",
    "    return(res)"
   ]
  },
  {
   "cell_type": "code",
   "execution_count": null,
   "metadata": {},
   "outputs": [],
   "source": [
    "def data_massage(inputs,labels):\n",
    "    inputs.replace([-float('inf'),float('inf')],np.nan,inplace=True)\n",
    "    missingCols = inputs.isnull().sum()\n",
    "    missingCols = list(missingCols[missingCols>0].index)\n",
    "    inputs.drop(missingCols,axis=1,inplace=True)\n",
    "    varCols     = inputs.apply(lambda x: np.var(x))\n",
    "    zeroVarCols = list(varCols[varCols==0].index)\n",
    "    inputs.drop(zeroVarCols,axis=1,inplace=True)\n",
    "    labels['min.log.lambda'] = labels['min.log.lambda'].apply(lambda x: np.exp(x))\n",
    "    labels['max.log.lambda'] = labels['max.log.lambda'].apply(lambda x: np.exp(x))\n",
    "    return inputs,labels"
   ]
  },
  {
   "cell_type": "code",
   "execution_count": null,
   "metadata": {},
   "outputs": [],
   "source": [
    "def getXY(foldNo,folds,inputs,labels):\n",
    "    test_id       = list(folds[folds['fold']==foldNo].index)\n",
    "    train_id      = list(folds[folds['fold']!=foldNo].index)\n",
    "    X             = inputs[inputs.index.isin(train_id)]\n",
    "    X_val         = inputs[inputs.index.isin(test_id)]\n",
    "    y_label       = labels[labels.index.isin(train_id)]\n",
    "    y_label_test  = labels[labels.index.isin(test_id)]\n",
    "    y_lower       = y_label['min.log.lambda']\n",
    "    y_upper       = y_label['max.log.lambda']\n",
    "    y_lower_val   = y_label_test['min.log.lambda']\n",
    "    y_upper_val   = y_label_test['max.log.lambda']\n",
    "    res           = {}\n",
    "    res['X']         = X\n",
    "    res['X_val']     = X_val\n",
    "    res['y_lower']      = y_lower\n",
    "    res['y_lower_val']  = y_lower_val\n",
    "    res['y_upper']      = y_upper\n",
    "    res['y_upper_val']  = y_upper_val\n",
    "    return res"
   ]
  },
  {
   "cell_type": "code",
   "execution_count": null,
   "metadata": {},
   "outputs": [],
   "source": [
    "def trainModelIter(X,X_val,y_lower,y_upper,y_lower_val,y_upper_val,params,num_round,distributionCol):\n",
    "    \n",
    "    res    = {}\n",
    "    dtrain = xgb.DMatrix(X)\n",
    "    dtrain.set_float_info(\"label_lower_bound\",y_lower)\n",
    "    dtrain.set_float_info(\"label_upper_bound\",y_upper)\n",
    "\n",
    "    dtest  = xgb.DMatrix(X_val)\n",
    "    dtest.set_float_info(\"label_lower_bound\",y_lower_val)\n",
    "    dtest.set_float_info(\"label_upper_bound\",y_upper_val)\n",
    "\n",
    "    bst       = xgb.train(params,dtrain,num_boost_round=num_round,evals=[(dtrain,\"train\"),(dtest,\"test\")],evals_result=res,verbose_eval=False)\n",
    "    val_error = res['test'][distributionCol]\n",
    "    res_data  = pd.DataFrame()\n",
    "    res_data['error'] = val_error\n",
    "    res_data['trees'] = np.arange(1,5001)\n",
    "    best_round_index  = res_data.idxmin(axis=0, skipna=True)['error']\n",
    "    best_round        = res_data.loc[best_round_index,'trees']\n",
    "    return(best_round)"
   ]
  },
  {
   "cell_type": "code",
   "execution_count": null,
   "metadata": {},
   "outputs": [],
   "source": [
    "#for fold in range(2,3):\n",
    "def get_result(data_name):\n",
    "    inputs,labels,folds = get_data(data_name)\n",
    "    run_time = {}\n",
    "    for fold in np.unique(folds['fold'].values):\n",
    "        start_time   = time.time()\n",
    "        res = getXY(fold,folds,inputs,labels)\n",
    "        X            = res['X']        \n",
    "        X_val        = res['X_val']\n",
    "        y_lower      = res['y_lower']\n",
    "        y_lower_val  = res['y_lower_val']\n",
    "        y_upper      = res['y_upper']\n",
    "        y_upper_val  = res['y_upper_val']\n",
    "        for distribution in ['normal','logistic','extreme']:\n",
    "            if distribution == 'normal':\n",
    "                sigma = 10\n",
    "            elif distribution == 'logistics':\n",
    "                sigma = 1\n",
    "            else:\n",
    "                sigma  = 10\n",
    "            distribution_sigma = distribution+ ',' + str(sigma)\n",
    "            eval_metric        = 'aft-nloglik@'+distribution_sigma\n",
    "            base_score         = 0.5\n",
    "            params   = {\n",
    "                        'eta':eta,\n",
    "                        'max_depth':int(max_depth),\n",
    "                        'min_child_weight':min_child_weight,\n",
    "                        'subsample':0.7,\n",
    "                        'reg_alpha':reg_alpha,\n",
    "                        'reg_lambda':reg_lambda,\n",
    "                        'aft_noise_distribution' : distribution, \n",
    "                        'aft_sigma': sigma,\n",
    "                        'eval_metric':eval_metric,\n",
    "                        'base_score':base_score,\n",
    "                        'objective':\"aft:survival\",\n",
    "                        'random_state':1,\n",
    "                        'verbosity': 0\n",
    "                        }\n",
    "            key = str(fold)+\"_\"+distribution\n",
    "            best_round    = trainModelIter(X,X_val,y_lower,y_upper,y_lower_val,y_upper_val,params,num_round,distribution_sigma)\n",
    "            json_filename = \"../../../../../result/\"+data_name+\"/xgboost/fold\"+str(fold)+'_'+distribution+'_param_0.json'\n",
    "            result_json   = {\n",
    "                            'eta':eta,\n",
    "                            'max_depth':max_depth,\n",
    "                            'min_child_weight':min_child_weight,\n",
    "                            'subsample':0.7,\n",
    "                            'reg_alpha':reg_alpha,\n",
    "                            'reg_lambda':reg_lambda,\n",
    "                            'distribution' : distribution, \n",
    "                            'sigma': sigma,\n",
    "                            'num_round':int(best_round)\n",
    "                            }\n",
    "            with open(json_filename, \"w\") as write_file:\n",
    "                json.dump(result_json, write_file)\n",
    "            end_time        = time.time()\n",
    "            time_taken      = end_time - start_time\n",
    "            key             = str(fold)+\"_\"+distribution\n",
    "            run_time[key]   = time_taken\n",
    "    run_filename = \"../../../../../result/\"+data_name+\"/xgboost/run_dis_time_0_param.json\"\n",
    "    with open(run_filename, \"w\") as write_file:\n",
    "        json.dump(run_time, write_file)"
   ]
  },
  {
   "cell_type": "code",
   "execution_count": null,
   "metadata": {},
   "outputs": [],
   "source": [
    "def get_data(data_name):\n",
    "    data      = data_import(data_name)\n",
    "    inputs    = data['inputs']\n",
    "    labels    = data['labels']\n",
    "    folds     = data['folds']\n",
    "    inputs,labels = data_massage(inputs,labels)\n",
    "    return inputs,labels,folds"
   ]
  },
  {
   "cell_type": "code",
   "execution_count": null,
   "metadata": {},
   "outputs": [],
   "source": [
    "seed         = 1\n",
    "num_round    = 5000\n",
    "eta          = 0.01\n",
    "max_depth    = 4\n",
    "min_child_weight = 0.1\n",
    "reg_alpha        = 0.005\n",
    "reg_lambda       = 0.5"
   ]
  },
  {
   "cell_type": "code",
   "execution_count": null,
   "metadata": {},
   "outputs": [],
   "source": [
    "data_name_domain = ['ATAC_JV_adipose','CTCF_TDH_ENCODE','H3K27ac-H3K4me3_TDHAM_BP',\n",
    "                    'H3K27ac_TDH_some','H3K36me3_AM_immune','H3K27me3_RL_cancer',\n",
    "                    'H3K27me3_TDH_some','H3K36me3_TDH_ENCODE','H3K36me3_TDH_immune','H3K36me3_TDH_other']"
   ]
  },
  {
   "cell_type": "code",
   "execution_count": null,
   "metadata": {},
   "outputs": [],
   "source": [
    "data_name = data_name_domain[9]"
   ]
  },
  {
   "cell_type": "code",
   "execution_count": null,
   "metadata": {},
   "outputs": [],
   "source": [
    "get_result(data_name)"
   ]
  }
 ],
 "metadata": {
  "kernelspec": {
   "display_name": "Python 3",
   "language": "python",
   "name": "python3"
  },
  "language_info": {
   "codemirror_mode": {
    "name": "ipython",
    "version": 3
   },
   "file_extension": ".py",
   "mimetype": "text/x-python",
   "name": "python",
   "nbconvert_exporter": "python",
   "pygments_lexer": "ipython3",
   "version": "3.6.8"
  }
 },
 "nbformat": 4,
 "nbformat_minor": 4
}
