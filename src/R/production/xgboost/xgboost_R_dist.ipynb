{
 "cells": [
  {
   "cell_type": "code",
   "execution_count": 1,
   "metadata": {},
   "outputs": [
    {
     "name": "stderr",
     "output_type": "stream",
     "text": [
      "Loading required package: foreach\n",
      "\n",
      "Loading required package: iterators\n",
      "\n",
      "Loading required package: parallel\n",
      "\n"
     ]
    }
   ],
   "source": [
    "library(xgboost)\n",
    "#library(MlBayesOpt)\n",
    "library(Matrix)\n",
    "library(rjson)\n",
    "#https://gitlab.com/avinashbarnwal/elokaggle/blob/master/code/304_hyperparameter_optuna.ipynb\n",
    "#https://gitlab.com/avinashbarnwal/elokaggle/blob/master/code/302_LGBM_BO_hyperpara.ipynb\n",
    "#https://cran.r-project.org/web/packages/MlBayesOpt/vignettes/MlBayesOpt.html\n",
    "library(doParallel)"
   ]
  },
  {
   "cell_type": "code",
   "execution_count": 2,
   "metadata": {},
   "outputs": [],
   "source": [
    "set.seed(1)"
   ]
  },
  {
   "cell_type": "code",
   "execution_count": 3,
   "metadata": {},
   "outputs": [],
   "source": [
    "data_import =function(dataname){\n",
    "  filename = paste('https://raw.githubusercontent.com/avinashbarnwal/GSOC-2019/master/AFT/test/data/neuroblastoma-data-master/data/',dataname,'/',sep=\"\")\n",
    "  inputFileName = paste(filename,'inputs.csv',sep=\"\")\n",
    "  labelFileName = paste(filename,'outputs.csv',sep=\"\")\n",
    "  foldsFileName = paste(filename,'cv/equal_labels/folds.csv',sep=\"\")\n",
    "  inputs        = read.table(inputFileName,sep=\",\",header=T,stringsAsFactors = F,row.names=1)\n",
    "  labels        = read.table(labelFileName,sep=\",\",header=T,stringsAsFactors = F,row.names=1)\n",
    "  folds         = read.table(foldsFileName,sep=\",\",header=T,stringsAsFactors = F,row.names=1)\n",
    "  res           = list()\n",
    "  res$inputs    = inputs\n",
    "  res$labels    = labels\n",
    "  res$folds     = folds\n",
    "  return(res)\n",
    "}"
   ]
  },
  {
   "cell_type": "code",
   "execution_count": 4,
   "metadata": {},
   "outputs": [],
   "source": [
    "data_massage = function(inputs,labels){\n",
    "    rownamesInput = rownames(inputs)\n",
    "    inputs        = do.call(data.frame,lapply(inputs, function(x) replace(x, is.infinite(x),NA)))\n",
    "    naColumns     = colnames(inputs)[colSums(is.na(inputs))>0]\n",
    "    noVarCol      = getNonVarCols(inputs)\n",
    "    removeCols    = c(naColumns,noVarCol)\n",
    "    inputs        = inputs[ , !(colnames(inputs) %in% removeCols)]\n",
    "    rownames(inputs) = rownamesInput\n",
    "    labels$min.log.lambda = unlist(lapply(labels$min.log.lambda,exp))\n",
    "    labels$max.log.lambda = unlist(lapply(labels$max.log.lambda,exp))\n",
    "    res        = list()\n",
    "    res$inputs = inputs\n",
    "    res$labels = labels\n",
    "    return(res)\n",
    "}"
   ]
  },
  {
   "cell_type": "code",
   "execution_count": 5,
   "metadata": {},
   "outputs": [],
   "source": [
    "getXY<-function(foldNo,folds,inputs,labels){\n",
    "    test.id       = rownames(subset(folds,fold==foldNo))\n",
    "    train.id      = rownames(subset(folds,fold!=foldNo))\n",
    "    X             = subset(inputs,rownames(inputs) %in% train.id)\n",
    "    X             = as.matrix(X)\n",
    "    X.val         = subset(inputs,rownames(inputs) %in% test.id)\n",
    "    X.val         = as.matrix(X.val)\n",
    "    y.label       = subset(labels,rownames(labels) %in% train.id)\n",
    "    y.label.test  = subset(labels,rownames(labels) %in% test.id)\n",
    "    y.lower       = as.matrix(y.label$min.log.lambda)\n",
    "    y.upper       = as.matrix(y.label$max.log.lambda)\n",
    "    y.lower.val   = as.matrix(y.label.test$min.log.lambda)\n",
    "    y.upper.val   = as.matrix(y.label.test$max.log.lambda)\n",
    "    res           = list()\n",
    "    res$X         = X\n",
    "    res$X.val     = X.val\n",
    "    res$y.lower      = y.lower\n",
    "    res$y.lower.val  = y.lower.val\n",
    "    res$y.upper      = y.upper\n",
    "    res$y.upper.val  = y.upper.val\n",
    "    return(res)\n",
    "}"
   ]
  },
  {
   "cell_type": "code",
   "execution_count": 6,
   "metadata": {},
   "outputs": [],
   "source": [
    "getNonVarCols<-function(data){\n",
    "    var_columns    = apply(inputs,2,var)\n",
    "    resCol         = names(var_columns[var_columns==0.0])\n",
    "    return(resCol)\n",
    "}"
   ]
  },
  {
   "cell_type": "code",
   "execution_count": 7,
   "metadata": {},
   "outputs": [],
   "source": [
    "# Set Parameters\n",
    "dataNameRange       = c('ATAC_JV_adipose','CTCF_TDH_ENCODE','H3K27ac-H3K4me3_TDHAM_BP','H3K27ac_TDH_some','H3K36me3_AM_immune')"
   ]
  },
  {
   "cell_type": "code",
   "execution_count": 8,
   "metadata": {},
   "outputs": [],
   "source": [
    "getaccuracy=function(pred,y_lower,y_higher){\n",
    "    res = (pred>=y_lower & pred<=y_higher)\n",
    "    return(res)\n",
    "}"
   ]
  },
  {
   "cell_type": "code",
   "execution_count": 9,
   "metadata": {},
   "outputs": [],
   "source": [
    "trainModel = function(X,X_val,y_lower,y_upper,y_lower_val,y_upper_val,param,num_round){\n",
    "    dtrain = xgb.DMatrix(X)\n",
    "    setinfo(dtrain,'label_lower_bound', y_lower)\n",
    "    setinfo(dtrain,'label_upper_bound', y_upper)\n",
    "    dtest = xgb.DMatrix(X_val)\n",
    "    setinfo(dtest,'label_lower_bound', y_lower_val)\n",
    "    setinfo(dtest,'label_upper_bound', y_upper_val)\n",
    "    watchlist = list(eval = dtest, train = dtrain)\n",
    "    bst       = xgb.train(param, dtrain, num_round, watchlist,verbose = 0)\n",
    "    return(bst)\n",
    "}"
   ]
  },
  {
   "cell_type": "code",
   "execution_count": 28,
   "metadata": {},
   "outputs": [],
   "source": [
    "save_accuracy<-function(data_name,accuracy_fold,distribution,untuned=FALSE){\n",
    "    \n",
    "    if(untuned==FALSE){\n",
    "        jsonAccuracy <- toJSON(accuracy_fold)\n",
    "        file_name = paste(\"../../../../result/\",data_name,\"/xgboost/accuracy_\",distribution,\".JSON\",sep=\"\")\n",
    "        write(jsonAccuracy, file=file_name)\n",
    "    }\n",
    "    else{\n",
    "        jsonAccuracy <- toJSON(accuracy_fold)\n",
    "        file_name = paste(\"../../../../result/\",data_name,\"/xgboost/accuracy_\",distribution,\"_untuned.JSON\",sep=\"\")\n",
    "        write(jsonAccuracy, file=file_name)\n",
    "    }\n",
    "}"
   ]
  },
  {
   "cell_type": "code",
   "execution_count": 29,
   "metadata": {},
   "outputs": [],
   "source": [
    "data_name = dataNameRange[1]\n",
    "res      = data_import(data_name)\n",
    "inputs   = res$inputs\n",
    "labels   = res$labels\n",
    "folds    = res$folds\n",
    "resDataMassage      = data_massage(inputs,labels)\n",
    "inputs              = resDataMassage$inputs\n",
    "labels              = resDataMassage$labels\n",
    "fold_iter           = unique(folds$fold)\n",
    "accuracy_fold       = list()"
   ]
  },
  {
   "cell_type": "code",
   "execution_count": 24,
   "metadata": {},
   "outputs": [],
   "source": [
    "for(distribution in c('normal','logistic','extreme')){\n",
    "    for(i in 1:length(fold_iter)){\n",
    "        res      = getXY(fold_iter[i],folds,inputs,labels)\n",
    "        X        = res$X\n",
    "        X.val  = res$X.val\n",
    "        y.lower= res$y.lower\n",
    "        y.lower.val = res$y.lower.val\n",
    "        y.upper     = res$y.upper\n",
    "        y.upper.val = res$y.upper.val\n",
    "        num_round   = result$num_round\n",
    "        \n",
    "        if(result$num_round==0){\n",
    "            num_round = 100\n",
    "        }\n",
    "        \n",
    "        if(distribution=='extreme'){\n",
    "            aft_sigma = 10\n",
    "        }\n",
    "        else{\n",
    "            aft_sigma = 1\n",
    "            \n",
    "        }\n",
    "        \n",
    "        json_name   = paste(\"../../../../result/\",data_name,\"/xgboost/fold_new\",i,\"_\",distribution,\"_param.json\",sep=\"\")\n",
    "        result      =  fromJSON(file = json_name)\n",
    "        eval_metric = paste(\"aft-nloglik@\",result$distribution,\",\",aft_sigma,sep=\"\")\n",
    "\n",
    "        param = list(eta = result$eta,\n",
    "                     max_depth = result$max_depth,\n",
    "                     min_child_weight = result$min_child_weight,\n",
    "                     subsample = 0.7,\n",
    "                     alpha = result$reg_alpha,\n",
    "                     lambda = result$reg_lambda,\n",
    "#                      aft_sigma = result$sigma,\n",
    "                     aft_sigma = aft_sigma,\n",
    "                     aft_noise_distribution=result$distribution,\n",
    "                     nthread   = -1, \n",
    "                     verbosity = 0,\n",
    "                     eval_metric = eval_metric,\n",
    "                     objective = \"aft:survival\")\n",
    "        bst= trainModel(X,X,y.lower,y.upper,y.lower,y.upper,param,num_round)\n",
    "        dtest = xgb.DMatrix(X.val)\n",
    "        setinfo(dtest,'label_lower_bound', y.lower.val)\n",
    "        setinfo(dtest,'label_upper_bound', y.upper.val)\n",
    "        pred.y.val = predict(bst, dtest)\n",
    "        accuracy_fold[[i]]        = sum(mapply(getaccuracy,pred.y.val,y.lower.val,y.upper.val))/length(pred.y.val)\n",
    "        pred_data               = data.frame(pred.y.val,y.lower.val,y.upper.val)\n",
    "        rownames(pred_data)     = rownames(X.val)\n",
    "        colnames(pred_data) = c(\"predict\",\"y.lower\",\"y.upper\")\n",
    "        fileName            = paste('../../../../result/',data_name,'/xgboost/',i,\"_\",distribution,\".csv\",sep=\"\")\n",
    "        write.table(pred_data,fileName,sep=\",\",col.names=NA)\n",
    "    }\n",
    "    names(accuracy_fold) = 1:length(fold_iter)\n",
    "    save_accuracy(data_name,accuracy_fold,distribution,untuned=FALSE)\n",
    "}"
   ]
  },
  {
   "cell_type": "markdown",
   "metadata": {},
   "source": [
    "### Without - Tuning ###"
   ]
  },
  {
   "cell_type": "code",
   "execution_count": 30,
   "metadata": {},
   "outputs": [],
   "source": [
    "max_depth  =  4\n",
    "subsample  = 0.7\n",
    "reg_alpha  =  1\n",
    "reg_lambda =  2\n",
    "min_child_weight =   3\n",
    "num_round  = 100\n",
    "eta        = 0.01"
   ]
  },
  {
   "cell_type": "code",
   "execution_count": 31,
   "metadata": {},
   "outputs": [],
   "source": [
    "for(distribution in c('normal','logistic','extreme')){\n",
    "    \n",
    "    for(i in 1:length(fold_iter)){\n",
    "        res      = getXY(fold_iter[i],folds,inputs,labels)\n",
    "        X        = res$X\n",
    "        X.val    = res$X.val\n",
    "        y.lower  = res$y.lower\n",
    "        y.lower.val = res$y.lower.val\n",
    "        y.upper     = res$y.upper\n",
    "        y.upper.val = res$y.upper.val\n",
    "        \n",
    "        if(distribution=='extreme'){\n",
    "            aft_sigma = 10\n",
    "        }\n",
    "        else{\n",
    "            aft_sigma = 1\n",
    "            \n",
    "        }\n",
    "\n",
    "        eval_metric = paste(\"aft-nloglik@\",distribution,\",\",aft_sigma,sep=\"\")\n",
    "        param = list(eta = eta,\n",
    "                     max_depth = max_depth,\n",
    "                     min_child_weight = min_child_weight,\n",
    "                     subsample = subsample,\n",
    "                     alpha = reg_alpha,\n",
    "                     lambda = reg_lambda,\n",
    "#                      aft_sigma = result$sigma,\n",
    "                     aft_sigma = aft_sigma,\n",
    "                     aft_noise_distribution=distribution,\n",
    "                     nthread   = -1,\n",
    "                     verbosity = 0,\n",
    "                     eval_metric = eval_metric,\n",
    "                     objective = \"aft:survival\")\n",
    "        \n",
    "        bst= trainModel(X,X,y.lower,y.upper,y.lower,y.upper,param,num_round)\n",
    "        dtest = xgb.DMatrix(X.val)\n",
    "        setinfo(dtest,'label_lower_bound', y.lower.val)\n",
    "        setinfo(dtest,'label_upper_bound', y.upper.val)\n",
    "        pred.y.val = predict(bst, dtest)\n",
    "        accuracy_fold[[i]]        = sum(mapply(getaccuracy,pred.y.val,y.lower.val,y.upper.val))/length(pred.y.val)\n",
    "        pred_data               = data.frame(pred.y.val,y.lower.val,y.upper.val)\n",
    "        rownames(pred_data)     = rownames(X.val)\n",
    "        colnames(pred_data) = c(\"predict\",\"y.lower\",\"y.upper\")\n",
    "        fileName            = paste('../../../../result/',data_name,'/xgboost/',i,\"_\",distribution,\"_untuned.csv\",sep=\"\")\n",
    "        write.table(pred_data,fileName,sep=\",\",col.names=NA)\n",
    "    }\n",
    "    names(accuracy_fold) = 1:length(fold_iter)\n",
    "    save_accuracy(data_name,accuracy_fold,distribution,untuned=TRUE)\n",
    "}"
   ]
  }
 ],
 "metadata": {
  "kernelspec": {
   "display_name": "R",
   "language": "R",
   "name": "ir"
  },
  "language_info": {
   "codemirror_mode": "r",
   "file_extension": ".r",
   "mimetype": "text/x-r-source",
   "name": "R",
   "pygments_lexer": "r",
   "version": "3.6.1"
  }
 },
 "nbformat": 4,
 "nbformat_minor": 4
}
