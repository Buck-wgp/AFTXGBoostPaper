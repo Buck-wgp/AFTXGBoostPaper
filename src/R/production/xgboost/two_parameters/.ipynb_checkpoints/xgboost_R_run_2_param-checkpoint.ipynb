{
 "cells": [
  {
   "cell_type": "code",
   "execution_count": 2,
   "metadata": {},
   "outputs": [],
   "source": [
    "library(xgboost)\n",
    "library(rjson)"
   ]
  },
  {
   "cell_type": "markdown",
   "metadata": {},
   "source": [
    "# Set Parameters #"
   ]
  },
  {
   "cell_type": "code",
   "execution_count": 3,
   "metadata": {},
   "outputs": [],
   "source": [
    "data_name_range = c('ATAC_JV_adipose','CTCF_TDH_ENCODE','H3K27ac-H3K4me3_TDHAM_BP','H3K27ac_TDH_some',\n",
    "                    'H3K36me3_AM_immune','H3K27me3_RL_cancer','H3K27me3_TDH_some','H3K36me3_TDH_ENCODE',\n",
    "                    'H3K36me3_TDH_immune','H3K36me3_TDH_other')"
   ]
  },
  {
   "cell_type": "code",
   "execution_count": 8,
   "metadata": {},
   "outputs": [],
   "source": [
    "get_run_time_accuracy <- function(data_name){\n",
    "\n",
    "file_name1   = paste(\"../../../../result/\",data_name,\"/xgboost/run_time_2_param_tuning1.json\",sep=\"\")\n",
    "file_name2   = paste(\"../../../../result/\",data_name,\"/xgboost/run_time_2_param_tuning2.json\",sep=\"\")\n",
    "run_time1    = fromJSON(file = file_name1)\n",
    "run_time2    = fromJSON(file = file_name2)\n",
    "run_time     = list()\n",
    "run_dis_time = list()\n",
    "keys         = names(run_time1)\n",
    "for(key in keys){\n",
    "    run_time[[key]] = run_time1[[key]]+run_time2[[key]]\n",
    "}\n",
    "keys = names(run_time)\n",
    "names = vector()\n",
    "for(key in keys){\n",
    "    for(distribution in c('normal','logistic','extreme')){\n",
    "        new_key = paste(key,\"_\",distribution,sep=\"\")\n",
    "        run_dis_time[[new_key]]=run_time[[key]]/3\n",
    "        names = c(names,new_key)\n",
    "    }\n",
    "}\n",
    "names(run_dis_time) = names\n",
    "run_time    <- toJSON(run_time)\n",
    "file_name3  <- paste(\"../../../../result/\",data_name,\"/xgboost/run_time_2_param.json\",sep=\"\")\n",
    "write(run_time, file=file_name3)\n",
    "run_dis_time <- toJSON(run_dis_time)\n",
    "file_name4   <- paste(\"../../../../result/\",data_name,\"/xgboost/run_dis_time_2_param.json\",sep=\"\")\n",
    "write(run_dis_time, file=file_name4)\n",
    "}"
   ]
  },
  {
   "cell_type": "code",
   "execution_count": 12,
   "metadata": {},
   "outputs": [],
   "source": [
    "for(i in 1:10){\n",
    "    get_run_time_accuracy(data_name_range[i])\n",
    "}"
   ]
  }
 ],
 "metadata": {
  "kernelspec": {
   "display_name": "R",
   "language": "R",
   "name": "ir"
  },
  "language_info": {
   "codemirror_mode": "r",
   "file_extension": ".r",
   "mimetype": "text/x-r-source",
   "name": "R",
   "pygments_lexer": "r",
   "version": "3.5.3"
  }
 },
 "nbformat": 4,
 "nbformat_minor": 4
}
