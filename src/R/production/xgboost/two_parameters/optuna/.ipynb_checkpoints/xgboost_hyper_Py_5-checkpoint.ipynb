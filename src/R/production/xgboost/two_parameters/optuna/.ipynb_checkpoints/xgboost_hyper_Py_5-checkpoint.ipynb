{
 "cells": [
  {
   "cell_type": "code",
   "execution_count": 1,
   "metadata": {},
   "outputs": [],
   "source": [
    "import xgboost as xgb\n",
    "import pandas  as pd\n",
    "import numpy   as np\n",
    "from   sklearn.model_selection import KFold\n",
    "import optuna\n",
    "import time\n",
    "import json\n",
    "from optuna.samplers import TPESampler\n",
    "import functools"
   ]
  },
  {
   "cell_type": "code",
   "execution_count": 2,
   "metadata": {},
   "outputs": [],
   "source": [
    "def data_import(data_name):\n",
    "    filename = '../../../../../data/'+data_name+'/'\n",
    "    inputFileName = filename+'inputs.csv'\n",
    "    labelFileName = filename+'outputs.csv'\n",
    "    foldsFileName = filename+'cv/equal_labels/folds.csv'\n",
    "    inputs        = pd.read_csv(inputFileName,index_col='sequenceID')\n",
    "    labels        = pd.read_csv(labelFileName,index_col='sequenceID')\n",
    "    folds         = pd.read_csv(foldsFileName,index_col='sequenceID')\n",
    "    res           = {}\n",
    "    res['inputs'] = inputs\n",
    "    res['labels'] = labels\n",
    "    res['folds']  = folds\n",
    "    return(res)"
   ]
  },
  {
   "cell_type": "code",
   "execution_count": 3,
   "metadata": {},
   "outputs": [],
   "source": [
    "def data_massage(inputs,labels):\n",
    "    inputs.replace([-float('inf'),float('inf')],np.nan,inplace=True)\n",
    "    missingCols = inputs.isnull().sum()\n",
    "    missingCols = list(missingCols[missingCols>0].index)\n",
    "    inputs.drop(missingCols,axis=1,inplace=True)\n",
    "    varCols     = inputs.apply(lambda x: np.var(x))\n",
    "    zeroVarCols = list(varCols[varCols==0].index)\n",
    "    inputs.drop(zeroVarCols,axis=1,inplace=True)\n",
    "    labels['min.log.lambda'] = labels['min.log.lambda'].apply(lambda x: np.exp(x))\n",
    "    labels['max.log.lambda'] = labels['max.log.lambda'].apply(lambda x: np.exp(x))\n",
    "    return inputs,labels"
   ]
  },
  {
   "cell_type": "code",
   "execution_count": 4,
   "metadata": {},
   "outputs": [],
   "source": [
    "def getXY(foldNo,folds,inputs,labels):\n",
    "    test_id       = list(folds[folds['fold']==foldNo].index)\n",
    "    train_id      = list(folds[folds['fold']!=foldNo].index)\n",
    "    X             = inputs[inputs.index.isin(train_id)]\n",
    "    X_val         = inputs[inputs.index.isin(test_id)]\n",
    "    y_label       = labels[labels.index.isin(train_id)]\n",
    "    y_label_test  = labels[labels.index.isin(test_id)]\n",
    "    y_lower       = y_label['min.log.lambda']\n",
    "    y_upper       = y_label['max.log.lambda']\n",
    "    y_lower_val   = y_label_test['min.log.lambda']\n",
    "    y_upper_val   = y_label_test['max.log.lambda']\n",
    "    res           = {}\n",
    "    res['X']         = X\n",
    "    res['X_val']     = X_val\n",
    "    res['y_lower']      = y_lower\n",
    "    res['y_lower_val']  = y_lower_val\n",
    "    res['y_upper']      = y_upper\n",
    "    res['y_upper_val']  = y_upper_val\n",
    "    return res"
   ]
  },
  {
   "cell_type": "code",
   "execution_count": 5,
   "metadata": {},
   "outputs": [],
   "source": [
    "def trainModel(X,X_val,y_lower,y_upper,y_lower_val,y_upper_val,params,num_round,distributionCol):\n",
    "    \n",
    "    res    = {}\n",
    "    dtrain = xgb.DMatrix(X)\n",
    "    dtrain.set_float_info(\"label_lower_bound\",y_lower.values)\n",
    "    dtrain.set_float_info(\"label_upper_bound\",y_upper.values)\n",
    "\n",
    "    dtest  = xgb.DMatrix(X_val)\n",
    "    dtest.set_float_info(\"label_lower_bound\",y_lower_val.values)\n",
    "    dtest.set_float_info(\"label_upper_bound\",y_upper_val.values)\n",
    "    \n",
    "    bst    = xgb.train(params,dtrain,num_boost_round=num_round,evals=[(dtrain,\"train\"),(dtest,\"test\")],evals_result=res,verbose_eval=False)\n",
    "    min_val_error = round(np.min(res['test'][distributionCol]),4)\n",
    "    return(min_val_error)"
   ]
  },
  {
   "cell_type": "code",
   "execution_count": 6,
   "metadata": {},
   "outputs": [],
   "source": [
    "def objective(distribution,trial):\n",
    "    \n",
    "    SEED         = 1\n",
    "    Kfolds       = KFold(n_splits=5,shuffle=True,random_state=SEED)\n",
    "    num_round    = 5000\n",
    "    res          = 0\n",
    "    \n",
    "    eta              = trial.suggest_discrete_uniform('eta',0.001,1.001,0.1)\n",
    "    max_depth        = trial.suggest_discrete_uniform('max_depth',2, 10,2)\n",
    "    \n",
    "#     min_child_weight = trial.suggest_discrete_uniform('min_child_weight',0.1,100.1,10)\n",
    "#     reg_alpha        = trial.suggest_loguniform('reg_alpha',0.0001,100)\n",
    "#     reg_lambda       = trial.suggest_loguniform('reg_lambda',0.0001,100)\n",
    "\n",
    "    min_child_weight = 0.1\n",
    "    reg_alpha        = 0.005\n",
    "    reg_lambda       = 0.5\n",
    "    \n",
    "    if distribution =='normal':\n",
    "        sigma  = 10\n",
    "    elif distribution == 'logistic':\n",
    "        sigma  = 1\n",
    "    elif distribution == 'extreme':\n",
    "        sigma  = 10\n",
    "        \n",
    "    \n",
    "    distribution_sigma = distribution+ ',' + str(sigma)\n",
    "    eval_metric     = 'aft-nloglik@'+distribution_sigma\n",
    "    base_score      = 0.5\n",
    "    \n",
    "    params   = {\n",
    "                'eta':eta,\n",
    "                'max_depth':int(max_depth),\n",
    "                'min_child_weight':min_child_weight,\n",
    "                'subsample':0.7,\n",
    "                'reg_alpha':reg_alpha,\n",
    "                'reg_lambda':reg_lambda,\n",
    "                'aft_noise_distribution' : distribution, \n",
    "                'aft_sigma': sigma,\n",
    "                'eval_metric':eval_metric,\n",
    "                'base_score':base_score,\n",
    "                'objective':\"aft:survival\",\n",
    "                'verbosity': 0\n",
    "                }\n",
    "    \n",
    "    for fold_, (trn_idx, val_idx) in enumerate(Kfolds.split(X, y_lower,y_upper)):\n",
    "        tr_x, tr_y_lower,tr_y_upper = X.iloc[trn_idx,:],y_lower.iloc[trn_idx],y_upper.iloc[trn_idx]\n",
    "        vl_x, vl_y_lower,vl_y_upper = X.iloc[val_idx,:], y_lower.iloc[val_idx],y_upper.iloc[val_idx]\n",
    "        res = res + trainModel(tr_x,vl_x,tr_y_lower,tr_y_upper,vl_y_lower,vl_y_upper,params,num_round,distribution_sigma)\n",
    "    return res"
   ]
  },
  {
   "cell_type": "code",
   "execution_count": 7,
   "metadata": {},
   "outputs": [],
   "source": [
    "def best_iter(eta,max_depth,min_child_weight,reg_alpha,reg_lambda,sigma,distribution): \n",
    "    SEED          = 1\n",
    "    Kfolds        = KFold(n_splits=5,shuffle=True,random_state=SEED)\n",
    "    num_round     = 5000\n",
    "    # Discrete-uniform parameter\n",
    "    distributionCol = distribution+ ',' + str(sigma)\n",
    "    eval_metric     = 'aft-nloglik@'+distributionCol\n",
    "    base_score      = 0.5\n",
    "    \n",
    "    params   = {\n",
    "                'eta':eta,\n",
    "                'max_depth':int(max_depth),\n",
    "                'min_child_weight':min_child_weight,\n",
    "                'subsample':0.7,\n",
    "                'reg_alpha':reg_alpha,\n",
    "                'reg_lambda':reg_lambda,\n",
    "                'aft_noise_distribution' : distribution, \n",
    "                'aft_sigma': sigma,\n",
    "                'eval_metric':eval_metric,\n",
    "                'base_score':base_score,\n",
    "                'objective':\"aft:survival\",\n",
    "                'verbosity': 0\n",
    "                }\n",
    "\n",
    "    res_data = pd.DataFrame()\n",
    "    for fold_, (trn_idx, val_idx) in enumerate(Kfolds.split(X, y_lower,y_upper)):\n",
    "        tr_x, tr_y_lower,tr_y_upper = X.iloc[trn_idx,:],y_lower.iloc[trn_idx],y_upper.iloc[trn_idx]\n",
    "        vl_x, vl_y_lower,vl_y_upper = X.iloc[val_idx,:], y_lower.iloc[val_idx],y_upper.iloc[val_idx]\n",
    "        res_data[fold_] = trainModelIter(tr_x,vl_x,tr_y_lower,tr_y_upper,vl_y_lower,vl_y_upper,params,num_round,distributionCol)\n",
    "    res_data['total'] = res_data.sum(axis=1)\n",
    "    res = {}\n",
    "    num_round = res_data.idxmin(axis=0, skipna=True)['total']\n",
    "    res['num_round'] = num_round\n",
    "    res['min_val_error'] = min(res_data['total'])\n",
    "    return res"
   ]
  },
  {
   "cell_type": "code",
   "execution_count": 8,
   "metadata": {},
   "outputs": [],
   "source": [
    "data_name_domain = ['ATAC_JV_adipose','CTCF_TDH_ENCODE','H3K27ac-H3K4me3_TDHAM_BP','H3K27ac_TDH_some','H3K36me3_AM_immune','H3K27me3_RL_cancer','H3K27me3_TDH_some','H3K36me3_TDH_ENCODE','H3K36me3_TDH_immune','H3K36me3_TDH_other']"
   ]
  },
  {
   "cell_type": "code",
   "execution_count": 9,
   "metadata": {},
   "outputs": [],
   "source": [
    "data      = data_import(data_name_domain[5])\n",
    "data_name = data_name_domain[5]"
   ]
  },
  {
   "cell_type": "code",
   "execution_count": 10,
   "metadata": {},
   "outputs": [],
   "source": [
    "inputs = data['inputs']\n",
    "labels = data['labels']\n",
    "folds  = data['folds']"
   ]
  },
  {
   "cell_type": "code",
   "execution_count": 11,
   "metadata": {},
   "outputs": [],
   "source": [
    "inputs,labels = data_massage(inputs,labels)"
   ]
  },
  {
   "cell_type": "code",
   "execution_count": 12,
   "metadata": {},
   "outputs": [],
   "source": [
    "global X\n",
    "global X_val\n",
    "global y_lower\n",
    "global y_upper\n",
    "global y_upper_val"
   ]
  },
  {
   "cell_type": "code",
   "execution_count": 13,
   "metadata": {},
   "outputs": [],
   "source": [
    "run_time = {}"
   ]
  },
  {
   "cell_type": "code",
   "execution_count": 14,
   "metadata": {},
   "outputs": [],
   "source": [
    "optuna.logging.set_verbosity(optuna.logging.WARNING)"
   ]
  },
  {
   "cell_type": "code",
   "execution_count": 17,
   "metadata": {},
   "outputs": [
    {
     "name": "stdout",
     "output_type": "stream",
     "text": [
      "1 normal\n",
      "1 logistic\n"
     ]
    },
    {
     "name": "stderr",
     "output_type": "stream",
     "text": [
      "[W 2019-12-23 06:51:03,869] Setting status of trial#9 as TrialState.FAIL because the objective function returned nan.\n",
      "[W 2019-12-23 06:51:51,710] Setting status of trial#18 as TrialState.FAIL because the objective function returned nan.\n",
      "[W 2019-12-23 06:52:08,937] Setting status of trial#21 as TrialState.FAIL because the objective function returned nan.\n",
      "[W 2019-12-23 06:52:15,276] Setting status of trial#22 as TrialState.FAIL because the objective function returned nan.\n",
      "[W 2019-12-23 06:52:21,573] Setting status of trial#23 as TrialState.FAIL because the objective function returned nan.\n",
      "[W 2019-12-23 06:52:51,438] Setting status of trial#28 as TrialState.FAIL because the objective function returned nan.\n",
      "[W 2019-12-23 06:54:10,072] Setting status of trial#42 as TrialState.FAIL because the objective function returned nan.\n",
      "[W 2019-12-23 06:55:22,743] Setting status of trial#54 as TrialState.FAIL because the objective function returned nan.\n",
      "[W 2019-12-23 06:55:29,422] Setting status of trial#55 as TrialState.FAIL because the objective function returned nan.\n",
      "[W 2019-12-23 06:55:36,138] Setting status of trial#56 as TrialState.FAIL because the objective function returned nan.\n",
      "[W 2019-12-23 06:55:42,454] Setting status of trial#57 as TrialState.FAIL because the objective function returned nan.\n",
      "[W 2019-12-23 06:55:48,734] Setting status of trial#58 as TrialState.FAIL because the objective function returned nan.\n",
      "[W 2019-12-23 06:55:55,088] Setting status of trial#59 as TrialState.FAIL because the objective function returned nan.\n",
      "[W 2019-12-23 06:57:38,944] Setting status of trial#76 as TrialState.FAIL because the objective function returned nan.\n",
      "[W 2019-12-23 06:57:58,841] Setting status of trial#79 as TrialState.FAIL because the objective function returned nan.\n",
      "[W 2019-12-23 06:58:05,323] Setting status of trial#80 as TrialState.FAIL because the objective function returned nan.\n",
      "[W 2019-12-23 06:58:11,630] Setting status of trial#81 as TrialState.FAIL because the objective function returned nan.\n",
      "[W 2019-12-23 06:58:18,156] Setting status of trial#82 as TrialState.FAIL because the objective function returned nan.\n",
      "[W 2019-12-23 06:58:24,427] Setting status of trial#83 as TrialState.FAIL because the objective function returned nan.\n",
      "[W 2019-12-23 06:58:30,744] Setting status of trial#84 as TrialState.FAIL because the objective function returned nan.\n",
      "[W 2019-12-23 06:58:57,717] Setting status of trial#88 as TrialState.FAIL because the objective function returned nan.\n"
     ]
    },
    {
     "name": "stdout",
     "output_type": "stream",
     "text": [
      "1 extreme\n",
      "2 normal\n",
      "2 logistic\n"
     ]
    },
    {
     "name": "stderr",
     "output_type": "stream",
     "text": [
      "[W 2019-12-23 07:21:49,045] Setting status of trial#2 as TrialState.FAIL because the objective function returned nan.\n",
      "[W 2019-12-23 07:22:33,533] Setting status of trial#9 as TrialState.FAIL because the objective function returned nan.\n",
      "[W 2019-12-23 07:23:11,745] Setting status of trial#16 as TrialState.FAIL because the objective function returned nan.\n",
      "[W 2019-12-23 07:23:18,146] Setting status of trial#17 as TrialState.FAIL because the objective function returned nan.\n",
      "[W 2019-12-23 07:23:39,769] Setting status of trial#21 as TrialState.FAIL because the objective function returned nan.\n",
      "[W 2019-12-23 07:23:46,063] Setting status of trial#22 as TrialState.FAIL because the objective function returned nan.\n",
      "[W 2019-12-23 07:24:19,712] Setting status of trial#28 as TrialState.FAIL because the objective function returned nan.\n",
      "[W 2019-12-23 07:24:25,855] Setting status of trial#29 as TrialState.FAIL because the objective function returned nan.\n",
      "[W 2019-12-23 07:24:32,017] Setting status of trial#30 as TrialState.FAIL because the objective function returned nan.\n",
      "[W 2019-12-23 07:24:38,055] Setting status of trial#31 as TrialState.FAIL because the objective function returned nan.\n",
      "[W 2019-12-23 07:24:44,100] Setting status of trial#32 as TrialState.FAIL because the objective function returned nan.\n",
      "[W 2019-12-23 07:24:50,146] Setting status of trial#33 as TrialState.FAIL because the objective function returned nan.\n",
      "[W 2019-12-23 07:24:56,387] Setting status of trial#34 as TrialState.FAIL because the objective function returned nan.\n",
      "[W 2019-12-23 07:25:02,536] Setting status of trial#35 as TrialState.FAIL because the objective function returned nan.\n",
      "[W 2019-12-23 07:25:08,814] Setting status of trial#36 as TrialState.FAIL because the objective function returned nan.\n",
      "[W 2019-12-23 07:25:15,117] Setting status of trial#37 as TrialState.FAIL because the objective function returned nan.\n",
      "[W 2019-12-23 07:25:21,296] Setting status of trial#38 as TrialState.FAIL because the objective function returned nan.\n",
      "[W 2019-12-23 07:25:27,565] Setting status of trial#39 as TrialState.FAIL because the objective function returned nan.\n",
      "[W 2019-12-23 07:25:33,837] Setting status of trial#40 as TrialState.FAIL because the objective function returned nan.\n",
      "[W 2019-12-23 07:25:39,981] Setting status of trial#41 as TrialState.FAIL because the objective function returned nan.\n",
      "[W 2019-12-23 07:25:46,128] Setting status of trial#42 as TrialState.FAIL because the objective function returned nan.\n",
      "[W 2019-12-23 07:25:52,199] Setting status of trial#43 as TrialState.FAIL because the objective function returned nan.\n",
      "[W 2019-12-23 07:25:58,229] Setting status of trial#44 as TrialState.FAIL because the objective function returned nan.\n",
      "[W 2019-12-23 07:26:04,251] Setting status of trial#45 as TrialState.FAIL because the objective function returned nan.\n",
      "[W 2019-12-23 07:26:10,524] Setting status of trial#46 as TrialState.FAIL because the objective function returned nan.\n",
      "[W 2019-12-23 07:26:16,672] Setting status of trial#47 as TrialState.FAIL because the objective function returned nan.\n",
      "[W 2019-12-23 07:26:29,853] Setting status of trial#48 as TrialState.FAIL because the objective function returned nan.\n",
      "[W 2019-12-23 07:26:35,887] Setting status of trial#49 as TrialState.FAIL because the objective function returned nan.\n",
      "[W 2019-12-23 07:26:41,919] Setting status of trial#50 as TrialState.FAIL because the objective function returned nan.\n",
      "[W 2019-12-23 07:26:47,952] Setting status of trial#51 as TrialState.FAIL because the objective function returned nan.\n",
      "[W 2019-12-23 07:27:00,181] Setting status of trial#53 as TrialState.FAIL because the objective function returned nan.\n",
      "[W 2019-12-23 07:27:06,223] Setting status of trial#54 as TrialState.FAIL because the objective function returned nan.\n",
      "[W 2019-12-23 07:27:12,516] Setting status of trial#55 as TrialState.FAIL because the objective function returned nan.\n",
      "[W 2019-12-23 07:27:18,526] Setting status of trial#56 as TrialState.FAIL because the objective function returned nan.\n",
      "[W 2019-12-23 07:27:24,752] Setting status of trial#57 as TrialState.FAIL because the objective function returned nan.\n",
      "[W 2019-12-23 07:27:30,904] Setting status of trial#58 as TrialState.FAIL because the objective function returned nan.\n",
      "[W 2019-12-23 07:27:36,946] Setting status of trial#59 as TrialState.FAIL because the objective function returned nan.\n",
      "[W 2019-12-23 07:27:42,980] Setting status of trial#60 as TrialState.FAIL because the objective function returned nan.\n",
      "[W 2019-12-23 07:28:36,652] Setting status of trial#70 as TrialState.FAIL because the objective function returned nan.\n",
      "[W 2019-12-23 07:28:42,822] Setting status of trial#71 as TrialState.FAIL because the objective function returned nan.\n",
      "[W 2019-12-23 07:28:48,907] Setting status of trial#72 as TrialState.FAIL because the objective function returned nan.\n",
      "[W 2019-12-23 07:28:55,069] Setting status of trial#73 as TrialState.FAIL because the objective function returned nan.\n",
      "[W 2019-12-23 07:29:01,211] Setting status of trial#74 as TrialState.FAIL because the objective function returned nan.\n",
      "[W 2019-12-23 07:29:07,318] Setting status of trial#75 as TrialState.FAIL because the objective function returned nan.\n",
      "[W 2019-12-23 07:29:13,444] Setting status of trial#76 as TrialState.FAIL because the objective function returned nan.\n",
      "[W 2019-12-23 07:29:36,189] Setting status of trial#80 as TrialState.FAIL because the objective function returned nan.\n",
      "[W 2019-12-23 07:29:42,342] Setting status of trial#81 as TrialState.FAIL because the objective function returned nan.\n",
      "[W 2019-12-23 07:29:48,543] Setting status of trial#82 as TrialState.FAIL because the objective function returned nan.\n",
      "[W 2019-12-23 07:29:54,592] Setting status of trial#83 as TrialState.FAIL because the objective function returned nan.\n",
      "[W 2019-12-23 07:30:00,685] Setting status of trial#84 as TrialState.FAIL because the objective function returned nan.\n",
      "[W 2019-12-23 07:30:06,669] Setting status of trial#85 as TrialState.FAIL because the objective function returned nan.\n",
      "[W 2019-12-23 07:30:12,700] Setting status of trial#86 as TrialState.FAIL because the objective function returned nan.\n",
      "[W 2019-12-23 07:30:18,822] Setting status of trial#87 as TrialState.FAIL because the objective function returned nan.\n",
      "[W 2019-12-23 07:30:25,021] Setting status of trial#88 as TrialState.FAIL because the objective function returned nan.\n",
      "[W 2019-12-23 07:30:31,023] Setting status of trial#89 as TrialState.FAIL because the objective function returned nan.\n",
      "[W 2019-12-23 07:30:37,034] Setting status of trial#90 as TrialState.FAIL because the objective function returned nan.\n",
      "[W 2019-12-23 07:30:43,043] Setting status of trial#91 as TrialState.FAIL because the objective function returned nan.\n",
      "[W 2019-12-23 07:30:49,212] Setting status of trial#92 as TrialState.FAIL because the objective function returned nan.\n",
      "[W 2019-12-23 07:30:55,237] Setting status of trial#93 as TrialState.FAIL because the objective function returned nan.\n",
      "[W 2019-12-23 07:31:01,399] Setting status of trial#94 as TrialState.FAIL because the objective function returned nan.\n",
      "[W 2019-12-23 07:31:07,468] Setting status of trial#95 as TrialState.FAIL because the objective function returned nan.\n",
      "[W 2019-12-23 07:31:13,635] Setting status of trial#96 as TrialState.FAIL because the objective function returned nan.\n",
      "[W 2019-12-23 07:31:19,773] Setting status of trial#97 as TrialState.FAIL because the objective function returned nan.\n",
      "[W 2019-12-23 07:31:25,815] Setting status of trial#98 as TrialState.FAIL because the objective function returned nan.\n",
      "[W 2019-12-23 07:31:31,879] Setting status of trial#99 as TrialState.FAIL because the objective function returned nan.\n"
     ]
    },
    {
     "name": "stdout",
     "output_type": "stream",
     "text": [
      "2 extreme\n",
      "3 normal\n",
      "3 logistic\n"
     ]
    },
    {
     "name": "stderr",
     "output_type": "stream",
     "text": [
      "[W 2019-12-23 07:55:34,182] Setting status of trial#19 as TrialState.FAIL because the objective function returned nan.\n",
      "[W 2019-12-23 07:55:41,265] Setting status of trial#20 as TrialState.FAIL because the objective function returned nan.\n",
      "[W 2019-12-23 07:55:48,260] Setting status of trial#21 as TrialState.FAIL because the objective function returned nan.\n",
      "[W 2019-12-23 07:56:38,609] Setting status of trial#29 as TrialState.FAIL because the objective function returned nan.\n",
      "[W 2019-12-23 07:56:45,266] Setting status of trial#30 as TrialState.FAIL because the objective function returned nan.\n",
      "[W 2019-12-23 07:56:52,143] Setting status of trial#31 as TrialState.FAIL because the objective function returned nan.\n",
      "[W 2019-12-23 07:56:58,840] Setting status of trial#32 as TrialState.FAIL because the objective function returned nan.\n",
      "[W 2019-12-23 07:58:11,288] Setting status of trial#44 as TrialState.FAIL because the objective function returned nan.\n",
      "[W 2019-12-23 07:58:18,303] Setting status of trial#45 as TrialState.FAIL because the objective function returned nan.\n",
      "[W 2019-12-23 07:59:33,130] Setting status of trial#57 as TrialState.FAIL because the objective function returned nan.\n",
      "[W 2019-12-23 08:00:42,452] Setting status of trial#68 as TrialState.FAIL because the objective function returned nan.\n",
      "[W 2019-12-23 08:00:49,200] Setting status of trial#69 as TrialState.FAIL because the objective function returned nan.\n",
      "[W 2019-12-23 08:00:55,874] Setting status of trial#70 as TrialState.FAIL because the objective function returned nan.\n",
      "[W 2019-12-23 08:01:48,616] Setting status of trial#77 as TrialState.FAIL because the objective function returned nan.\n",
      "[W 2019-12-23 08:02:13,959] Setting status of trial#81 as TrialState.FAIL because the objective function returned nan.\n",
      "[W 2019-12-23 08:03:06,369] Setting status of trial#89 as TrialState.FAIL because the objective function returned nan.\n",
      "[W 2019-12-23 08:03:13,104] Setting status of trial#90 as TrialState.FAIL because the objective function returned nan.\n",
      "[W 2019-12-23 08:03:26,789] Setting status of trial#92 as TrialState.FAIL because the objective function returned nan.\n",
      "[W 2019-12-23 08:03:33,425] Setting status of trial#93 as TrialState.FAIL because the objective function returned nan.\n",
      "[W 2019-12-23 08:03:40,358] Setting status of trial#94 as TrialState.FAIL because the objective function returned nan.\n",
      "[W 2019-12-23 08:04:07,823] Setting status of trial#98 as TrialState.FAIL because the objective function returned nan.\n"
     ]
    },
    {
     "name": "stdout",
     "output_type": "stream",
     "text": [
      "3 extreme\n",
      "4 normal\n",
      "4 logistic\n"
     ]
    },
    {
     "name": "stderr",
     "output_type": "stream",
     "text": [
      "[W 2019-12-23 08:26:47,638] Setting status of trial#9 as TrialState.FAIL because the objective function returned nan.\n",
      "[W 2019-12-23 08:27:39,849] Setting status of trial#19 as TrialState.FAIL because the objective function returned nan.\n",
      "[W 2019-12-23 08:28:15,271] Setting status of trial#25 as TrialState.FAIL because the objective function returned nan.\n",
      "[W 2019-12-23 08:28:21,461] Setting status of trial#26 as TrialState.FAIL because the objective function returned nan.\n",
      "[W 2019-12-23 08:29:19,320] Setting status of trial#37 as TrialState.FAIL because the objective function returned nan.\n",
      "[W 2019-12-23 08:29:25,393] Setting status of trial#38 as TrialState.FAIL because the objective function returned nan.\n",
      "[W 2019-12-23 08:30:04,447] Setting status of trial#45 as TrialState.FAIL because the objective function returned nan.\n",
      "[W 2019-12-23 08:30:10,499] Setting status of trial#46 as TrialState.FAIL because the objective function returned nan.\n",
      "[W 2019-12-23 08:30:16,693] Setting status of trial#47 as TrialState.FAIL because the objective function returned nan.\n",
      "[W 2019-12-23 08:30:22,594] Setting status of trial#48 as TrialState.FAIL because the objective function returned nan.\n",
      "[W 2019-12-23 08:30:28,506] Setting status of trial#49 as TrialState.FAIL because the objective function returned nan.\n",
      "[W 2019-12-23 08:30:34,577] Setting status of trial#50 as TrialState.FAIL because the objective function returned nan.\n",
      "[W 2019-12-23 08:30:40,487] Setting status of trial#51 as TrialState.FAIL because the objective function returned nan.\n",
      "[W 2019-12-23 08:31:04,952] Setting status of trial#55 as TrialState.FAIL because the objective function returned nan.\n",
      "[W 2019-12-23 08:31:50,651] Setting status of trial#63 as TrialState.FAIL because the objective function returned nan.\n",
      "[W 2019-12-23 08:32:29,332] Setting status of trial#70 as TrialState.FAIL because the objective function returned nan.\n",
      "[W 2019-12-23 08:33:24,231] Setting status of trial#79 as TrialState.FAIL because the objective function returned nan.\n",
      "[W 2019-12-23 08:33:30,433] Setting status of trial#80 as TrialState.FAIL because the objective function returned nan.\n",
      "[W 2019-12-23 08:33:36,488] Setting status of trial#81 as TrialState.FAIL because the objective function returned nan.\n",
      "[W 2019-12-23 08:34:00,951] Setting status of trial#85 as TrialState.FAIL because the objective function returned nan.\n",
      "[W 2019-12-23 08:34:06,865] Setting status of trial#86 as TrialState.FAIL because the objective function returned nan.\n",
      "[W 2019-12-23 08:34:33,458] Setting status of trial#91 as TrialState.FAIL because the objective function returned nan.\n",
      "[W 2019-12-23 08:34:39,472] Setting status of trial#92 as TrialState.FAIL because the objective function returned nan.\n",
      "[W 2019-12-23 08:34:45,635] Setting status of trial#93 as TrialState.FAIL because the objective function returned nan.\n",
      "[W 2019-12-23 08:34:51,845] Setting status of trial#94 as TrialState.FAIL because the objective function returned nan.\n"
     ]
    },
    {
     "name": "stdout",
     "output_type": "stream",
     "text": [
      "4 extreme\n"
     ]
    }
   ],
   "source": [
    "for fold in np.unique(folds['fold'].values):\n",
    "    \n",
    "    start        = time.time()\n",
    "    res          = getXY(fold,folds,inputs,labels)\n",
    "    X            = res['X']        \n",
    "    X_val        = res['X_val']\n",
    "    y_lower      = res['y_lower']\n",
    "    y_lower_val  = res['y_lower_val']\n",
    "    y_upper      = res['y_upper']\n",
    "    y_upper_val  = res['y_upper_val']\n",
    "    \n",
    "    for distribution in ['normal','logistic','extreme']:\n",
    "        print(fold,distribution)\n",
    "        sampler = TPESampler(seed=1)  # Make the sampler behave in a deterministic way.\n",
    "        study = optuna.create_study(sampler=sampler)\n",
    "        study.optimize(functools.partial(objective,distribution), n_trials=100)\n",
    "        trial         = study.best_trial\n",
    "        json_filename = \"../../../../../result/\"+data_name+\"/xgboost/fold\"+str(fold)+'_'+distribution+'_param_2.json'\n",
    "        with open(json_filename, \"w\") as write_file:\n",
    "            json.dump(trial.params, write_file)\n",
    "    end            = time.time()\n",
    "    time_taken     = end - start\n",
    "    run_time[fold] = time_taken"
   ]
  },
  {
   "cell_type": "code",
   "execution_count": 20,
   "metadata": {},
   "outputs": [],
   "source": [
    "run_time1 ={}\n",
    "for key in run_time.keys():\n",
    "    run_time1[str(key)] = run_time[key]"
   ]
  },
  {
   "cell_type": "code",
   "execution_count": 21,
   "metadata": {},
   "outputs": [],
   "source": [
    "json_filename = \"../../../../../result/\"+data_name+\"/xgboost/run_time_2_param_tuning1.json\"\n",
    "with open(json_filename, \"w\") as write_file:\n",
    "    json.dump(run_time1, write_file)"
   ]
  },
  {
   "cell_type": "code",
   "execution_count": 22,
   "metadata": {},
   "outputs": [],
   "source": [
    "def trainModelIter(X,X_val,y_lower,y_upper,y_lower_val,y_upper_val,params,num_round,distributionCol):\n",
    "    \n",
    "    res    = {}\n",
    "    dtrain = xgb.DMatrix(X)\n",
    "    dtrain.set_float_info(\"label_lower_bound\",y_lower)\n",
    "    dtrain.set_float_info(\"label_upper_bound\",y_upper)\n",
    "\n",
    "    dtest  = xgb.DMatrix(X_val)\n",
    "    dtest.set_float_info(\"label_lower_bound\",y_lower_val)\n",
    "    dtest.set_float_info(\"label_upper_bound\",y_upper_val)\n",
    "\n",
    "    bst    = xgb.train(params,dtrain,num_boost_round=num_round,evals=[(dtrain,\"train\"),(dtest,\"test\")],evals_result=res,verbose_eval=False)\n",
    "    val_error = res['test'][distributionCol]\n",
    "    \n",
    "    return(val_error)"
   ]
  },
  {
   "cell_type": "code",
   "execution_count": 23,
   "metadata": {},
   "outputs": [],
   "source": [
    "run_time2 = {}"
   ]
  },
  {
   "cell_type": "code",
   "execution_count": 25,
   "metadata": {},
   "outputs": [],
   "source": [
    "#for fold in range(2,3):\n",
    "for fold in np.unique(folds['fold'].values):\n",
    "    start_time   = time.time()\n",
    "    res = getXY(fold,folds,inputs,labels)\n",
    "    X            = res['X']        \n",
    "    X_val        = res['X_val']\n",
    "    y_lower      = res['y_lower']\n",
    "    y_lower_val  = res['y_lower_val']\n",
    "    y_upper      = res['y_upper']\n",
    "    y_upper_val  = res['y_upper_val']\n",
    "    \n",
    "    for distribution in ['normal','logistic','extreme']:\n",
    "        json_filename = \"../../../../../result/\"+data_name+\"/xgboost/fold\"+str(fold)+'_'+distribution+'_param_2.json'\n",
    "        with open(json_filename, errors='ignore') as json_data:\n",
    "            json_fold = json.load(json_data, strict=False)\n",
    "        eta = json_fold['eta']\n",
    "        max_depth = json_fold['max_depth']\n",
    "        min_child_weight = 0.1\n",
    "        reg_alpha        = 0.005\n",
    "        reg_lambda       = 0.5\n",
    "        sigma= 1\n",
    "        res      = best_iter(eta,max_depth,min_child_weight,reg_alpha,reg_lambda,sigma,distribution)\n",
    "        new_json = {}\n",
    "        new_json['eta'] = eta\n",
    "        new_json['max_depth'] = max_depth\n",
    "        new_json['min_child_weight'] = min_child_weight\n",
    "        new_json['reg_alpha']     = reg_alpha\n",
    "        new_json['reg_lambda']    = reg_lambda\n",
    "        new_json['sigma']         = sigma\n",
    "        new_json['distribution']  = distribution\n",
    "        new_json['num_round']     = int(res['num_round'])\n",
    "        if res['min_val_error'] == float('inf'):\n",
    "            res['min_val_error'] = 10**8\n",
    "        new_json['min_val_error'] = res['min_val_error']\n",
    "        json_filename = \"../../../../../result/\"+data_name+\"/xgboost/fold_new\"+str(fold)+'_'+distribution+'_param_2.json'\n",
    "        with open(json_filename, \"w\") as write_file:\n",
    "             json.dump(new_json, write_file)\n",
    "    end_time        = time.time()\n",
    "    time_taken      = end_time - start_time\n",
    "    run_time2[fold] = time_taken"
   ]
  },
  {
   "cell_type": "markdown",
   "metadata": {},
   "source": [
    "### Choosing best hyperparameter"
   ]
  },
  {
   "cell_type": "code",
   "execution_count": 80,
   "metadata": {},
   "outputs": [],
   "source": [
    "#for fold in range(2,3):\n",
    "for fold in np.unique(folds['fold'].values):\n",
    "    fold_data = pd.DataFrame()\n",
    "    for distribution in ['normal','logistic','extreme']:\n",
    "        json_filename = \"../../../../result/\"+data_name+\"/xgboost/fold_new\"+str(fold)+'_'+distribution+'_param_2.json'\n",
    "        with open(json_filename, errors='ignore') as json_data:\n",
    "            json_fold = json.load(json_data, strict=False)\n",
    "        dist_data = pd.DataFrame.from_dict(json_fold,orient='index',columns=[distribution])\n",
    "        fold_data = pd.concat([fold_data,dist_data],axis=1)\n",
    "    fold_data = fold_data.transpose()\n",
    "    fold_data['min_val_error'] = fold_data['min_val_error'].astype('float')\n",
    "    best_dis   = fold_data['min_val_error'].idxmin()\n",
    "    best_param = fold_data.loc[best_dis]\n",
    "    json_filename = \"../../../../result/\"+data_name+\"/xgboost/fold_new\"+str(fold)+'_dis'+'_param_2.json'\n",
    "    best_param = best_param.to_dict()\n",
    "    with open(json_filename, \"w\") as write_file:\n",
    "        json.dump(best_param, write_file)"
   ]
  },
  {
   "cell_type": "code",
   "execution_count": 26,
   "metadata": {},
   "outputs": [],
   "source": [
    "run_time3 ={}\n",
    "for key in run_time2.keys():\n",
    "    run_time3[str(key)] = run_time2[key]"
   ]
  },
  {
   "cell_type": "code",
   "execution_count": 27,
   "metadata": {},
   "outputs": [],
   "source": [
    "json_filename = \"../../../../../result/\"+data_name+\"/xgboost/run_time_2_param_tuning2.json\"\n",
    "with open(json_filename, \"w\") as write_file:\n",
    "    json.dump(run_time3, write_file)"
   ]
  }
 ],
 "metadata": {
  "kernelspec": {
   "display_name": "Python 3",
   "language": "python",
   "name": "python3"
  },
  "language_info": {
   "codemirror_mode": {
    "name": "ipython",
    "version": 3
   },
   "file_extension": ".py",
   "mimetype": "text/x-python",
   "name": "python",
   "nbconvert_exporter": "python",
   "pygments_lexer": "ipython3",
   "version": "3.6.8"
  }
 },
 "nbformat": 4,
 "nbformat_minor": 4
}
